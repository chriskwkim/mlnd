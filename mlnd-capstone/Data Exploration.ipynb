{
 "cells": [
  {
   "cell_type": "code",
   "execution_count": 233,
   "metadata": {},
   "outputs": [
    {
     "name": "stdout",
     "output_type": "stream",
     "text": [
      "env: JOBLIB_TEMP_FOLDER=/tmp\n"
     ]
    }
   ],
   "source": [
    "import pandas as pd\n",
    "import numpy as np\n",
    "import matplotlib.pyplot as plt\n",
    "%matplotlib inline\n",
    "\n",
    "import altair as alt\n",
    "alt.renderers.enable('notebook')\n",
    "%env JOBLIB_TEMP_FOLDER=/tmp\n",
    "\n",
    "# Preprocessing, modelling and evaluating\n",
    "from sklearn import preprocessing\n",
    "from sklearn.metrics import confusion_matrix, roc_auc_score\n",
    "from sklearn.model_selection import StratifiedKFold, cross_val_score, KFold\n",
    "from xgboost import XGBClassifier\n",
    "import xgboost as xgb\n",
    "\n",
    "from altair.vega import v5\n",
    "from IPython.display import HTML"
   ]
  },
  {
   "cell_type": "code",
   "execution_count": 234,
   "metadata": {},
   "outputs": [],
   "source": [
    "# Memory saving function credit to https://www.kaggle.com/gemartin/load-data-reduce-memory-usage\n",
    "def reduce_mem_usage(df):\n",
    "    \"\"\" iterate through all the columns of a dataframe and modify the data type\n",
    "        to reduce memory usage.\n",
    "    \"\"\"\n",
    "    start_mem = df.memory_usage().sum() / 1024**2\n",
    "    \n",
    "    for col in df.columns:\n",
    "        col_type = df[col].dtype\n",
    "        \n",
    "        if col_type != object:\n",
    "            c_min = df[col].min()\n",
    "            c_max = df[col].max()\n",
    "            if str(col_type)[:3] == 'int':\n",
    "                if c_min > np.iinfo(np.int8).min and c_max < np.iinfo(np.int8).max:\n",
    "                    df[col] = df[col].astype(np.int8)\n",
    "                elif c_min > np.iinfo(np.int16).min and c_max < np.iinfo(np.int16).max:\n",
    "                    df[col] = df[col].astype(np.int16)\n",
    "                elif c_min > np.iinfo(np.int32).min and c_max < np.iinfo(np.int32).max:\n",
    "                    df[col] = df[col].astype(np.int32)\n",
    "                elif c_min > np.iinfo(np.int64).min and c_max < np.iinfo(np.int64).max:\n",
    "                    df[col] = df[col].astype(np.int64)  \n",
    "            else:\n",
    "                if c_min > np.finfo(np.float16).min and c_max < np.finfo(np.float16).max:\n",
    "                    df[col] = df[col].astype(np.float16)\n",
    "                elif c_min > np.finfo(np.float32).min and c_max < np.finfo(np.float32).max:\n",
    "                    df[col] = df[col].astype(np.float32)\n",
    "                else:\n",
    "                    df[col] = df[col].astype(np.float64)\n",
    "        #else:\n",
    "            #df[col] = df[col].astype('category')\n",
    "\n",
    "    end_mem = df.memory_usage().sum() / 1024**2\n",
    "    print('Memory usage of dataframe is {:.2f} MB --> {:.2f} MB (Decreased by {:.1f}%)'.format(\n",
    "        start_mem, end_mem, 100 * (start_mem - end_mem) / start_mem))\n",
    "    return df"
   ]
  },
  {
   "cell_type": "code",
   "execution_count": 235,
   "metadata": {},
   "outputs": [
    {
     "name": "stdout",
     "output_type": "stream",
     "text": [
      "Train identity:(144233, 41)\n",
      "Train transaction:(590540, 394)\n"
     ]
    }
   ],
   "source": [
    "train_identity = pd.read_csv('data/train_identity.csv')\n",
    "print(\"Train identity:{}\".format(train_identity.shape))\n",
    "train_transaction = pd.read_csv('data/train_transaction.csv')\n",
    "print(\"Train transaction:{}\".format(train_transaction.shape))"
   ]
  },
  {
   "cell_type": "code",
   "execution_count": 236,
   "metadata": {},
   "outputs": [
    {
     "name": "stdout",
     "output_type": "stream",
     "text": [
      "Memory usage of dataframe is 45.12 MB --> 25.86 MB (Decreased by 42.7%)\n",
      "Memory usage of dataframe is 1775.15 MB --> 542.35 MB (Decreased by 69.4%)\n"
     ]
    }
   ],
   "source": [
    "train_identity = reduce_mem_usage(train_identity)\n",
    "train_transaction = reduce_mem_usage(train_transaction)"
   ]
  },
  {
   "cell_type": "markdown",
   "metadata": {},
   "source": [
    "# Identity Data\n",
    "Variables in this table are identity information – network connection information (IP, ISP, Proxy, etc) and digital signature (UA/browser/os/version, etc) associated with transactions.\n",
    "They're collected by Vesta’s fraud protection system and digital security partners.\n",
    "(The field names are masked and pairwise dictionary will not be provided for privacy protection and contract agreement)\n",
    "\n",
    "- Categorical Features:\n",
    "- DeviceType\n",
    "- DeviceInfo\n",
    "- id12 - id38\n",
    "\n",
    "# Transaction Data\n",
    "- TransactionDT: timedelta from a given reference datetime (not an actual timestamp)\n",
    "- TransactionAMT: transaction payment amount in USD\n",
    "- ProductCD: product code, the product for each transaction\n",
    "- card1 - card6: payment card information, such as card type, card category, issue bank, country, etc.\n",
    "- addr: address\n",
    "- dist: distance\n",
    "- P_ and (R__) emaildomain: purchaser and recipient email domain\n",
    "- C1-C14: counting, such as how many addresses are found to be associated with the payment card, etc. The actual meaning is masked.\n",
    "- D1-D15: timedelta, such as days between previous transaction, etc.\n",
    "- M1-M9: match, such as names on card and address, etc.\n",
    "- Vxxx: Vesta engineered rich features, including ranking, counting, and other entity relations.\n",
    "\n",
    "Categorical Features:\n",
    "- ProductCD\n",
    "- card1 - card6\n",
    "- addr1, addr2\n",
    "- Pemaildomain Remaildomain\n",
    "- M1 - M9\n",
    "\n",
    "https://www.kaggle.com/c/ieee-fraud-detection/discussion/101203#latest-628660"
   ]
  },
  {
   "cell_type": "code",
   "execution_count": 237,
   "metadata": {},
   "outputs": [
    {
     "data": {
      "text/html": [
       "<div>\n",
       "<style scoped>\n",
       "    .dataframe tbody tr th:only-of-type {\n",
       "        vertical-align: middle;\n",
       "    }\n",
       "\n",
       "    .dataframe tbody tr th {\n",
       "        vertical-align: top;\n",
       "    }\n",
       "\n",
       "    .dataframe thead th {\n",
       "        text-align: right;\n",
       "    }\n",
       "</style>\n",
       "<table border=\"1\" class=\"dataframe\">\n",
       "  <thead>\n",
       "    <tr style=\"text-align: right;\">\n",
       "      <th></th>\n",
       "      <th>TransactionID</th>\n",
       "      <th>id_01</th>\n",
       "      <th>id_02</th>\n",
       "      <th>id_03</th>\n",
       "      <th>id_04</th>\n",
       "      <th>id_05</th>\n",
       "      <th>id_06</th>\n",
       "      <th>id_07</th>\n",
       "      <th>id_08</th>\n",
       "      <th>id_09</th>\n",
       "      <th>...</th>\n",
       "      <th>id_31</th>\n",
       "      <th>id_32</th>\n",
       "      <th>id_33</th>\n",
       "      <th>id_34</th>\n",
       "      <th>id_35</th>\n",
       "      <th>id_36</th>\n",
       "      <th>id_37</th>\n",
       "      <th>id_38</th>\n",
       "      <th>DeviceType</th>\n",
       "      <th>DeviceInfo</th>\n",
       "    </tr>\n",
       "  </thead>\n",
       "  <tbody>\n",
       "    <tr>\n",
       "      <th>0</th>\n",
       "      <td>2987004</td>\n",
       "      <td>0.0</td>\n",
       "      <td>70787.0</td>\n",
       "      <td>NaN</td>\n",
       "      <td>NaN</td>\n",
       "      <td>NaN</td>\n",
       "      <td>NaN</td>\n",
       "      <td>NaN</td>\n",
       "      <td>NaN</td>\n",
       "      <td>NaN</td>\n",
       "      <td>...</td>\n",
       "      <td>samsung browser 6.2</td>\n",
       "      <td>32.0</td>\n",
       "      <td>2220x1080</td>\n",
       "      <td>match_status:2</td>\n",
       "      <td>T</td>\n",
       "      <td>F</td>\n",
       "      <td>T</td>\n",
       "      <td>T</td>\n",
       "      <td>mobile</td>\n",
       "      <td>SAMSUNG SM-G892A Build/NRD90M</td>\n",
       "    </tr>\n",
       "    <tr>\n",
       "      <th>1</th>\n",
       "      <td>2987008</td>\n",
       "      <td>-5.0</td>\n",
       "      <td>98945.0</td>\n",
       "      <td>NaN</td>\n",
       "      <td>NaN</td>\n",
       "      <td>0.0</td>\n",
       "      <td>-5.0</td>\n",
       "      <td>NaN</td>\n",
       "      <td>NaN</td>\n",
       "      <td>NaN</td>\n",
       "      <td>...</td>\n",
       "      <td>mobile safari 11.0</td>\n",
       "      <td>32.0</td>\n",
       "      <td>1334x750</td>\n",
       "      <td>match_status:1</td>\n",
       "      <td>T</td>\n",
       "      <td>F</td>\n",
       "      <td>F</td>\n",
       "      <td>T</td>\n",
       "      <td>mobile</td>\n",
       "      <td>iOS Device</td>\n",
       "    </tr>\n",
       "    <tr>\n",
       "      <th>2</th>\n",
       "      <td>2987010</td>\n",
       "      <td>-5.0</td>\n",
       "      <td>191631.0</td>\n",
       "      <td>0.0</td>\n",
       "      <td>0.0</td>\n",
       "      <td>0.0</td>\n",
       "      <td>0.0</td>\n",
       "      <td>NaN</td>\n",
       "      <td>NaN</td>\n",
       "      <td>0.0</td>\n",
       "      <td>...</td>\n",
       "      <td>chrome 62.0</td>\n",
       "      <td>NaN</td>\n",
       "      <td>NaN</td>\n",
       "      <td>NaN</td>\n",
       "      <td>F</td>\n",
       "      <td>F</td>\n",
       "      <td>T</td>\n",
       "      <td>T</td>\n",
       "      <td>desktop</td>\n",
       "      <td>Windows</td>\n",
       "    </tr>\n",
       "    <tr>\n",
       "      <th>3</th>\n",
       "      <td>2987011</td>\n",
       "      <td>-5.0</td>\n",
       "      <td>221832.0</td>\n",
       "      <td>NaN</td>\n",
       "      <td>NaN</td>\n",
       "      <td>0.0</td>\n",
       "      <td>-6.0</td>\n",
       "      <td>NaN</td>\n",
       "      <td>NaN</td>\n",
       "      <td>NaN</td>\n",
       "      <td>...</td>\n",
       "      <td>chrome 62.0</td>\n",
       "      <td>NaN</td>\n",
       "      <td>NaN</td>\n",
       "      <td>NaN</td>\n",
       "      <td>F</td>\n",
       "      <td>F</td>\n",
       "      <td>T</td>\n",
       "      <td>T</td>\n",
       "      <td>desktop</td>\n",
       "      <td>NaN</td>\n",
       "    </tr>\n",
       "    <tr>\n",
       "      <th>4</th>\n",
       "      <td>2987016</td>\n",
       "      <td>0.0</td>\n",
       "      <td>7460.0</td>\n",
       "      <td>0.0</td>\n",
       "      <td>0.0</td>\n",
       "      <td>1.0</td>\n",
       "      <td>0.0</td>\n",
       "      <td>NaN</td>\n",
       "      <td>NaN</td>\n",
       "      <td>0.0</td>\n",
       "      <td>...</td>\n",
       "      <td>chrome 62.0</td>\n",
       "      <td>24.0</td>\n",
       "      <td>1280x800</td>\n",
       "      <td>match_status:2</td>\n",
       "      <td>T</td>\n",
       "      <td>F</td>\n",
       "      <td>T</td>\n",
       "      <td>T</td>\n",
       "      <td>desktop</td>\n",
       "      <td>MacOS</td>\n",
       "    </tr>\n",
       "  </tbody>\n",
       "</table>\n",
       "<p>5 rows × 41 columns</p>\n",
       "</div>"
      ],
      "text/plain": [
       "   TransactionID  id_01     id_02  id_03  id_04  id_05  id_06  id_07  id_08  \\\n",
       "0        2987004    0.0   70787.0    NaN    NaN    NaN    NaN    NaN    NaN   \n",
       "1        2987008   -5.0   98945.0    NaN    NaN    0.0   -5.0    NaN    NaN   \n",
       "2        2987010   -5.0  191631.0    0.0    0.0    0.0    0.0    NaN    NaN   \n",
       "3        2987011   -5.0  221832.0    NaN    NaN    0.0   -6.0    NaN    NaN   \n",
       "4        2987016    0.0    7460.0    0.0    0.0    1.0    0.0    NaN    NaN   \n",
       "\n",
       "   id_09  ...                id_31  id_32      id_33           id_34  id_35  \\\n",
       "0    NaN  ...  samsung browser 6.2   32.0  2220x1080  match_status:2      T   \n",
       "1    NaN  ...   mobile safari 11.0   32.0   1334x750  match_status:1      T   \n",
       "2    0.0  ...          chrome 62.0    NaN        NaN             NaN      F   \n",
       "3    NaN  ...          chrome 62.0    NaN        NaN             NaN      F   \n",
       "4    0.0  ...          chrome 62.0   24.0   1280x800  match_status:2      T   \n",
       "\n",
       "  id_36 id_37  id_38  DeviceType                     DeviceInfo  \n",
       "0     F     T      T      mobile  SAMSUNG SM-G892A Build/NRD90M  \n",
       "1     F     F      T      mobile                     iOS Device  \n",
       "2     F     T      T     desktop                        Windows  \n",
       "3     F     T      T     desktop                            NaN  \n",
       "4     F     T      T     desktop                          MacOS  \n",
       "\n",
       "[5 rows x 41 columns]"
      ]
     },
     "execution_count": 237,
     "metadata": {},
     "output_type": "execute_result"
    }
   ],
   "source": [
    "train_identity.head()"
   ]
  },
  {
   "cell_type": "code",
   "execution_count": 238,
   "metadata": {},
   "outputs": [
    {
     "data": {
      "text/html": [
       "<div>\n",
       "<style scoped>\n",
       "    .dataframe tbody tr th:only-of-type {\n",
       "        vertical-align: middle;\n",
       "    }\n",
       "\n",
       "    .dataframe tbody tr th {\n",
       "        vertical-align: top;\n",
       "    }\n",
       "\n",
       "    .dataframe thead th {\n",
       "        text-align: right;\n",
       "    }\n",
       "</style>\n",
       "<table border=\"1\" class=\"dataframe\">\n",
       "  <thead>\n",
       "    <tr style=\"text-align: right;\">\n",
       "      <th></th>\n",
       "      <th>TransactionID</th>\n",
       "      <th>isFraud</th>\n",
       "      <th>TransactionDT</th>\n",
       "      <th>TransactionAmt</th>\n",
       "      <th>ProductCD</th>\n",
       "      <th>card1</th>\n",
       "      <th>card2</th>\n",
       "      <th>card3</th>\n",
       "      <th>card4</th>\n",
       "      <th>card5</th>\n",
       "      <th>...</th>\n",
       "      <th>V330</th>\n",
       "      <th>V331</th>\n",
       "      <th>V332</th>\n",
       "      <th>V333</th>\n",
       "      <th>V334</th>\n",
       "      <th>V335</th>\n",
       "      <th>V336</th>\n",
       "      <th>V337</th>\n",
       "      <th>V338</th>\n",
       "      <th>V339</th>\n",
       "    </tr>\n",
       "  </thead>\n",
       "  <tbody>\n",
       "    <tr>\n",
       "      <th>0</th>\n",
       "      <td>2987000</td>\n",
       "      <td>0</td>\n",
       "      <td>86400</td>\n",
       "      <td>68.5</td>\n",
       "      <td>W</td>\n",
       "      <td>13926</td>\n",
       "      <td>NaN</td>\n",
       "      <td>150.0</td>\n",
       "      <td>discover</td>\n",
       "      <td>142.0</td>\n",
       "      <td>...</td>\n",
       "      <td>NaN</td>\n",
       "      <td>NaN</td>\n",
       "      <td>NaN</td>\n",
       "      <td>NaN</td>\n",
       "      <td>NaN</td>\n",
       "      <td>NaN</td>\n",
       "      <td>NaN</td>\n",
       "      <td>NaN</td>\n",
       "      <td>NaN</td>\n",
       "      <td>NaN</td>\n",
       "    </tr>\n",
       "    <tr>\n",
       "      <th>1</th>\n",
       "      <td>2987001</td>\n",
       "      <td>0</td>\n",
       "      <td>86401</td>\n",
       "      <td>29.0</td>\n",
       "      <td>W</td>\n",
       "      <td>2755</td>\n",
       "      <td>404.0</td>\n",
       "      <td>150.0</td>\n",
       "      <td>mastercard</td>\n",
       "      <td>102.0</td>\n",
       "      <td>...</td>\n",
       "      <td>NaN</td>\n",
       "      <td>NaN</td>\n",
       "      <td>NaN</td>\n",
       "      <td>NaN</td>\n",
       "      <td>NaN</td>\n",
       "      <td>NaN</td>\n",
       "      <td>NaN</td>\n",
       "      <td>NaN</td>\n",
       "      <td>NaN</td>\n",
       "      <td>NaN</td>\n",
       "    </tr>\n",
       "    <tr>\n",
       "      <th>2</th>\n",
       "      <td>2987002</td>\n",
       "      <td>0</td>\n",
       "      <td>86469</td>\n",
       "      <td>59.0</td>\n",
       "      <td>W</td>\n",
       "      <td>4663</td>\n",
       "      <td>490.0</td>\n",
       "      <td>150.0</td>\n",
       "      <td>visa</td>\n",
       "      <td>166.0</td>\n",
       "      <td>...</td>\n",
       "      <td>NaN</td>\n",
       "      <td>NaN</td>\n",
       "      <td>NaN</td>\n",
       "      <td>NaN</td>\n",
       "      <td>NaN</td>\n",
       "      <td>NaN</td>\n",
       "      <td>NaN</td>\n",
       "      <td>NaN</td>\n",
       "      <td>NaN</td>\n",
       "      <td>NaN</td>\n",
       "    </tr>\n",
       "    <tr>\n",
       "      <th>3</th>\n",
       "      <td>2987003</td>\n",
       "      <td>0</td>\n",
       "      <td>86499</td>\n",
       "      <td>50.0</td>\n",
       "      <td>W</td>\n",
       "      <td>18132</td>\n",
       "      <td>567.0</td>\n",
       "      <td>150.0</td>\n",
       "      <td>mastercard</td>\n",
       "      <td>117.0</td>\n",
       "      <td>...</td>\n",
       "      <td>NaN</td>\n",
       "      <td>NaN</td>\n",
       "      <td>NaN</td>\n",
       "      <td>NaN</td>\n",
       "      <td>NaN</td>\n",
       "      <td>NaN</td>\n",
       "      <td>NaN</td>\n",
       "      <td>NaN</td>\n",
       "      <td>NaN</td>\n",
       "      <td>NaN</td>\n",
       "    </tr>\n",
       "    <tr>\n",
       "      <th>4</th>\n",
       "      <td>2987004</td>\n",
       "      <td>0</td>\n",
       "      <td>86506</td>\n",
       "      <td>50.0</td>\n",
       "      <td>H</td>\n",
       "      <td>4497</td>\n",
       "      <td>514.0</td>\n",
       "      <td>150.0</td>\n",
       "      <td>mastercard</td>\n",
       "      <td>102.0</td>\n",
       "      <td>...</td>\n",
       "      <td>0.0</td>\n",
       "      <td>0.0</td>\n",
       "      <td>0.0</td>\n",
       "      <td>0.0</td>\n",
       "      <td>0.0</td>\n",
       "      <td>0.0</td>\n",
       "      <td>0.0</td>\n",
       "      <td>0.0</td>\n",
       "      <td>0.0</td>\n",
       "      <td>0.0</td>\n",
       "    </tr>\n",
       "  </tbody>\n",
       "</table>\n",
       "<p>5 rows × 394 columns</p>\n",
       "</div>"
      ],
      "text/plain": [
       "   TransactionID  isFraud  TransactionDT  TransactionAmt ProductCD  card1  \\\n",
       "0        2987000        0          86400            68.5         W  13926   \n",
       "1        2987001        0          86401            29.0         W   2755   \n",
       "2        2987002        0          86469            59.0         W   4663   \n",
       "3        2987003        0          86499            50.0         W  18132   \n",
       "4        2987004        0          86506            50.0         H   4497   \n",
       "\n",
       "   card2  card3       card4  card5  ... V330  V331  V332  V333  V334 V335  \\\n",
       "0    NaN  150.0    discover  142.0  ...  NaN   NaN   NaN   NaN   NaN  NaN   \n",
       "1  404.0  150.0  mastercard  102.0  ...  NaN   NaN   NaN   NaN   NaN  NaN   \n",
       "2  490.0  150.0        visa  166.0  ...  NaN   NaN   NaN   NaN   NaN  NaN   \n",
       "3  567.0  150.0  mastercard  117.0  ...  NaN   NaN   NaN   NaN   NaN  NaN   \n",
       "4  514.0  150.0  mastercard  102.0  ...  0.0   0.0   0.0   0.0   0.0  0.0   \n",
       "\n",
       "  V336  V337  V338  V339  \n",
       "0  NaN   NaN   NaN   NaN  \n",
       "1  NaN   NaN   NaN   NaN  \n",
       "2  NaN   NaN   NaN   NaN  \n",
       "3  NaN   NaN   NaN   NaN  \n",
       "4  0.0   0.0   0.0   0.0  \n",
       "\n",
       "[5 rows x 394 columns]"
      ]
     },
     "execution_count": 238,
     "metadata": {},
     "output_type": "execute_result"
    }
   ],
   "source": [
    "train_transaction.head()"
   ]
  },
  {
   "cell_type": "code",
   "execution_count": 239,
   "metadata": {},
   "outputs": [
    {
     "data": {
      "text/html": [
       "<div>\n",
       "<style scoped>\n",
       "    .dataframe tbody tr th:only-of-type {\n",
       "        vertical-align: middle;\n",
       "    }\n",
       "\n",
       "    .dataframe tbody tr th {\n",
       "        vertical-align: top;\n",
       "    }\n",
       "\n",
       "    .dataframe thead th {\n",
       "        text-align: right;\n",
       "    }\n",
       "</style>\n",
       "<table border=\"1\" class=\"dataframe\">\n",
       "  <thead>\n",
       "    <tr style=\"text-align: right;\">\n",
       "      <th></th>\n",
       "      <th>TransactionID</th>\n",
       "      <th>isFraud</th>\n",
       "      <th>TransactionDT</th>\n",
       "      <th>TransactionAmt</th>\n",
       "      <th>ProductCD</th>\n",
       "      <th>card1</th>\n",
       "      <th>card2</th>\n",
       "      <th>card3</th>\n",
       "      <th>card4</th>\n",
       "      <th>card5</th>\n",
       "      <th>...</th>\n",
       "      <th>id_31</th>\n",
       "      <th>id_32</th>\n",
       "      <th>id_33</th>\n",
       "      <th>id_34</th>\n",
       "      <th>id_35</th>\n",
       "      <th>id_36</th>\n",
       "      <th>id_37</th>\n",
       "      <th>id_38</th>\n",
       "      <th>DeviceType</th>\n",
       "      <th>DeviceInfo</th>\n",
       "    </tr>\n",
       "  </thead>\n",
       "  <tbody>\n",
       "    <tr>\n",
       "      <th>0</th>\n",
       "      <td>2987000</td>\n",
       "      <td>0</td>\n",
       "      <td>86400</td>\n",
       "      <td>68.5</td>\n",
       "      <td>W</td>\n",
       "      <td>13926</td>\n",
       "      <td>NaN</td>\n",
       "      <td>150.0</td>\n",
       "      <td>discover</td>\n",
       "      <td>142.0</td>\n",
       "      <td>...</td>\n",
       "      <td>NaN</td>\n",
       "      <td>NaN</td>\n",
       "      <td>NaN</td>\n",
       "      <td>NaN</td>\n",
       "      <td>NaN</td>\n",
       "      <td>NaN</td>\n",
       "      <td>NaN</td>\n",
       "      <td>NaN</td>\n",
       "      <td>NaN</td>\n",
       "      <td>NaN</td>\n",
       "    </tr>\n",
       "    <tr>\n",
       "      <th>1</th>\n",
       "      <td>2987001</td>\n",
       "      <td>0</td>\n",
       "      <td>86401</td>\n",
       "      <td>29.0</td>\n",
       "      <td>W</td>\n",
       "      <td>2755</td>\n",
       "      <td>404.0</td>\n",
       "      <td>150.0</td>\n",
       "      <td>mastercard</td>\n",
       "      <td>102.0</td>\n",
       "      <td>...</td>\n",
       "      <td>NaN</td>\n",
       "      <td>NaN</td>\n",
       "      <td>NaN</td>\n",
       "      <td>NaN</td>\n",
       "      <td>NaN</td>\n",
       "      <td>NaN</td>\n",
       "      <td>NaN</td>\n",
       "      <td>NaN</td>\n",
       "      <td>NaN</td>\n",
       "      <td>NaN</td>\n",
       "    </tr>\n",
       "    <tr>\n",
       "      <th>2</th>\n",
       "      <td>2987002</td>\n",
       "      <td>0</td>\n",
       "      <td>86469</td>\n",
       "      <td>59.0</td>\n",
       "      <td>W</td>\n",
       "      <td>4663</td>\n",
       "      <td>490.0</td>\n",
       "      <td>150.0</td>\n",
       "      <td>visa</td>\n",
       "      <td>166.0</td>\n",
       "      <td>...</td>\n",
       "      <td>NaN</td>\n",
       "      <td>NaN</td>\n",
       "      <td>NaN</td>\n",
       "      <td>NaN</td>\n",
       "      <td>NaN</td>\n",
       "      <td>NaN</td>\n",
       "      <td>NaN</td>\n",
       "      <td>NaN</td>\n",
       "      <td>NaN</td>\n",
       "      <td>NaN</td>\n",
       "    </tr>\n",
       "    <tr>\n",
       "      <th>3</th>\n",
       "      <td>2987003</td>\n",
       "      <td>0</td>\n",
       "      <td>86499</td>\n",
       "      <td>50.0</td>\n",
       "      <td>W</td>\n",
       "      <td>18132</td>\n",
       "      <td>567.0</td>\n",
       "      <td>150.0</td>\n",
       "      <td>mastercard</td>\n",
       "      <td>117.0</td>\n",
       "      <td>...</td>\n",
       "      <td>NaN</td>\n",
       "      <td>NaN</td>\n",
       "      <td>NaN</td>\n",
       "      <td>NaN</td>\n",
       "      <td>NaN</td>\n",
       "      <td>NaN</td>\n",
       "      <td>NaN</td>\n",
       "      <td>NaN</td>\n",
       "      <td>NaN</td>\n",
       "      <td>NaN</td>\n",
       "    </tr>\n",
       "    <tr>\n",
       "      <th>4</th>\n",
       "      <td>2987004</td>\n",
       "      <td>0</td>\n",
       "      <td>86506</td>\n",
       "      <td>50.0</td>\n",
       "      <td>H</td>\n",
       "      <td>4497</td>\n",
       "      <td>514.0</td>\n",
       "      <td>150.0</td>\n",
       "      <td>mastercard</td>\n",
       "      <td>102.0</td>\n",
       "      <td>...</td>\n",
       "      <td>samsung browser 6.2</td>\n",
       "      <td>32.0</td>\n",
       "      <td>2220x1080</td>\n",
       "      <td>match_status:2</td>\n",
       "      <td>T</td>\n",
       "      <td>F</td>\n",
       "      <td>T</td>\n",
       "      <td>T</td>\n",
       "      <td>mobile</td>\n",
       "      <td>SAMSUNG SM-G892A Build/NRD90M</td>\n",
       "    </tr>\n",
       "  </tbody>\n",
       "</table>\n",
       "<p>5 rows × 434 columns</p>\n",
       "</div>"
      ],
      "text/plain": [
       "   TransactionID  isFraud  TransactionDT  TransactionAmt ProductCD  card1  \\\n",
       "0        2987000        0          86400            68.5         W  13926   \n",
       "1        2987001        0          86401            29.0         W   2755   \n",
       "2        2987002        0          86469            59.0         W   4663   \n",
       "3        2987003        0          86499            50.0         W  18132   \n",
       "4        2987004        0          86506            50.0         H   4497   \n",
       "\n",
       "   card2  card3       card4  card5  ...                id_31  id_32  \\\n",
       "0    NaN  150.0    discover  142.0  ...                  NaN    NaN   \n",
       "1  404.0  150.0  mastercard  102.0  ...                  NaN    NaN   \n",
       "2  490.0  150.0        visa  166.0  ...                  NaN    NaN   \n",
       "3  567.0  150.0  mastercard  117.0  ...                  NaN    NaN   \n",
       "4  514.0  150.0  mastercard  102.0  ...  samsung browser 6.2   32.0   \n",
       "\n",
       "       id_33           id_34  id_35 id_36 id_37  id_38  DeviceType  \\\n",
       "0        NaN             NaN    NaN   NaN   NaN    NaN         NaN   \n",
       "1        NaN             NaN    NaN   NaN   NaN    NaN         NaN   \n",
       "2        NaN             NaN    NaN   NaN   NaN    NaN         NaN   \n",
       "3        NaN             NaN    NaN   NaN   NaN    NaN         NaN   \n",
       "4  2220x1080  match_status:2      T     F     T      T      mobile   \n",
       "\n",
       "                      DeviceInfo  \n",
       "0                            NaN  \n",
       "1                            NaN  \n",
       "2                            NaN  \n",
       "3                            NaN  \n",
       "4  SAMSUNG SM-G892A Build/NRD90M  \n",
       "\n",
       "[5 rows x 434 columns]"
      ]
     },
     "execution_count": 239,
     "metadata": {},
     "output_type": "execute_result"
    }
   ],
   "source": [
    "# Join Transaction and Identity dataframes\n",
    "train = pd.merge(train_transaction, train_identity, on='TransactionID', how='left')\n",
    "train.head()"
   ]
  },
  {
   "cell_type": "code",
   "execution_count": 240,
   "metadata": {},
   "outputs": [],
   "source": [
    "# Delete identity and transaction dataframes from memory\n",
    "del train_identity, train_transaction"
   ]
  },
  {
   "cell_type": "code",
   "execution_count": 241,
   "metadata": {
    "scrolled": true
   },
   "outputs": [
    {
     "data": {
      "text/html": [
       "<div>\n",
       "<style scoped>\n",
       "    .dataframe tbody tr th:only-of-type {\n",
       "        vertical-align: middle;\n",
       "    }\n",
       "\n",
       "    .dataframe tbody tr th {\n",
       "        vertical-align: top;\n",
       "    }\n",
       "\n",
       "    .dataframe thead th {\n",
       "        text-align: right;\n",
       "    }\n",
       "</style>\n",
       "<table border=\"1\" class=\"dataframe\">\n",
       "  <thead>\n",
       "    <tr style=\"text-align: right;\">\n",
       "      <th></th>\n",
       "      <th>0</th>\n",
       "      <th>1</th>\n",
       "    </tr>\n",
       "  </thead>\n",
       "  <tbody>\n",
       "    <tr>\n",
       "      <th>isFraud</th>\n",
       "      <td>0.965009990855827</td>\n",
       "      <td>0.034990009144173</td>\n",
       "    </tr>\n",
       "  </tbody>\n",
       "</table>\n",
       "</div>"
      ],
      "text/plain": [
       "                         0                  1\n",
       "isFraud  0.965009990855827  0.034990009144173"
      ]
     },
     "execution_count": 241,
     "metadata": {},
     "output_type": "execute_result"
    },
    {
     "data": {
      "image/png": "[encoded data removed]",
      "text/plain": [
       "<Figure size 432x288 with 1 Axes>"
      ]
     },
     "metadata": {
      "needs_background": "light"
     },
     "output_type": "display_data"
    }
   ],
   "source": [
    "# Ratio of normal transaction vs fraud transactions\n",
    "fc = train['isFraud'].value_counts(normalize=True).to_frame()\n",
    "fc.plot.bar()\n",
    "fc.T"
   ]
  },
  {
   "cell_type": "markdown",
   "metadata": {},
   "source": [
    "About 3.5% of the transactions are fraud"
   ]
  },
  {
   "cell_type": "markdown",
   "metadata": {},
   "source": [
    "# Explore Identity Data"
   ]
  },
  {
   "cell_type": "code",
   "execution_count": 242,
   "metadata": {},
   "outputs": [
    {
     "data": {
      "text/plain": [
       " NaN      0.755760829071697\n",
       "-5.0      0.139143834456599\n",
       " 0.0      0.033113760287195\n",
       "-10.0     0.019062214244590\n",
       "-20.0     0.018984319436448\n",
       "-15.0     0.009608155247739\n",
       "-25.0     0.007828428218241\n",
       "-45.0     0.003628882040167\n",
       "-35.0     0.002746638669692\n",
       "-40.0     0.002345311071223\n",
       "-100.0    0.001713685779117\n",
       "-50.0     0.001200596064619\n",
       "-30.0     0.001154875198970\n",
       "-95.0     0.000724760388797\n",
       "-60.0     0.000694279811698\n",
       "-55.0     0.000541876926203\n",
       "-80.0     0.000372540386765\n",
       "-90.0     0.000362380194398\n",
       "-70.0     0.000164256443255\n",
       "-65.0     0.000157482981678\n",
       "-85.0     0.000147322789311\n",
       "-75.0     0.000140549327734\n",
       "-18.0     0.000038947404071\n",
       "-6.0      0.000025400480916\n",
       "-12.0     0.000025400480916\n",
       "-11.0     0.000025400480916\n",
       "-16.0     0.000022013750127\n",
       "-21.0     0.000020320384733\n",
       "-7.0      0.000016933653944\n",
       "-14.0     0.000016933653944\n",
       "                ...        \n",
       "-29.0     0.000003386730789\n",
       "-71.0     0.000003386730789\n",
       "-99.0     0.000003386730789\n",
       "-61.0     0.000003386730789\n",
       "-46.0     0.000003386730789\n",
       "-88.0     0.000003386730789\n",
       "-64.0     0.000003386730789\n",
       "-34.0     0.000001693365394\n",
       "-28.0     0.000001693365394\n",
       "-42.0     0.000001693365394\n",
       "-43.0     0.000001693365394\n",
       "-52.0     0.000001693365394\n",
       "-33.0     0.000001693365394\n",
       "-89.0     0.000001693365394\n",
       "-47.0     0.000001693365394\n",
       "-32.0     0.000001693365394\n",
       "-51.0     0.000001693365394\n",
       "-92.0     0.000001693365394\n",
       "-54.0     0.000001693365394\n",
       "-57.0     0.000001693365394\n",
       "-58.0     0.000001693365394\n",
       "-94.0     0.000001693365394\n",
       "-63.0     0.000001693365394\n",
       "-48.0     0.000001693365394\n",
       "-93.0     0.000001693365394\n",
       "-72.0     0.000001693365394\n",
       "-76.0     0.000001693365394\n",
       "-82.0     0.000001693365394\n",
       "-86.0     0.000001693365394\n",
       "-24.0     0.000001693365394\n",
       "Name: id_01, Length: 78, dtype: float64"
      ]
     },
     "execution_count": 242,
     "metadata": {},
     "output_type": "execute_result"
    }
   ],
   "source": [
    "train['id_01'].value_counts(dropna=False, normalize=True)"
   ]
  },
  {
   "cell_type": "code",
   "execution_count": 243,
   "metadata": {},
   "outputs": [
    {
     "data": {
      "image/png": "[encoded data removed]",
      "text/plain": [
       "<Figure size 432x288 with 1 Axes>"
      ]
     },
     "metadata": {
      "needs_background": "light"
     },
     "output_type": "display_data"
    }
   ],
   "source": [
    "# train['id_01'].value_counts(dropna=False, normalize=True).head()\n",
    "plt.hist(train['id_01'], range(-100,0))\n",
    "plt.show()"
   ]
  },
  {
   "cell_type": "markdown",
   "metadata": {},
   "source": [
    "id_01: 76% is null, 77 unique valuee between -100 and 0 highly skewed to 0."
   ]
  },
  {
   "cell_type": "code",
   "execution_count": 244,
   "metadata": {},
   "outputs": [
    {
     "data": {
      "text/plain": [
       "NaN         0.761452230162224\n",
       "1102.0      0.000018627019338\n",
       "696.0       0.000016933653944\n",
       "1116.0      0.000015240288549\n",
       "1120.0      0.000015240288549\n",
       "1083.0      0.000015240288549\n",
       "1141.0      0.000015240288549\n",
       "1117.0      0.000015240288549\n",
       "1127.0      0.000013546923155\n",
       "1179.0      0.000011853557761\n",
       "1119.0      0.000011853557761\n",
       "1343.0      0.000011853557761\n",
       "1166.0      0.000011853557761\n",
       "1109.0      0.000011853557761\n",
       "1125.0      0.000011853557761\n",
       "1217.0      0.000011853557761\n",
       "1089.0      0.000011853557761\n",
       "1110.0      0.000011853557761\n",
       "1304.0      0.000011853557761\n",
       "1138.0      0.000011853557761\n",
       "552.0       0.000010160192366\n",
       "1672.0      0.000010160192366\n",
       "1106.0      0.000010160192366\n",
       "1201.0      0.000010160192366\n",
       "2131.0      0.000010160192366\n",
       "1095.0      0.000010160192366\n",
       "46347.0     0.000010160192366\n",
       "542.0       0.000010160192366\n",
       "1221.0      0.000010160192366\n",
       "517.0       0.000010160192366\n",
       "                  ...        \n",
       "318531.0    0.000001693365394\n",
       "79633.0     0.000001693365394\n",
       "79634.0     0.000001693365394\n",
       "318538.0    0.000001693365394\n",
       "79619.0     0.000001693365394\n",
       "318470.0    0.000001693365394\n",
       "318324.0    0.000001693365394\n",
       "318466.0    0.000001693365394\n",
       "318326.0    0.000001693365394\n",
       "4974.0      0.000001693365394\n",
       "318348.0    0.000001693365394\n",
       "79588.0     0.000001693365394\n",
       "318361.0    0.000001693365394\n",
       "79591.0     0.000001693365394\n",
       "79593.0     0.000001693365394\n",
       "318380.0    0.000001693365394\n",
       "19899.0     0.000001693365394\n",
       "318391.0    0.000001693365394\n",
       "79602.0     0.000001693365394\n",
       "79603.0     0.000001693365394\n",
       "237496.0    0.000001693365394\n",
       "318432.0    0.000001693365394\n",
       "318433.0    0.000001693365394\n",
       "79610.0     0.000001693365394\n",
       "318441.0    0.000001693365394\n",
       "79612.0     0.000001693365394\n",
       "318457.0    0.000001693365394\n",
       "79615.0     0.000001693365394\n",
       "311.0       0.000001693365394\n",
       "2048.0      0.000001693365394\n",
       "Name: id_02, Length: 115656, dtype: float64"
      ]
     },
     "execution_count": 244,
     "metadata": {},
     "output_type": "execute_result"
    }
   ],
   "source": [
    "train['id_02'].value_counts(dropna=False, normalize=True)"
   ]
  },
  {
   "cell_type": "code",
   "execution_count": 245,
   "metadata": {},
   "outputs": [
    {
     "data": {
      "image/png": "[encoded data removed]",
      "text/plain": [
       "<Figure size 432x288 with 1 Axes>"
      ]
     },
     "metadata": {
      "needs_background": "light"
     },
     "output_type": "display_data"
    }
   ],
   "source": [
    "plt.hist(train['id_02'])\n",
    "plt.show()"
   ]
  },
  {
   "cell_type": "code",
   "execution_count": 246,
   "metadata": {},
   "outputs": [
    {
     "data": {
      "text/plain": [
       " NaN     0.887689233582822\n",
       " 0.0     0.108211128797372\n",
       " 1.0     0.001461374335354\n",
       " 3.0     0.001131168083449\n",
       " 2.0     0.000712906831036\n",
       " 5.0     0.000184576827988\n",
       " 4.0     0.000169336539438\n",
       " 6.0     0.000108375385241\n",
       "-5.0     0.000055881058015\n",
       "-6.0     0.000052494327226\n",
       "-4.0     0.000035560673282\n",
       "-7.0     0.000035560673282\n",
       "-10.0    0.000028787211705\n",
       "-8.0     0.000023707115521\n",
       "-1.0     0.000020320384733\n",
       "-2.0     0.000020320384733\n",
       "-3.0     0.000013546923155\n",
       "-9.0     0.000010160192366\n",
       "-11.0    0.000010160192366\n",
       " 7.0     0.000006773461578\n",
       " 9.0     0.000005080096183\n",
       "-13.0    0.000005080096183\n",
       "-12.0    0.000005080096183\n",
       " 10.0    0.000001693365394\n",
       " 8.0     0.000001693365394\n",
       "Name: id_03, dtype: float64"
      ]
     },
     "execution_count": 246,
     "metadata": {},
     "output_type": "execute_result"
    }
   ],
   "source": [
    "train['id_03'].value_counts(dropna=False, normalize=True)"
   ]
  },
  {
   "cell_type": "code",
   "execution_count": 247,
   "metadata": {},
   "outputs": [
    {
     "data": {
      "image/png": "[encoded data removed]",
      "text/plain": [
       "<Figure size 432x288 with 1 Axes>"
      ]
     },
     "metadata": {
      "needs_background": "light"
     },
     "output_type": "display_data"
    }
   ],
   "source": [
    "plt.hist(train['id_03'])\n",
    "plt.show()"
   ]
  },
  {
   "cell_type": "markdown",
   "metadata": {},
   "source": [
    "id_03: 88% is null, value ranges from -10 to 10, and about 10% is 0"
   ]
  },
  {
   "cell_type": "code",
   "execution_count": 248,
   "metadata": {},
   "outputs": [
    {
     "data": {
      "text/plain": [
       " NaN     0.887689233582822\n",
       " 0.0     0.111320147661462\n",
       "-5.0     0.000223524232059\n",
       "-6.0     0.000165949808650\n",
       "-8.0     0.000108375385241\n",
       "-4.0     0.000086361635114\n",
       "-1.0     0.000072814711959\n",
       "-11.0    0.000059267788803\n",
       "-12.0    0.000057574423409\n",
       "-10.0    0.000050800961832\n",
       "-9.0     0.000044027500254\n",
       "-13.0    0.000040640769465\n",
       "-7.0     0.000035560673282\n",
       "-2.0     0.000025400480916\n",
       "-3.0     0.000016933653944\n",
       "-28.0    0.000003386730789\n",
       "Name: id_04, dtype: float64"
      ]
     },
     "execution_count": 248,
     "metadata": {},
     "output_type": "execute_result"
    }
   ],
   "source": [
    "train['id_04'].value_counts(dropna=False, normalize=True)"
   ]
  },
  {
   "cell_type": "code",
   "execution_count": 249,
   "metadata": {},
   "outputs": [
    {
     "data": {
      "image/png": "[encoded data removed]",
      "text/plain": [
       "<Figure size 432x288 with 1 Axes>"
      ]
     },
     "metadata": {
      "needs_background": "light"
     },
     "output_type": "display_data"
    }
   ],
   "source": [
    "plt.hist(train['id_04'])\n",
    "plt.show()"
   ]
  },
  {
   "cell_type": "markdown",
   "metadata": {},
   "source": [
    "id_04: 88% is null, Value ranges from -30 to 0, and 11% is 0"
   ]
  },
  {
   "cell_type": "code",
   "execution_count": 250,
   "metadata": {},
   "outputs": [
    {
     "data": {
      "text/plain": [
       " NaN     0.768237545297524\n",
       " 0.0     0.157047786771430\n",
       " 1.0     0.014043079215633\n",
       " 2.0     0.008360144952078\n",
       " 3.0     0.006526230229959\n",
       " 4.0     0.004980187624886\n",
       " 6.0     0.003959088292072\n",
       " 5.0     0.003915060791818\n",
       " 7.0     0.002497713956718\n",
       " 8.0     0.002143800589291\n",
       " 9.0     0.001805127510414\n",
       " 10.0    0.001706912317540\n",
       " 11.0    0.001527415585735\n",
       " 12.0    0.001510481931791\n",
       " 13.0    0.001297117892099\n",
       " 14.0    0.001188742506858\n",
       "-3.0     0.001151488468182\n",
       "-5.0     0.001139634910421\n",
       " 15.0    0.001126087987266\n",
       "-4.0     0.000995698851898\n",
       "-1.0     0.000992312121109\n",
       "-2.0     0.000992312121109\n",
       " 16.0    0.000951671351644\n",
       "-6.0     0.000894096928235\n",
       " 17.0    0.000850069427981\n",
       "-8.0     0.000741694042741\n",
       "-7.0     0.000741694042741\n",
       "-9.0     0.000648558946049\n",
       " 18.0    0.000614691638162\n",
       " 19.0    0.000601144715007\n",
       "               ...        \n",
       "-30.0    0.000023707115521\n",
       "-26.0    0.000022013750127\n",
       " 37.0    0.000022013750127\n",
       "-27.0    0.000018627019338\n",
       "-22.0    0.000018627019338\n",
       " 40.0    0.000016933653944\n",
       "-24.0    0.000015240288549\n",
       " 42.0    0.000013546923155\n",
       " 45.0    0.000011853557761\n",
       " 43.0    0.000010160192366\n",
       "-28.0    0.000008466826972\n",
       "-72.0    0.000008466826972\n",
       " 44.0    0.000006773461578\n",
       "-31.0    0.000006773461578\n",
       " 52.0    0.000006773461578\n",
       "-32.0    0.000005080096183\n",
       "-40.0    0.000005080096183\n",
       "-37.0    0.000003386730789\n",
       " 50.0    0.000003386730789\n",
       " 46.0    0.000003386730789\n",
       " 47.0    0.000003386730789\n",
       "-33.0    0.000003386730789\n",
       "-29.0    0.000003386730789\n",
       "-35.0    0.000001693365394\n",
       "-38.0    0.000001693365394\n",
       "-34.0    0.000001693365394\n",
       " 48.0    0.000001693365394\n",
       "-39.0    0.000001693365394\n",
       "-44.0    0.000001693365394\n",
       "-46.0    0.000001693365394\n",
       "Name: id_05, Length: 94, dtype: float64"
      ]
     },
     "execution_count": 250,
     "metadata": {},
     "output_type": "execute_result"
    }
   ],
   "source": [
    "train['id_05'].value_counts(dropna=False, normalize=True)"
   ]
  },
  {
   "cell_type": "code",
   "execution_count": 251,
   "metadata": {},
   "outputs": [
    {
     "data": {
      "image/png": "[encoded data removed]",
      "text/plain": [
       "<Figure size 432x288 with 1 Axes>"
      ]
     },
     "metadata": {
      "needs_background": "light"
     },
     "output_type": "display_data"
    }
   ],
   "source": [
    "plt.hist(train['id_05'])\n",
    "plt.show()"
   ]
  },
  {
   "cell_type": "markdown",
   "metadata": {},
   "source": [
    "id_05: 77% is null, 94 unique values ranging from -70 to 50, 15% is 0"
   ]
  },
  {
   "cell_type": "code",
   "execution_count": 252,
   "metadata": {},
   "outputs": [
    {
     "data": {
      "text/plain": [
       " NaN      0.768237545297524\n",
       " 0.0      0.154646594642192\n",
       "-1.0      0.007936803603482\n",
       "-5.0      0.006517763402987\n",
       "-6.0      0.005515291089511\n",
       "-9.0      0.004460324448810\n",
       "-100.0    0.004116571273749\n",
       "-8.0      0.003376570596403\n",
       "-10.0     0.003325769634572\n",
       "-11.0     0.003102245402513\n",
       "-7.0      0.002460459918041\n",
       "-12.0     0.002304670301758\n",
       "-4.0      0.002162427608629\n",
       "-33.0     0.001463067700748\n",
       "-13.0     0.001461374335354\n",
       "-28.0     0.001430893758255\n",
       "-32.0     0.001393639719579\n",
       "-30.0     0.001376706065635\n",
       "-26.0     0.001307278084465\n",
       "-24.0     0.001220916449351\n",
       "-29.0     0.001180275679886\n",
       "-31.0     0.001148101737393\n",
       "-25.0     0.001146408371999\n",
       "-27.0     0.001143021641210\n",
       "-22.0     0.001129474718055\n",
       "-34.0     0.001102380871745\n",
       "-23.0     0.001063433467674\n",
       "-3.0      0.000961831544011\n",
       "-18.0     0.000941511159278\n",
       "-16.0     0.000878856639686\n",
       "                ...        \n",
       "-67.0     0.000032173942493\n",
       "-74.0     0.000030480577099\n",
       "-76.0     0.000028787211705\n",
       "-98.0     0.000028787211705\n",
       "-84.0     0.000025400480916\n",
       "-78.0     0.000025400480916\n",
       "-65.0     0.000025400480916\n",
       "-83.0     0.000023707115521\n",
       "-73.0     0.000023707115521\n",
       "-96.0     0.000016933653944\n",
       "-85.0     0.000016933653944\n",
       "-90.0     0.000016933653944\n",
       "-94.0     0.000016933653944\n",
       "-66.0     0.000015240288549\n",
       "-70.0     0.000015240288549\n",
       "-88.0     0.000013546923155\n",
       "-68.0     0.000013546923155\n",
       "-71.0     0.000011853557761\n",
       "-81.0     0.000011853557761\n",
       "-97.0     0.000011853557761\n",
       "-92.0     0.000010160192366\n",
       "-86.0     0.000008466826972\n",
       "-87.0     0.000008466826972\n",
       "-77.0     0.000006773461578\n",
       "-93.0     0.000006773461578\n",
       "-91.0     0.000006773461578\n",
       "-80.0     0.000003386730789\n",
       "-95.0     0.000003386730789\n",
       "-99.0     0.000001693365394\n",
       "-89.0     0.000001693365394\n",
       "Name: id_06, Length: 102, dtype: float64"
      ]
     },
     "execution_count": 252,
     "metadata": {},
     "output_type": "execute_result"
    }
   ],
   "source": [
    "train['id_06'].value_counts(dropna=False, normalize=True)"
   ]
  },
  {
   "cell_type": "code",
   "execution_count": 253,
   "metadata": {},
   "outputs": [
    {
     "data": {
      "image/png": "[encoded data removed]",
      "text/plain": [
       "<Figure size 432x288 with 1 Axes>"
      ]
     },
     "metadata": {
      "needs_background": "light"
     },
     "output_type": "display_data"
    }
   ],
   "source": [
    "plt.hist(train['id_06'])\n",
    "plt.show()"
   ]
  },
  {
   "cell_type": "markdown",
   "metadata": {},
   "source": [
    "id_06: 77% is null, values range from -100 to 0, 15% is 0"
   ]
  },
  {
   "cell_type": "code",
   "execution_count": 254,
   "metadata": {},
   "outputs": [
    {
     "data": {
      "text/plain": [
       " NaN     0.991270701391946\n",
       " 0.0     0.000692586446303\n",
       " 16.0    0.000414874521624\n",
       " 14.0    0.000386087309920\n",
       " 12.0    0.000352220002032\n",
       " 15.0    0.000314965963356\n",
       " 17.0    0.000304805770989\n",
       " 4.0     0.000301419040200\n",
       " 13.0    0.000296338944017\n",
       " 5.0     0.000260778270735\n",
       " 10.0    0.000257391539946\n",
       " 25.0    0.000250618078369\n",
       " 3.0     0.000238764520608\n",
       " 22.0    0.000233684424425\n",
       " 26.0    0.000230297693636\n",
       " 23.0    0.000228604328242\n",
       " 24.0    0.000225217597453\n",
       " 11.0    0.000220137501270\n",
       " 27.0    0.000220137501270\n",
       " 8.0     0.000215057405087\n",
       " 18.0    0.000213364039692\n",
       " 21.0    0.000206590578115\n",
       " 20.0    0.000199817116537\n",
       " 7.0     0.000189656924171\n",
       " 9.0     0.000186270193382\n",
       " 2.0     0.000179496731805\n",
       " 6.0     0.000179496731805\n",
       " 1.0     0.000164256443255\n",
       " 19.0    0.000152402885495\n",
       " 30.0    0.000150709520100\n",
       "               ...        \n",
       "-13.0    0.000013546923155\n",
       " 44.0    0.000011853557761\n",
       " 41.0    0.000011853557761\n",
       "-16.0    0.000010160192366\n",
       " 48.0    0.000008466826972\n",
       "-11.0    0.000008466826972\n",
       "-19.0    0.000008466826972\n",
       "-23.0    0.000008466826972\n",
       "-31.0    0.000008466826972\n",
       "-30.0    0.000006773461578\n",
       "-21.0    0.000005080096183\n",
       "-20.0    0.000005080096183\n",
       "-27.0    0.000005080096183\n",
       "-17.0    0.000005080096183\n",
       "-32.0    0.000005080096183\n",
       "-46.0    0.000003386730789\n",
       " 43.0    0.000003386730789\n",
       "-24.0    0.000003386730789\n",
       " 45.0    0.000003386730789\n",
       "-18.0    0.000003386730789\n",
       "-22.0    0.000003386730789\n",
       "-15.0    0.000001693365394\n",
       "-37.0    0.000001693365394\n",
       " 52.0    0.000001693365394\n",
       " 49.0    0.000001693365394\n",
       " 51.0    0.000001693365394\n",
       "-33.0    0.000001693365394\n",
       " 46.0    0.000001693365394\n",
       " 61.0    0.000001693365394\n",
       "-26.0    0.000001693365394\n",
       "Name: id_07, Length: 85, dtype: float64"
      ]
     },
     "execution_count": 254,
     "metadata": {},
     "output_type": "execute_result"
    }
   ],
   "source": [
    "train['id_07'].value_counts(dropna=False, normalize=True)"
   ]
  },
  {
   "cell_type": "code",
   "execution_count": 255,
   "metadata": {},
   "outputs": [
    {
     "data": {
      "image/png": "[encoded data removed]",
      "text/plain": [
       "<Figure size 432x288 with 1 Axes>"
      ]
     },
     "metadata": {
      "needs_background": "light"
     },
     "output_type": "display_data"
    }
   ],
   "source": [
    "plt.hist(train['id_07'])\n",
    "plt.show()"
   ]
  },
  {
   "cell_type": "markdown",
   "metadata": {},
   "source": [
    "id_07: 99% is null, value ranges from -50 to 60 and 0.07% is 0"
   ]
  },
  {
   "cell_type": "code",
   "execution_count": 256,
   "metadata": {},
   "outputs": [
    {
     "data": {
      "text/plain": [
       " NaN      0.991270701391946\n",
       "-100.0    0.000846682697192\n",
       " 0.0      0.000441968367934\n",
       "-34.0     0.000435194906357\n",
       "-33.0     0.000353913367426\n",
       "-32.0     0.000313272597961\n",
       "-35.0     0.000311579232567\n",
       "-25.0     0.000213364039692\n",
       "-31.0     0.000198123751143\n",
       "-30.0     0.000196430385749\n",
       "-24.0     0.000194737020354\n",
       "-51.0     0.000169336539438\n",
       "-45.0     0.000167643174044\n",
       "-36.0     0.000167643174044\n",
       "-27.0     0.000154096250889\n",
       "-48.0     0.000154096250889\n",
       "-26.0     0.000150709520100\n",
       "-19.0     0.000147322789311\n",
       "-54.0     0.000143936058523\n",
       "-44.0     0.000138855962340\n",
       "-23.0     0.000137162596945\n",
       "-47.0     0.000135469231551\n",
       "-29.0     0.000135469231551\n",
       "-37.0     0.000130389135368\n",
       "-50.0     0.000125309039184\n",
       "-20.0     0.000123615673790\n",
       "-52.0     0.000121922308396\n",
       "-40.0     0.000116842212213\n",
       "-21.0     0.000111762116029\n",
       "-9.0      0.000111762116029\n",
       "                ...        \n",
       "-63.0     0.000018627019338\n",
       "-76.0     0.000018627019338\n",
       "-99.0     0.000015240288549\n",
       "-61.0     0.000015240288549\n",
       "-72.0     0.000015240288549\n",
       "-62.0     0.000013546923155\n",
       "-79.0     0.000011853557761\n",
       "-74.0     0.000011853557761\n",
       "-2.0      0.000010160192366\n",
       "-88.0     0.000010160192366\n",
       "-67.0     0.000010160192366\n",
       "-68.0     0.000010160192366\n",
       "-71.0     0.000010160192366\n",
       "-66.0     0.000008466826972\n",
       "-78.0     0.000006773461578\n",
       "-70.0     0.000006773461578\n",
       "-81.0     0.000006773461578\n",
       "-85.0     0.000006773461578\n",
       "-84.0     0.000005080096183\n",
       "-82.0     0.000005080096183\n",
       "-80.0     0.000005080096183\n",
       "-95.0     0.000003386730789\n",
       "-75.0     0.000003386730789\n",
       "-69.0     0.000003386730789\n",
       "-92.0     0.000003386730789\n",
       "-93.0     0.000001693365394\n",
       "-97.0     0.000001693365394\n",
       "-98.0     0.000001693365394\n",
       "-90.0     0.000001693365394\n",
       "-65.0     0.000001693365394\n",
       "Name: id_08, Length: 95, dtype: float64"
      ]
     },
     "execution_count": 256,
     "metadata": {},
     "output_type": "execute_result"
    }
   ],
   "source": [
    "train['id_08'].value_counts(dropna=False, normalize=True)"
   ]
  },
  {
   "cell_type": "code",
   "execution_count": 257,
   "metadata": {},
   "outputs": [
    {
     "data": {
      "image/png": "[encoded data removed]",
      "text/plain": [
       "<Figure size 432x288 with 1 Axes>"
      ]
     },
     "metadata": {
      "needs_background": "light"
     },
     "output_type": "display_data"
    }
   ],
   "source": [
    "plt.hist(train['id_08'])\n",
    "plt.show()"
   ]
  },
  {
   "cell_type": "markdown",
   "metadata": {},
   "source": [
    "id_08: 99% is null, value ranges from -100 to 0"
   ]
  },
  {
   "cell_type": "code",
   "execution_count": 258,
   "metadata": {},
   "outputs": [
    {
     "data": {
      "text/plain": [
       " NaN     0.873122904460324\n",
       " 0.0     0.119175669726013\n",
       " 1.0     0.002736478477326\n",
       " 3.0     0.001635790970976\n",
       " 2.0     0.001308971449859\n",
       " 4.0     0.000457208656484\n",
       " 5.0     0.000350526636638\n",
       " 6.0     0.000245537982186\n",
       "-6.0     0.000111762116029\n",
       "-5.0     0.000101601923663\n",
       "-4.0     0.000071121346564\n",
       "-10.0    0.000066041250381\n",
       "-7.0     0.000066041250381\n",
       "-1.0     0.000064347884987\n",
       "-8.0     0.000062654519592\n",
       " 7.0     0.000055881058015\n",
       "-3.0     0.000052494327226\n",
       "-2.0     0.000045720865648\n",
       "-9.0     0.000045720865648\n",
       " 8.0     0.000038947404071\n",
       "-11.0    0.000030480577099\n",
       " 9.0     0.000027093846310\n",
       " 10.0    0.000018627019338\n",
       " 12.0    0.000010160192366\n",
       " 11.0    0.000010160192366\n",
       "-17.0    0.000006773461578\n",
       "-12.0    0.000006773461578\n",
       "-13.0    0.000006773461578\n",
       "-22.0    0.000006773461578\n",
       "-23.0    0.000006773461578\n",
       " 13.0    0.000006773461578\n",
       " 15.0    0.000005080096183\n",
       "-21.0    0.000005080096183\n",
       "-31.0    0.000005080096183\n",
       " 16.0    0.000005080096183\n",
       "-19.0    0.000003386730789\n",
       "-15.0    0.000003386730789\n",
       "-26.0    0.000003386730789\n",
       "-18.0    0.000003386730789\n",
       " 14.0    0.000001693365394\n",
       "-30.0    0.000001693365394\n",
       "-14.0    0.000001693365394\n",
       "-24.0    0.000001693365394\n",
       "-20.0    0.000001693365394\n",
       "-36.0    0.000001693365394\n",
       " 17.0    0.000001693365394\n",
       " 25.0    0.000001693365394\n",
       "Name: id_09, dtype: float64"
      ]
     },
     "execution_count": 258,
     "metadata": {},
     "output_type": "execute_result"
    }
   ],
   "source": [
    "train['id_09'].value_counts(dropna=False, normalize=True)"
   ]
  },
  {
   "cell_type": "code",
   "execution_count": 259,
   "metadata": {},
   "outputs": [
    {
     "data": {
      "image/png": "[encoded data removed]",
      "text/plain": [
       "<Figure size 432x288 with 1 Axes>"
      ]
     },
     "metadata": {
      "needs_background": "light"
     },
     "output_type": "display_data"
    }
   ],
   "source": [
    "plt.hist(train['id_09'])\n",
    "plt.show()"
   ]
  },
  {
   "cell_type": "markdown",
   "metadata": {},
   "source": [
    "id_09: 87% is null, values range from -40 to 30, 11% is 0"
   ]
  },
  {
   "cell_type": "code",
   "execution_count": 260,
   "metadata": {},
   "outputs": [
    {
     "data": {
      "text/plain": [
       " NaN      0.873122904460324\n",
       " 0.0      0.123410776577370\n",
       "-6.0      0.000499542791344\n",
       "-5.0      0.000418261252413\n",
       "-1.0      0.000338673078877\n",
       "-8.0      0.000248924712975\n",
       "-11.0     0.000215057405087\n",
       "-9.0      0.000199817116537\n",
       "-12.0     0.000199817116537\n",
       "-10.0     0.000194737020354\n",
       "-7.0      0.000184576827988\n",
       "-13.0     0.000150709520100\n",
       "-4.0      0.000147322789311\n",
       "-16.0     0.000055881058015\n",
       "-2.0      0.000055881058015\n",
       "-28.0     0.000042334134860\n",
       "-3.0      0.000040640769465\n",
       "-100.0    0.000033867307888\n",
       "-15.0     0.000030480577099\n",
       "-14.0     0.000028787211705\n",
       "-21.0     0.000027093846310\n",
       "-24.0     0.000025400480916\n",
       "-22.0     0.000023707115521\n",
       "-25.0     0.000022013750127\n",
       "-29.0     0.000022013750127\n",
       "-19.0     0.000018627019338\n",
       "-18.0     0.000018627019338\n",
       "-33.0     0.000016933653944\n",
       "-31.0     0.000016933653944\n",
       "-30.0     0.000016933653944\n",
       "                ...        \n",
       "-54.0     0.000011853557761\n",
       "-26.0     0.000011853557761\n",
       "-47.0     0.000010160192366\n",
       "-20.0     0.000010160192366\n",
       "-43.0     0.000008466826972\n",
       "-38.0     0.000008466826972\n",
       "-49.0     0.000006773461578\n",
       "-35.0     0.000006773461578\n",
       "-60.0     0.000006773461578\n",
       "-56.0     0.000006773461578\n",
       "-39.0     0.000005080096183\n",
       "-36.0     0.000005080096183\n",
       "-34.0     0.000005080096183\n",
       "-37.0     0.000003386730789\n",
       "-32.0     0.000003386730789\n",
       "-68.0     0.000003386730789\n",
       "-45.0     0.000001693365394\n",
       "-42.0     0.000001693365394\n",
       "-41.0     0.000001693365394\n",
       "-64.0     0.000001693365394\n",
       "-50.0     0.000001693365394\n",
       "-51.0     0.000001693365394\n",
       "-53.0     0.000001693365394\n",
       "-55.0     0.000001693365394\n",
       "-57.0     0.000001693365394\n",
       "-58.0     0.000001693365394\n",
       "-59.0     0.000001693365394\n",
       "-65.0     0.000001693365394\n",
       "-44.0     0.000001693365394\n",
       "-40.0     0.000001693365394\n",
       "Name: id_10, Length: 63, dtype: float64"
      ]
     },
     "execution_count": 260,
     "metadata": {},
     "output_type": "execute_result"
    }
   ],
   "source": [
    "train['id_10'].value_counts(dropna=False, normalize=True)"
   ]
  },
  {
   "cell_type": "code",
   "execution_count": 261,
   "metadata": {},
   "outputs": [
    {
     "data": {
      "image/png": "[encoded data removed]",
      "text/plain": [
       "<Figure size 432x288 with 1 Axes>"
      ]
     },
     "metadata": {
      "needs_background": "light"
     },
     "output_type": "display_data"
    }
   ],
   "source": [
    "plt.hist(train['id_10'])\n",
    "plt.show()"
   ]
  },
  {
   "cell_type": "markdown",
   "metadata": {},
   "source": [
    "id_10: 87% is null, values range from -100 to 0 and 12% is 0"
   ]
  },
  {
   "cell_type": "code",
   "execution_count": 262,
   "metadata": {},
   "outputs": [
    {
     "data": {
      "text/plain": [
       "NaN         0.761272733430420\n",
       "100.0000    0.225491922647069\n",
       "95.0625     0.002111626646798\n",
       "95.1875     0.001359772411691\n",
       "97.1250     0.000956751447827\n",
       "96.6875     0.000601144715007\n",
       "95.6250     0.000508009618315\n",
       "96.1875     0.000458902021878\n",
       "94.3125     0.000389474040709\n",
       "96.7500     0.000387780675314\n",
       "93.5625     0.000374233752159\n",
       "96.5000     0.000333592982694\n",
       "97.5000     0.000282792020862\n",
       "94.0625     0.000230297693636\n",
       "94.1875     0.000213364039692\n",
       "97.6250     0.000201510481932\n",
       "96.4375     0.000171029904833\n",
       "96.2500     0.000159176347072\n",
       "95.7500     0.000155789616283\n",
       "95.6875     0.000149016154706\n",
       "93.3125     0.000147322789311\n",
       "97.0625     0.000142242693128\n",
       "94.1250     0.000140549327734\n",
       "97.1875     0.000128695769973\n",
       "97.5625     0.000096521827480\n",
       "94.3750     0.000094828462086\n",
       "90.1875     0.000093135096691\n",
       "96.5625     0.000093135096691\n",
       "97.0000     0.000091441731297\n",
       "98.3125     0.000091441731297\n",
       "                  ...        \n",
       "92.0000     0.000008466826972\n",
       "97.3750     0.000008466826972\n",
       "99.2500     0.000008466826972\n",
       "90.6875     0.000008466826972\n",
       "90.4375     0.000008466826972\n",
       "98.2500     0.000008466826972\n",
       "91.2500     0.000006773461578\n",
       "93.1875     0.000006773461578\n",
       "93.8125     0.000006773461578\n",
       "91.8750     0.000006773461578\n",
       "97.3125     0.000006773461578\n",
       "95.1250     0.000006773461578\n",
       "94.5000     0.000006773461578\n",
       "98.1875     0.000006773461578\n",
       "98.5625     0.000006773461578\n",
       "93.2500     0.000006773461578\n",
       "91.3125     0.000005080096183\n",
       "96.8750     0.000005080096183\n",
       "94.6250     0.000005080096183\n",
       "90.8125     0.000005080096183\n",
       "92.5000     0.000005080096183\n",
       "91.3750     0.000003386730789\n",
       "93.5000     0.000003386730789\n",
       "98.8750     0.000003386730789\n",
       "99.1250     0.000003386730789\n",
       "92.2500     0.000003386730789\n",
       "92.1250     0.000003386730789\n",
       "98.6875     0.000003386730789\n",
       "99.0625     0.000001693365394\n",
       "90.8750     0.000001693365394\n",
       "Name: id_11, Length: 147, dtype: float64"
      ]
     },
     "execution_count": 262,
     "metadata": {},
     "output_type": "execute_result"
    }
   ],
   "source": [
    "train['id_11'].value_counts(dropna=False, normalize=True)"
   ]
  },
  {
   "cell_type": "code",
   "execution_count": 263,
   "metadata": {},
   "outputs": [
    {
     "data": {
      "image/png": "[encoded data removed]",
      "text/plain": [
       "<Figure size 432x288 with 1 Axes>"
      ]
     },
     "metadata": {
      "needs_background": "light"
     },
     "output_type": "display_data"
    }
   ],
   "source": [
    "plt.hist(train['id_11'])\n",
    "plt.show()"
   ]
  },
  {
   "cell_type": "markdown",
   "metadata": {},
   "source": [
    "id_11: 76% is null, values range from 90 to 100 and 22% is 100"
   ]
  },
  {
   "cell_type": "code",
   "execution_count": 264,
   "metadata": {},
   "outputs": [
    {
     "data": {
      "text/plain": [
       "NaN         0.755760829071697\n",
       "NotFound    0.208326277644190\n",
       "Found       0.035912893284113\n",
       "Name: id_12, dtype: float64"
      ]
     },
     "execution_count": 264,
     "metadata": {},
     "output_type": "execute_result"
    }
   ],
   "source": [
    "# train['id_01'].value_counts().head()\n",
    "train['id_12'].value_counts(dropna=False, normalize=True)"
   ]
  },
  {
   "cell_type": "code",
   "execution_count": 265,
   "metadata": {},
   "outputs": [
    {
     "data": {
      "image/png": "[encoded data removed]",
      "text/plain": [
       "<Figure size 432x288 with 1 Axes>"
      ]
     },
     "metadata": {
      "needs_background": "light"
     },
     "output_type": "display_data"
    }
   ],
   "source": [
    "plt.hist(train['id_13'], range(10, 64))\n",
    "plt.show()"
   ]
  },
  {
   "cell_type": "markdown",
   "metadata": {},
   "source": [
    "id_13 has values between 10 and 64\n",
    "- NaN      0.784401\n",
    "- 52.0    0.098383\n",
    "- 49.0    0.044646\n",
    "- 64.0    0.024434\n",
    "- 33.0    0.017015"
   ]
  },
  {
   "cell_type": "code",
   "execution_count": 266,
   "metadata": {},
   "outputs": [
    {
     "data": {
      "text/plain": [
       " NaN      510496\n",
       "-300.0     44121\n",
       "-360.0     16661\n",
       "-480.0     12891\n",
       "-420.0      4542\n",
       "-600.0       498\n",
       " 60.0        369\n",
       " 0.0         192\n",
       "-240.0       159\n",
       "-180.0       126\n",
       "-540.0       111\n",
       " 480.0        80\n",
       " 540.0        64\n",
       " 600.0        62\n",
       " 120.0        41\n",
       " 180.0        37\n",
       " 420.0        19\n",
       " 330.0        17\n",
       " 270.0        15\n",
       " 240.0        13\n",
       " 300.0        12\n",
       " 720.0         9\n",
       "-660.0         2\n",
       "-210.0         1\n",
       " 360.0         1\n",
       "-120.0         1\n",
       "Name: id_14, dtype: int64"
      ]
     },
     "execution_count": 266,
     "metadata": {},
     "output_type": "execute_result"
    }
   ],
   "source": [
    "train['id_14'].value_counts(dropna=False)"
   ]
  },
  {
   "cell_type": "code",
   "execution_count": 267,
   "metadata": {},
   "outputs": [
    {
     "name": "stdout",
     "output_type": "stream",
     "text": [
      "id_14 min: -660.0, max: 720.0\n"
     ]
    },
    {
     "data": {
      "image/png": "[encoded data removed]",
      "text/plain": [
       "<Figure size 432x288 with 1 Axes>"
      ]
     },
     "metadata": {
      "needs_background": "light"
     },
     "output_type": "display_data"
    }
   ],
   "source": [
    "print('id_14 min: {}, max: {}'.format(train['id_14'].min(), train['id_14'].max()))\n",
    "plt.hist(train['id_14'].head(10), range(-640,720))\n",
    "plt.show()"
   ]
  },
  {
   "cell_type": "markdown",
   "metadata": {},
   "source": [
    "id_14 min: -660.0, max: 720.0\n",
    "- NaN       0.864456\n",
    "- -300.0    0.074713\n",
    "- -360.0    0.028213\n",
    "- -480.0    0.021829\n",
    "- -420.0    0.007691"
   ]
  },
  {
   "cell_type": "code",
   "execution_count": 268,
   "metadata": {},
   "outputs": [
    {
     "data": {
      "text/plain": [
       "NaN        0.761260879872659\n",
       "Found      0.114688251430894\n",
       "New        0.104331628678836\n",
       "Unknown    0.019719240017611\n",
       "Name: id_15, dtype: float64"
      ]
     },
     "execution_count": 268,
     "metadata": {},
     "output_type": "execute_result"
    }
   ],
   "source": [
    "train['id_15'].value_counts(dropna=False, normalize=True)"
   ]
  },
  {
   "cell_type": "code",
   "execution_count": 269,
   "metadata": {},
   "outputs": [
    {
     "data": {
      "text/plain": [
       "NaN         0.780980119890270\n",
       "Found       0.112310766417177\n",
       "NotFound    0.106709113692553\n",
       "Name: id_16, dtype: float64"
      ]
     },
     "execution_count": 269,
     "metadata": {},
     "output_type": "execute_result"
    }
   ],
   "source": [
    "train['id_16'].value_counts(dropna=False, normalize=True)"
   ]
  },
  {
   "cell_type": "code",
   "execution_count": 270,
   "metadata": {},
   "outputs": [
    {
     "data": {
      "text/plain": [
       "NaN      0.763997358349985\n",
       "166.0    0.133151014325871\n",
       "225.0    0.096467639787313\n",
       "102.0    0.001166728756731\n",
       "159.0    0.000596064618823\n",
       "100.0    0.000568970772513\n",
       "121.0    0.000472448945033\n",
       "148.0    0.000387780675314\n",
       "150.0    0.000213364039692\n",
       "191.0    0.000208283943509\n",
       "142.0    0.000206590578115\n",
       "192.0    0.000182883462594\n",
       "144.0    0.000157482981678\n",
       "149.0    0.000142242693128\n",
       "218.0    0.000130389135368\n",
       "106.0    0.000108375385241\n",
       "183.0    0.000104988654452\n",
       "146.0    0.000103295289057\n",
       "133.0    0.000082974904325\n",
       "135.0    0.000082974904325\n",
       "195.0    0.000082974904325\n",
       "137.0    0.000077894808142\n",
       "210.0    0.000064347884987\n",
       "119.0    0.000057574423409\n",
       "143.0    0.000050800961832\n",
       "205.0    0.000047414231043\n",
       "168.0    0.000045720865648\n",
       "171.0    0.000042334134860\n",
       "147.0    0.000040640769465\n",
       "212.0    0.000038947404071\n",
       "               ...        \n",
       "180.0    0.000008466826972\n",
       "117.0    0.000006773461578\n",
       "178.0    0.000006773461578\n",
       "124.0    0.000006773461578\n",
       "213.0    0.000005080096183\n",
       "186.0    0.000005080096183\n",
       "151.0    0.000005080096183\n",
       "204.0    0.000005080096183\n",
       "118.0    0.000003386730789\n",
       "145.0    0.000003386730789\n",
       "158.0    0.000003386730789\n",
       "140.0    0.000003386730789\n",
       "153.0    0.000003386730789\n",
       "129.0    0.000003386730789\n",
       "201.0    0.000003386730789\n",
       "123.0    0.000003386730789\n",
       "125.0    0.000001693365394\n",
       "139.0    0.000001693365394\n",
       "160.0    0.000001693365394\n",
       "175.0    0.000001693365394\n",
       "173.0    0.000001693365394\n",
       "188.0    0.000001693365394\n",
       "105.0    0.000001693365394\n",
       "219.0    0.000001693365394\n",
       "229.0    0.000001693365394\n",
       "211.0    0.000001693365394\n",
       "154.0    0.000001693365394\n",
       "220.0    0.000001693365394\n",
       "207.0    0.000001693365394\n",
       "112.0    0.000001693365394\n",
       "Name: id_17, Length: 105, dtype: float64"
      ]
     },
     "execution_count": 270,
     "metadata": {},
     "output_type": "execute_result"
    }
   ],
   "source": [
    "train['id_17'].value_counts(dropna=False, normalize=True)"
   ]
  },
  {
   "cell_type": "code",
   "execution_count": 271,
   "metadata": {},
   "outputs": [
    {
     "data": {
      "image/png": "[encoded data removed]",
      "text/plain": [
       "<Figure size 432x288 with 1 Axes>"
      ]
     },
     "metadata": {
      "needs_background": "light"
     },
     "output_type": "display_data"
    }
   ],
   "source": [
    "plt.hist(train['id_17'])\n",
    "plt.show()"
   ]
  },
  {
   "cell_type": "code",
   "execution_count": 272,
   "metadata": {},
   "outputs": [
    {
     "data": {
      "text/plain": [
       "NaN     0.923607206963118\n",
       "15.0    0.043162190537474\n",
       "13.0    0.022757137535137\n",
       "12.0    0.007884309276256\n",
       "18.0    0.001100687506350\n",
       "20.0    0.000574050868696\n",
       "17.0    0.000394554136892\n",
       "26.0    0.000150709520100\n",
       "21.0    0.000132082500762\n",
       "24.0    0.000088055000508\n",
       "11.0    0.000060961154198\n",
       "27.0    0.000054187692620\n",
       "29.0    0.000015240288549\n",
       "23.0    0.000006773461578\n",
       "14.0    0.000005080096183\n",
       "16.0    0.000001693365394\n",
       "25.0    0.000001693365394\n",
       "28.0    0.000001693365394\n",
       "10.0    0.000001693365394\n",
       "Name: id_18, dtype: float64"
      ]
     },
     "execution_count": 272,
     "metadata": {},
     "output_type": "execute_result"
    }
   ],
   "source": [
    "train['id_18'].value_counts(dropna=False, normalize=True)"
   ]
  },
  {
   "cell_type": "code",
   "execution_count": 273,
   "metadata": {},
   "outputs": [
    {
     "data": {
      "text/plain": [
       "NaN      0.764083719985098\n",
       "266.0    0.033611609713144\n",
       "410.0    0.019165509533647\n",
       "427.0    0.014915162393741\n",
       "529.0    0.013753513733193\n",
       "312.0    0.010544586310834\n",
       "100.0    0.008910488705253\n",
       "542.0    0.008663257357673\n",
       "215.0    0.008006231584651\n",
       "153.0    0.007423713888983\n",
       "417.0    0.006917397636062\n",
       "352.0    0.006631218884411\n",
       "176.0    0.006510989941410\n",
       "290.0    0.006126595996884\n",
       "193.0    0.005239272530227\n",
       "633.0    0.004575473295628\n",
       "254.0    0.004565313103261\n",
       "548.0    0.004506045314458\n",
       "621.0    0.003645815694110\n",
       "390.0    0.003214007518542\n",
       "317.0    0.003205540691570\n",
       "321.0    0.002919361939919\n",
       "122.0    0.002792359535341\n",
       "216.0    0.002700917804044\n",
       "271.0    0.002490940495140\n",
       "567.0    0.002382565109899\n",
       "492.0    0.002365631455956\n",
       "341.0    0.002143800589291\n",
       "384.0    0.001891489145528\n",
       "484.0    0.001642564432553\n",
       "               ...        \n",
       "174.0    0.000001693365394\n",
       "467.0    0.000001693365394\n",
       "319.0    0.000001693365394\n",
       "301.0    0.000001693365394\n",
       "485.0    0.000001693365394\n",
       "524.0    0.000001693365394\n",
       "589.0    0.000001693365394\n",
       "179.0    0.000001693365394\n",
       "386.0    0.000001693365394\n",
       "361.0    0.000001693365394\n",
       "668.0    0.000001693365394\n",
       "357.0    0.000001693365394\n",
       "389.0    0.000001693365394\n",
       "367.0    0.000001693365394\n",
       "496.0    0.000001693365394\n",
       "571.0    0.000001693365394\n",
       "416.0    0.000001693365394\n",
       "413.0    0.000001693365394\n",
       "552.0    0.000001693365394\n",
       "604.0    0.000001693365394\n",
       "626.0    0.000001693365394\n",
       "619.0    0.000001693365394\n",
       "199.0    0.000001693365394\n",
       "273.0    0.000001693365394\n",
       "191.0    0.000001693365394\n",
       "425.0    0.000001693365394\n",
       "412.0    0.000001693365394\n",
       "135.0    0.000001693365394\n",
       "363.0    0.000001693365394\n",
       "428.0    0.000001693365394\n",
       "Name: id_19, Length: 523, dtype: float64"
      ]
     },
     "execution_count": 273,
     "metadata": {},
     "output_type": "execute_result"
    }
   ],
   "source": [
    "train['id_19'].value_counts(dropna=False, normalize=True)"
   ]
  },
  {
   "cell_type": "code",
   "execution_count": 274,
   "metadata": {},
   "outputs": [
    {
     "data": {
      "text/plain": [
       "NaN      0.764180241812578\n",
       "507.0    0.037780675314119\n",
       "222.0    0.018737088088868\n",
       "325.0    0.013772140752532\n",
       "533.0    0.011194838622278\n",
       "214.0    0.009591221593796\n",
       "549.0    0.009555660920513\n",
       "600.0    0.009420191688963\n",
       "563.0    0.007977444372947\n",
       "333.0    0.006250211670674\n",
       "595.0    0.005889524841670\n",
       "161.0    0.005374741761777\n",
       "500.0    0.004748196565855\n",
       "401.0    0.004362109255935\n",
       "489.0    0.004318081755681\n",
       "597.0    0.004287601178582\n",
       "305.0    0.004101330985200\n",
       "256.0    0.003828699156704\n",
       "368.0    0.003759271175534\n",
       "127.0    0.003637348867139\n",
       "535.0    0.003589934636096\n",
       "391.0    0.003071764825414\n",
       "277.0    0.002655196938395\n",
       "561.0    0.002592542418803\n",
       "177.0    0.002394418667660\n",
       "280.0    0.002387645206083\n",
       "315.0    0.002220002032038\n",
       "612.0    0.002177667897179\n",
       "566.0    0.002037118569445\n",
       "266.0    0.002001557896163\n",
       "               ...        \n",
       "273.0    0.000001693365394\n",
       "265.0    0.000001693365394\n",
       "262.0    0.000001693365394\n",
       "259.0    0.000001693365394\n",
       "246.0    0.000001693365394\n",
       "255.0    0.000001693365394\n",
       "250.0    0.000001693365394\n",
       "301.0    0.000001693365394\n",
       "109.0    0.000001693365394\n",
       "355.0    0.000001693365394\n",
       "576.0    0.000001693365394\n",
       "354.0    0.000001693365394\n",
       "232.0    0.000001693365394\n",
       "642.0    0.000001693365394\n",
       "170.0    0.000001693365394\n",
       "349.0    0.000001693365394\n",
       "348.0    0.000001693365394\n",
       "240.0    0.000001693365394\n",
       "486.0    0.000001693365394\n",
       "166.0    0.000001693365394\n",
       "133.0    0.000001693365394\n",
       "661.0    0.000001693365394\n",
       "329.0    0.000001693365394\n",
       "640.0    0.000001693365394\n",
       "596.0    0.000001693365394\n",
       "108.0    0.000001693365394\n",
       "659.0    0.000001693365394\n",
       "322.0    0.000001693365394\n",
       "316.0    0.000001693365394\n",
       "606.0    0.000001693365394\n",
       "Name: id_20, Length: 395, dtype: float64"
      ]
     },
     "execution_count": 274,
     "metadata": {},
     "output_type": "execute_result"
    }
   ],
   "source": [
    "train['id_20'].value_counts(dropna=False, normalize=True)"
   ]
  },
  {
   "cell_type": "code",
   "execution_count": 275,
   "metadata": {},
   "outputs": [
    {
     "data": {
      "text/plain": [
       "NaN      0.991263927930369\n",
       "252.0    0.004304534832526\n",
       "228.0    0.000404714329258\n",
       "255.0    0.000184576827988\n",
       "596.0    0.000174416635622\n",
       "576.0    0.000171029904833\n",
       "849.0    0.000149016154706\n",
       "277.0    0.000145629423917\n",
       "755.0    0.000110068750635\n",
       "848.0    0.000098215192874\n",
       "668.0    0.000089748365902\n",
       "770.0    0.000082974904325\n",
       "249.0    0.000067734615775\n",
       "537.0    0.000064347884987\n",
       "256.0    0.000050800961832\n",
       "286.0    0.000047414231043\n",
       "440.0    0.000047414231043\n",
       "306.0    0.000045720865648\n",
       "819.0    0.000045720865648\n",
       "728.0    0.000044027500254\n",
       "189.0    0.000042334134860\n",
       "500.0    0.000040640769465\n",
       "409.0    0.000038947404071\n",
       "734.0    0.000035560673282\n",
       "262.0    0.000035560673282\n",
       "762.0    0.000032173942493\n",
       "453.0    0.000032173942493\n",
       "854.0    0.000030480577099\n",
       "232.0    0.000030480577099\n",
       "528.0    0.000027093846310\n",
       "               ...        \n",
       "335.0    0.000001693365394\n",
       "792.0    0.000001693365394\n",
       "790.0    0.000001693365394\n",
       "197.0    0.000001693365394\n",
       "336.0    0.000001693365394\n",
       "132.0    0.000001693365394\n",
       "337.0    0.000001693365394\n",
       "338.0    0.000001693365394\n",
       "783.0    0.000001693365394\n",
       "781.0    0.000001693365394\n",
       "195.0    0.000001693365394\n",
       "779.0    0.000001693365394\n",
       "194.0    0.000001693365394\n",
       "339.0    0.000001693365394\n",
       "342.0    0.000001693365394\n",
       "771.0    0.000001693365394\n",
       "532.0    0.000001693365394\n",
       "769.0    0.000001693365394\n",
       "192.0    0.000001693365394\n",
       "767.0    0.000001693365394\n",
       "349.0    0.000001693365394\n",
       "424.0    0.000001693365394\n",
       "764.0    0.000001693365394\n",
       "352.0    0.000001693365394\n",
       "190.0    0.000001693365394\n",
       "759.0    0.000001693365394\n",
       "758.0    0.000001693365394\n",
       "158.0    0.000001693365394\n",
       "753.0    0.000001693365394\n",
       "115.0    0.000001693365394\n",
       "Name: id_21, Length: 491, dtype: float64"
      ]
     },
     "execution_count": 275,
     "metadata": {},
     "output_type": "execute_result"
    }
   ],
   "source": [
    "train['id_21'].value_counts(dropna=False, normalize=True)"
   ]
  },
  {
   "cell_type": "code",
   "execution_count": 276,
   "metadata": {},
   "outputs": [
    {
     "data": {
      "text/plain": [
       "NaN     0.991246994276425\n",
       "14.0    0.008019778507806\n",
       "41.0    0.000543570291598\n",
       "33.0    0.000064347884987\n",
       "21.0    0.000011853557761\n",
       "17.0    0.000011853557761\n",
       "39.0    0.000010160192366\n",
       "35.0    0.000008466826972\n",
       "36.0    0.000008466826972\n",
       "22.0    0.000008466826972\n",
       "12.0    0.000008466826972\n",
       "31.0    0.000008466826972\n",
       "24.0    0.000006773461578\n",
       "20.0    0.000006773461578\n",
       "26.0    0.000006773461578\n",
       "42.0    0.000005080096183\n",
       "28.0    0.000005080096183\n",
       "19.0    0.000003386730789\n",
       "38.0    0.000003386730789\n",
       "18.0    0.000001693365394\n",
       "44.0    0.000001693365394\n",
       "43.0    0.000001693365394\n",
       "40.0    0.000001693365394\n",
       "23.0    0.000001693365394\n",
       "37.0    0.000001693365394\n",
       "10.0    0.000001693365394\n",
       "Name: id_22, dtype: float64"
      ]
     },
     "execution_count": 276,
     "metadata": {},
     "output_type": "execute_result"
    }
   ],
   "source": [
    "train['id_22'].value_counts(dropna=False, normalize=True)"
   ]
  },
  {
   "cell_type": "code",
   "execution_count": 277,
   "metadata": {},
   "outputs": [
    {
     "data": {
      "text/plain": [
       "NaN                     0.991246994276425\n",
       "IP_PROXY:TRANSPARENT    0.005908151861009\n",
       "IP_PROXY:ANONYMOUS      0.001813594337386\n",
       "IP_PROXY:HIDDEN         0.001031259525180\n",
       "Name: id_23, dtype: float64"
      ]
     },
     "execution_count": 277,
     "metadata": {},
     "output_type": "execute_result"
    }
   ],
   "source": [
    "train['id_23'].value_counts(dropna=False, normalize=True)"
   ]
  },
  {
   "cell_type": "code",
   "execution_count": 278,
   "metadata": {},
   "outputs": [
    {
     "data": {
      "text/plain": [
       "NaN     0.991961594472855\n",
       "11.0    0.004770210315982\n",
       "15.0    0.002699224438649\n",
       "16.0    0.000372540386765\n",
       "18.0    0.000062654519592\n",
       "21.0    0.000055881058015\n",
       "24.0    0.000020320384733\n",
       "17.0    0.000015240288549\n",
       "26.0    0.000013546923155\n",
       "25.0    0.000011853557761\n",
       "19.0    0.000008466826972\n",
       "12.0    0.000006773461578\n",
       "23.0    0.000001693365394\n",
       "Name: id_24, dtype: float64"
      ]
     },
     "execution_count": 278,
     "metadata": {},
     "output_type": "execute_result"
    }
   ],
   "source": [
    "train['id_24'].value_counts(dropna=False, normalize=True)"
   ]
  },
  {
   "cell_type": "code",
   "execution_count": 279,
   "metadata": {},
   "outputs": [
    {
     "data": {
      "text/plain": [
       "NaN      0.991309648796017\n",
       "321.0    0.004223253293596\n",
       "205.0    0.000509702983710\n",
       "426.0    0.000399634233075\n",
       "501.0    0.000174416635622\n",
       "371.0    0.000140549327734\n",
       "524.0    0.000132082500762\n",
       "442.0    0.000130389135368\n",
       "509.0    0.000110068750635\n",
       "123.0    0.000089748365902\n",
       "126.0    0.000086361635114\n",
       "505.0    0.000082974904325\n",
       "356.0    0.000047414231043\n",
       "247.0    0.000047414231043\n",
       "486.0    0.000045720865648\n",
       "359.0    0.000045720865648\n",
       "463.0    0.000045720865648\n",
       "143.0    0.000044027500254\n",
       "512.0    0.000042334134860\n",
       "479.0    0.000040640769465\n",
       "511.0    0.000040640769465\n",
       "385.0    0.000035560673282\n",
       "460.0    0.000033867307888\n",
       "239.0    0.000032173942493\n",
       "170.0    0.000032173942493\n",
       "258.0    0.000030480577099\n",
       "443.0    0.000030480577099\n",
       "270.0    0.000030480577099\n",
       "499.0    0.000030480577099\n",
       "236.0    0.000028787211705\n",
       "               ...        \n",
       "341.0    0.000001693365394\n",
       "187.0    0.000001693365394\n",
       "263.0    0.000001693365394\n",
       "189.0    0.000001693365394\n",
       "195.0    0.000001693365394\n",
       "197.0    0.000001693365394\n",
       "200.0    0.000001693365394\n",
       "201.0    0.000001693365394\n",
       "206.0    0.000001693365394\n",
       "209.0    0.000001693365394\n",
       "235.0    0.000001693365394\n",
       "240.0    0.000001693365394\n",
       "248.0    0.000001693365394\n",
       "261.0    0.000001693365394\n",
       "262.0    0.000001693365394\n",
       "267.0    0.000001693365394\n",
       "338.0    0.000001693365394\n",
       "278.0    0.000001693365394\n",
       "279.0    0.000001693365394\n",
       "293.0    0.000001693365394\n",
       "302.0    0.000001693365394\n",
       "304.0    0.000001693365394\n",
       "306.0    0.000001693365394\n",
       "313.0    0.000001693365394\n",
       "317.0    0.000001693365394\n",
       "319.0    0.000001693365394\n",
       "330.0    0.000001693365394\n",
       "331.0    0.000001693365394\n",
       "336.0    0.000001693365394\n",
       "292.0    0.000001693365394\n",
       "Name: id_25, Length: 342, dtype: float64"
      ]
     },
     "execution_count": 279,
     "metadata": {},
     "output_type": "execute_result"
    }
   ],
   "source": [
    "train['id_25'].value_counts(dropna=False, normalize=True)"
   ]
  },
  {
   "cell_type": "code",
   "execution_count": 280,
   "metadata": {},
   "outputs": [
    {
     "data": {
      "text/plain": [
       "NaN      0.991257154468791\n",
       "161.0    0.001395333084973\n",
       "184.0    0.000985538659532\n",
       "142.0    0.000894096928235\n",
       "102.0    0.000763707792868\n",
       "100.0    0.000733227215769\n",
       "119.0    0.000635012022894\n",
       "169.0    0.000618078368950\n",
       "147.0    0.000394554136892\n",
       "215.0    0.000240457886003\n",
       "121.0    0.000193043654960\n",
       "182.0    0.000186270193382\n",
       "146.0    0.000171029904833\n",
       "194.0    0.000155789616283\n",
       "190.0    0.000101601923663\n",
       "216.0    0.000094828462086\n",
       "150.0    0.000069427981170\n",
       "149.0    0.000062654519592\n",
       "137.0    0.000062654519592\n",
       "117.0    0.000060961154198\n",
       "133.0    0.000057574423409\n",
       "199.0    0.000055881058015\n",
       "138.0    0.000049107596437\n",
       "162.0    0.000042334134860\n",
       "143.0    0.000042334134860\n",
       "168.0    0.000038947404071\n",
       "106.0    0.000035560673282\n",
       "177.0    0.000032173942493\n",
       "107.0    0.000028787211705\n",
       "159.0    0.000028787211705\n",
       "               ...        \n",
       "201.0    0.000003386730789\n",
       "123.0    0.000003386730789\n",
       "124.0    0.000003386730789\n",
       "125.0    0.000003386730789\n",
       "209.0    0.000003386730789\n",
       "108.0    0.000003386730789\n",
       "195.0    0.000003386730789\n",
       "193.0    0.000003386730789\n",
       "165.0    0.000003386730789\n",
       "126.0    0.000003386730789\n",
       "170.0    0.000003386730789\n",
       "174.0    0.000003386730789\n",
       "141.0    0.000003386730789\n",
       "109.0    0.000003386730789\n",
       "128.0    0.000003386730789\n",
       "131.0    0.000001693365394\n",
       "127.0    0.000001693365394\n",
       "145.0    0.000001693365394\n",
       "160.0    0.000001693365394\n",
       "172.0    0.000001693365394\n",
       "176.0    0.000001693365394\n",
       "178.0    0.000001693365394\n",
       "187.0    0.000001693365394\n",
       "198.0    0.000001693365394\n",
       "200.0    0.000001693365394\n",
       "214.0    0.000001693365394\n",
       "101.0    0.000001693365394\n",
       "115.0    0.000001693365394\n",
       "122.0    0.000001693365394\n",
       "189.0    0.000001693365394\n",
       "Name: id_26, Length: 96, dtype: float64"
      ]
     },
     "execution_count": 280,
     "metadata": {},
     "output_type": "execute_result"
    }
   ],
   "source": [
    "train['id_26'].value_counts(dropna=False, normalize=True)"
   ]
  },
  {
   "cell_type": "code",
   "execution_count": 281,
   "metadata": {},
   "outputs": [
    {
     "data": {
      "text/plain": [
       "NaN         0.991246994276425\n",
       "Found       0.008729298608054\n",
       "NotFound    0.000023707115521\n",
       "Name: id_27, dtype: float64"
      ]
     },
     "execution_count": 281,
     "metadata": {},
     "output_type": "execute_result"
    }
   ],
   "source": [
    "train['id_27'].value_counts(dropna=False, normalize=True)"
   ]
  },
  {
   "cell_type": "code",
   "execution_count": 282,
   "metadata": {},
   "outputs": [
    {
     "data": {
      "text/plain": [
       "NaN      0.761272733430420\n",
       "Found    0.129088630744742\n",
       "New      0.109638635824838\n",
       "Name: id_28, dtype: float64"
      ]
     },
     "execution_count": 282,
     "metadata": {},
     "output_type": "execute_result"
    }
   ],
   "source": [
    "train['id_28'].value_counts(dropna=False, normalize=True)"
   ]
  },
  {
   "cell_type": "code",
   "execution_count": 283,
   "metadata": {},
   "outputs": [
    {
     "data": {
      "text/plain": [
       "NaN         0.761272733430420\n",
       "Found       0.126877095539676\n",
       "NotFound    0.111850171029905\n",
       "Name: id_29, dtype: float64"
      ]
     },
     "execution_count": 283,
     "metadata": {},
     "output_type": "execute_result"
    }
   ],
   "source": [
    "train['id_29'].value_counts(dropna=False, normalize=True)"
   ]
  },
  {
   "cell_type": "code",
   "execution_count": 284,
   "metadata": {},
   "outputs": [
    {
     "data": {
      "text/plain": [
       "NaN                 0.868654113184543\n",
       "Windows 10          0.035823144918210\n",
       "Windows 7           0.022200020320385\n",
       "iOS 11.2.1          0.006302705997900\n",
       "iOS 11.1.2          0.006263758593829\n",
       "Android 7.0         0.004861652047279\n",
       "Mac OS X 10_12_6    0.004333322044231\n",
       "Mac OS X 10_11_6    0.003976021946016\n",
       "iOS 11.3.0          0.003413824635080\n",
       "Windows 8.1         0.003241101364853\n",
       "Mac OS X 10_10_5    0.002795746266129\n",
       "iOS 11.2.6          0.002788972804552\n",
       "iOS 10.3.3          0.002638263284452\n",
       "Mac OS X 10_13_2    0.002406272225421\n",
       "Mac OS X 10_13_1    0.002050665492600\n",
       "iOS 11.2.5          0.002032038473262\n",
       "Linux               0.001923663088021\n",
       "Android             0.001827141260541\n",
       "iOS 11.2.2          0.001527415585735\n",
       "Mac OS X 10_13_3    0.001456294239171\n",
       "iOS 11.2.0          0.001442747316016\n",
       "Mac OS X 10_13_4    0.001285264334338\n",
       "iOS 11.1.1          0.001185355776069\n",
       "iOS 11.0.3          0.001115927794900\n",
       "Android 7.1.1       0.001066820198462\n",
       "Mac OS X 10_9_5     0.000965218274799\n",
       "Android 6.0.1       0.000958444813222\n",
       "iOS 10.3.2          0.000724760388797\n",
       "iOS 9.3.5           0.000701053273275\n",
       "Android 5.1.1       0.000592677888035\n",
       "                          ...        \n",
       "iOS 11.3.1          0.000230297693636\n",
       "Mac OS X 10.10      0.000228604328242\n",
       "Windows XP          0.000221830866664\n",
       "iOS 11.0.1          0.000215057405087\n",
       "Mac OS X 10_12_4    0.000174416635622\n",
       "iOS 10.1.1          0.000162563077861\n",
       "iOS 10.0.2          0.000160869712467\n",
       "Mac OS X 10_12_3    0.000160869712467\n",
       "Mac OS X 10_7_5     0.000157482981678\n",
       "Mac OS X 10_11_5    0.000138855962340\n",
       "Android 6.0         0.000135469231551\n",
       "Mac OS X 10_8_5     0.000125309039184\n",
       "Android 4.4.2       0.000106682019846\n",
       "Mac OS X 10.9       0.000098215192874\n",
       "Android 5.0.2       0.000093135096691\n",
       "Mac OS X 10_11_3    0.000091441731297\n",
       "Mac OS X 10_11_4    0.000089748365902\n",
       "Mac OS X 10_6_8     0.000084668269719\n",
       "Mac OS X 10.6       0.000082974904325\n",
       "Mac OS X 10_12      0.000082974904325\n",
       "Mac OS X 10_12_1    0.000074508077353\n",
       "Android 5.0         0.000069427981170\n",
       "Mac OS X 10_12_2    0.000055881058015\n",
       "Android 7.1.2       0.000055881058015\n",
       "other               0.000025400480916\n",
       "func                0.000016933653944\n",
       "iOS 11.4.0          0.000008466826972\n",
       "Mac OS X 10_13_5    0.000006773461578\n",
       "Windows             0.000005080096183\n",
       "iOS 11.4.1          0.000001693365394\n",
       "Name: id_30, Length: 76, dtype: float64"
      ]
     },
     "execution_count": 284,
     "metadata": {},
     "output_type": "execute_result"
    }
   ],
   "source": [
    "train['id_30'].value_counts(dropna=False, normalize=True)"
   ]
  },
  {
   "cell_type": "code",
   "execution_count": null,
   "metadata": {},
   "outputs": [],
   "source": [
    "# https://www.kaggle.com/kabure/extensive-eda-and-modeling-xgb-hyperopt\n",
    "# id_30 OS\n",
    "train.loc[train['id_30'].str.contains('Windows', na=False), 'id_30'] = 'Windows'\n",
    "train.loc[train['id_30'].str.contains('iOS', na=False), 'id_30'] = 'iOS'\n",
    "train.loc[train['id_30'].str.contains('Mac OS', na=False), 'id_30'] = 'Mac'\n",
    "train.loc[train['id_30'].str.contains('Android', na=False), 'id_30'] = 'Android'\n",
    "train['id_30'].fillna(\"NAN\", inplace=True)\n",
    "\n",
    "train['id_30'].value_counts()"
   ]
  },
  {
   "cell_type": "code",
   "execution_count": 285,
   "metadata": {},
   "outputs": [
    {
     "data": {
      "text/plain": [
       "NaN                           0.762451315744911\n",
       "chrome 63.0                   0.037254038676466\n",
       "mobile safari 11.0            0.022730043688827\n",
       "mobile safari generic         0.019429674535171\n",
       "ie 11.0 for desktop           0.015291089511295\n",
       "safari generic                0.013877129406983\n",
       "chrome 62.0                   0.012161750262472\n",
       "chrome 65.0                   0.011635113624818\n",
       "chrome 64.0                   0.011364175161716\n",
       "chrome 63.0 for android       0.009831679479798\n",
       "chrome generic                0.008090899854371\n",
       "chrome 66.0                   0.007220510041657\n",
       "edge 16.0                     0.007091814271684\n",
       "chrome 64.0 for android       0.005881058014698\n",
       "chrome 65.0 for android       0.005649066955668\n",
       "firefox 57.0                  0.005613506282386\n",
       "mobile safari 10.0            0.004705862430995\n",
       "chrome 66.0 for android       0.003977715311410\n",
       "chrome 62.0 for android       0.003550987232025\n",
       "edge 15.0                     0.002709384631016\n",
       "chrome generic for android    0.001960917126698\n",
       "firefox 59.0                  0.001861008568429\n",
       "samsung browser 6.2           0.001796660683442\n",
       "firefox 58.0                  0.001410573373523\n",
       "chrome 49.0                   0.001217529718563\n",
       "firefox                       0.001139634910421\n",
       "ie 11.0 for tablet            0.001095607410167\n",
       "chrome 61.0                   0.001087140583195\n",
       "safari 11.0                   0.000931350966912\n",
       "mobile safari 9.0             0.000916110678362\n",
       "                                    ...        \n",
       "safari                        0.000023707115521\n",
       "mobile                        0.000018627019338\n",
       "ZTE/Blade                     0.000015240288549\n",
       "samsung browser 3.3           0.000013546923155\n",
       "maxthon                       0.000010160192366\n",
       "comodo                        0.000010160192366\n",
       "line                          0.000010160192366\n",
       "aol                           0.000008466826972\n",
       "icedragon                     0.000008466826972\n",
       "Mozilla/Firefox               0.000008466826972\n",
       "Lanix/Ilium                   0.000005080096183\n",
       "facebook                      0.000003386730789\n",
       "puffin                        0.000003386730789\n",
       "waterfox                      0.000003386730789\n",
       "palemoon                      0.000003386730789\n",
       "iron                          0.000001693365394\n",
       "chromium                      0.000001693365394\n",
       "Cherry                        0.000001693365394\n",
       "M4Tel/M4                      0.000001693365394\n",
       "cyberfox                      0.000001693365394\n",
       "chrome 67.0 for android       0.000001693365394\n",
       "android                       0.000001693365394\n",
       "chrome 69.0                   0.000001693365394\n",
       "Nokia/Lumia                   0.000001693365394\n",
       "firefox mobile 61.0           0.000001693365394\n",
       "Samsung/SCH                   0.000001693365394\n",
       "LG/K-200                      0.000001693365394\n",
       "Inco/Minion                   0.000001693365394\n",
       "seamonkey                     0.000001693365394\n",
       "BLU/Dash                      0.000001693365394\n",
       "Name: id_31, Length: 131, dtype: float64"
      ]
     },
     "execution_count": 285,
     "metadata": {},
     "output_type": "execute_result"
    }
   ],
   "source": [
    "train['id_31'].value_counts(dropna=False, normalize=True)"
   ]
  },
  {
   "cell_type": "code",
   "execution_count": 286,
   "metadata": {},
   "outputs": [
    {
     "data": {
      "text/plain": [
       "NaN     0.868618552511261\n",
       "24.0    0.089868594845396\n",
       "32.0    0.041365529854032\n",
       "16.0    0.000137162596945\n",
       "0.0     0.000010160192366\n",
       "Name: id_32, dtype: float64"
      ]
     },
     "execution_count": 286,
     "metadata": {},
     "output_type": "execute_result"
    }
   ],
   "source": [
    "train['id_32'].value_counts(dropna=False, normalize=True)"
   ]
  },
  {
   "cell_type": "code",
   "execution_count": 287,
   "metadata": {},
   "outputs": [
    {
     "data": {
      "text/plain": [
       "NaN          0.875894943610932\n",
       "1920x1080    0.028573847664849\n",
       "1366x768     0.014571409218681\n",
       "1334x750     0.010917126697599\n",
       "2208x1242    0.008297490432486\n",
       "1440x900     0.007423713888983\n",
       "1600x900     0.005943712534291\n",
       "2048x1536    0.005896298303248\n",
       "1280x800     0.003639042232533\n",
       "2560x1600    0.003544213770447\n",
       "2560x1440    0.003158126460528\n",
       "2880x1800    0.002973549632540\n",
       "1280x1024    0.002951535882413\n",
       "1680x1050    0.002924442036103\n",
       "1136x640     0.002899041555187\n",
       "2436x1125    0.002512954245267\n",
       "1280x720     0.002231855589799\n",
       "1920x1200    0.001788193856470\n",
       "2001x1125    0.001727232702272\n",
       "1024x768     0.001395333084973\n",
       "2220x1080    0.000921190774545\n",
       "5120x2880    0.000672266061571\n",
       "3360x2100    0.000643478849866\n",
       "2732x2048    0.000599451349612\n",
       "1366x767     0.000567277407119\n",
       "3840x2160    0.000445355098723\n",
       "855x480      0.000423341348596\n",
       "2736x1824    0.000408101060047\n",
       "1360x768     0.000379313848342\n",
       "4096x2304    0.000352220002032\n",
       "                   ...        \n",
       "1439x809     0.000001693365394\n",
       "1920x1018    0.000001693365394\n",
       "1440x803     0.000001693365394\n",
       "6720x3780    0.000001693365394\n",
       "3838x2160    0.000001693365394\n",
       "1232x800     0.000001693365394\n",
       "1441x901     0.000001693365394\n",
       "480x320      0.000001693365394\n",
       "2710x1440    0.000001693365394\n",
       "3199x1800    0.000001693365394\n",
       "3696x2310    0.000001693365394\n",
       "1188x720     0.000001693365394\n",
       "1360x767     0.000001693365394\n",
       "2999x2000    0.000001693365394\n",
       "2048x1278    0.000001693365394\n",
       "1440x800     0.000001693365394\n",
       "1776x1080    0.000001693365394\n",
       "768x576      0.000001693365394\n",
       "2160x1439    0.000001693365394\n",
       "1918x1080    0.000001693365394\n",
       "3072x1728    0.000001693365394\n",
       "976x600      0.000001693365394\n",
       "1092x614     0.000001693365394\n",
       "1720x1440    0.000001693365394\n",
       "3001x2000    0.000001693365394\n",
       "1638x922     0.000001693365394\n",
       "2100x1312    0.000001693365394\n",
       "2882x1442    0.000001693365394\n",
       "4499x2999    0.000001693365394\n",
       "4200x2625    0.000001693365394\n",
       "Name: id_33, Length: 261, dtype: float64"
      ]
     },
     "execution_count": 287,
     "metadata": {},
     "output_type": "execute_result"
    }
   ],
   "source": [
    "train['id_33'].value_counts(dropna=False, normalize=True)"
   ]
  },
  {
   "cell_type": "code",
   "execution_count": 288,
   "metadata": {},
   "outputs": [
    {
     "data": {
      "text/plain": [
       "NaN                0.868247705489891\n",
       "match_status:2     0.101620550682426\n",
       "match_status:1     0.029423917092830\n",
       "match_status:0     0.000702746638670\n",
       "match_status:-1    0.000005080096183\n",
       "Name: id_34, dtype: float64"
      ]
     },
     "execution_count": 288,
     "metadata": {},
     "output_type": "execute_result"
    }
   ],
   "source": [
    "train['id_34'].value_counts(dropna=False, normalize=True)"
   ]
  },
  {
   "cell_type": "code",
   "execution_count": 289,
   "metadata": {},
   "outputs": [
    {
     "data": {
      "text/plain": [
       "NaN    0.761260879872659\n",
       "T      0.131767534798659\n",
       "F      0.106971585328682\n",
       "Name: id_35, dtype: float64"
      ]
     },
     "execution_count": 289,
     "metadata": {},
     "output_type": "execute_result"
    }
   ],
   "source": [
    "train['id_35'].value_counts(dropna=False, normalize=True)"
   ]
  },
  {
   "cell_type": "code",
   "execution_count": 290,
   "metadata": {},
   "outputs": [
    {
     "data": {
      "text/plain": [
       "NaN    0.761260879872659\n",
       "F      0.227022724963593\n",
       "T      0.011716395163748\n",
       "Name: id_36, dtype: float64"
      ]
     },
     "execution_count": 290,
     "metadata": {},
     "output_type": "execute_result"
    }
   ],
   "source": [
    "train['id_36'].value_counts(dropna=False, normalize=True)"
   ]
  },
  {
   "cell_type": "code",
   "execution_count": 291,
   "metadata": {},
   "outputs": [
    {
     "data": {
      "text/plain": [
       "NaN    0.761260879872659\n",
       "T      0.187035594540590\n",
       "F      0.051703525586751\n",
       "Name: id_37, dtype: float64"
      ]
     },
     "execution_count": 291,
     "metadata": {},
     "output_type": "execute_result"
    }
   ],
   "source": [
    "train['id_37'].value_counts(dropna=False, normalize=True)"
   ]
  },
  {
   "cell_type": "code",
   "execution_count": 292,
   "metadata": {},
   "outputs": [
    {
     "data": {
      "text/plain": [
       "NaN    0.761260879872659\n",
       "F      0.125176956683713\n",
       "T      0.113562163443628\n",
       "Name: id_38, dtype: float64"
      ]
     },
     "execution_count": 292,
     "metadata": {},
     "output_type": "execute_result"
    }
   ],
   "source": [
    "train['id_38'].value_counts(dropna=False, normalize=True)"
   ]
  },
  {
   "cell_type": "code",
   "execution_count": 293,
   "metadata": {},
   "outputs": [
    {
     "data": {
      "text/plain": [
       "NaN        0.761557218816676\n",
       "desktop    0.144215463812782\n",
       "mobile     0.094227317370542\n",
       "Name: DeviceType, dtype: float64"
      ]
     },
     "execution_count": 293,
     "metadata": {},
     "output_type": "execute_result"
    }
   ],
   "source": [
    "train['DeviceType'].value_counts(dropna=False, normalize=True)"
   ]
  },
  {
   "cell_type": "code",
   "execution_count": 294,
   "metadata": {},
   "outputs": [
    {
     "data": {
      "text/plain": [
       "NaN                               0.799055102109933\n",
       "Windows                           0.080810783350831\n",
       "iOS Device                        0.033498154231720\n",
       "MacOS                             0.021290683103600\n",
       "Trident/7.0                       0.012598638534223\n",
       "rv:11.0                           0.003219087614726\n",
       "rv:57.0                           0.001629017509398\n",
       "SM-J700M Build/MMB29K             0.000929657601517\n",
       "SM-G610M Build/MMB29K             0.000780641446811\n",
       "SM-G531H Build/LMY48B             0.000694279811698\n",
       "rv:59.0                           0.000612998272767\n",
       "SM-G935F Build/NRD90M             0.000565584041725\n",
       "SM-G955U Build/NRD90M             0.000555423849358\n",
       "SM-G532M Build/MMB29T             0.000535103464626\n",
       "ALE-L23 Build/HuaweiALE-L23       0.000528330003048\n",
       "SM-G950U Build/NRD90M             0.000491075964372\n",
       "SM-G930V Build/NRD90M             0.000463982118061\n",
       "rv:58.0                           0.000455515291090\n",
       "rv:52.0                           0.000433501540963\n",
       "SAMSUNG                           0.000397940867680\n",
       "SM-G950F Build/NRD90M             0.000381007213737\n",
       "Moto G (4) Build/NPJ25.93-14.7    0.000370847021370\n",
       "SM-N950U Build/NMF26X             0.000353913367426\n",
       "SM-A300H Build/LRX22G             0.000343753175060\n",
       "hi6210sft Build/MRA58K            0.000321739424933\n",
       "SM-J730GM Build/NRD90M            0.000311579232567\n",
       "SM-G570M Build/MMB29K             0.000308192501778\n",
       "rv:48.0                           0.000301419040200\n",
       "CAM-L03 Build/HUAWEICAM-L03       0.000291258847834\n",
       "SM-J320M Build/LMY47V             0.000289565482440\n",
       "                                        ...        \n",
       "IO                                0.000001693365394\n",
       "SM-J510MN Build/NMF26X            0.000001693365394\n",
       "LG-V700                           0.000001693365394\n",
       "LG-H343                           0.000001693365394\n",
       "LGL57BL                           0.000001693365394\n",
       "Nexus 5X Build/OPR4.170623.006    0.000001693365394\n",
       "U FEEL LITE Build/MRA58K          0.000001693365394\n",
       "9022X                             0.000001693365394\n",
       "E501                              0.000001693365394\n",
       "E2006                             0.000001693365394\n",
       "SM-A500W                          0.000001693365394\n",
       "BBA100-1                          0.000001693365394\n",
       "SM-J250M Build/NMF26X             0.000001693365394\n",
       "LG-SP200                          0.000001693365394\n",
       "SAMSUNG SM-J320F Build/LMY47V     0.000001693365394\n",
       "TA-1020                           0.000001693365394\n",
       "LGUS992                           0.000001693365394\n",
       "LG-H345                           0.000001693365394\n",
       "ASUS_X00HD Build/NMF26F           0.000001693365394\n",
       "Helix                             0.000001693365394\n",
       "VK815                             0.000001693365394\n",
       "H550                              0.000001693365394\n",
       "NXA8QC116                         0.000001693365394\n",
       "SM-G903W                          0.000001693365394\n",
       "LG-F400K                          0.000001693365394\n",
       "ZTE BLADE A321 Build/NMF26F       0.000001693365394\n",
       "SM-N900T                          0.000001693365394\n",
       "NetHelper70                       0.000001693365394\n",
       "ASUS_A001                         0.000001693365394\n",
       "A37f                              0.000001693365394\n",
       "Name: DeviceInfo, Length: 1787, dtype: float64"
      ]
     },
     "execution_count": 294,
     "metadata": {},
     "output_type": "execute_result"
    }
   ],
   "source": [
    "train['DeviceInfo'].value_counts(dropna=False, normalize=True)"
   ]
  },
  {
   "cell_type": "markdown",
   "metadata": {},
   "source": [
    "# Explore Transaction Data"
   ]
  },
  {
   "cell_type": "code",
   "execution_count": 295,
   "metadata": {},
   "outputs": [
    {
     "data": {
      "text/plain": [
       "<matplotlib.axes._subplots.AxesSubplot at 0x7f878b02e940>"
      ]
     },
     "execution_count": 295,
     "metadata": {},
     "output_type": "execute_result"
    },
    {
     "data": {
      "image/png": "[encoded data removed]",
      "text/plain": [
       "<Figure size 1152x576 with 2 Axes>"
      ]
     },
     "metadata": {
      "needs_background": "light"
     },
     "output_type": "display_data"
    }
   ],
   "source": [
    "# https://www.kaggle.com/plasticgrammer/ieee-cis-fraud-detection-eda\n",
    "fig,ax = plt.subplots(2, 1, figsize=(16,8))\n",
    "\n",
    "train['_seq_day'] = train['TransactionDT'] // (24*60*60)\n",
    "train['_seq_week'] = train['_seq_day'] // 7\n",
    "train.groupby('_seq_day')['isFraud'].mean().to_frame().plot.line(ax=ax[0])\n",
    "train.groupby('_seq_week')['isFraud'].mean().to_frame().plot.line(ax=ax[1])"
   ]
  },
  {
   "cell_type": "code",
   "execution_count": 296,
   "metadata": {
    "scrolled": true
   },
   "outputs": [
    {
     "data": {
      "text/plain": [
       "<matplotlib.axes._subplots.AxesSubplot at 0x7f878b2359b0>"
      ]
     },
     "execution_count": 296,
     "metadata": {},
     "output_type": "execute_result"
    },
    {
     "data": {
      "image/png": "[encoded data removed]",
      "text/plain": [
       "<Figure size 1152x864 with 4 Axes>"
      ]
     },
     "metadata": {
      "needs_background": "light"
     },
     "output_type": "display_data"
    }
   ],
   "source": [
    "# http://localhost:8888/notebooks/IEEE-CIS%20Fraud%20Detection%20_%20EDA.ipynb\n",
    "import datetime\n",
    "\n",
    "START_DATE = '2017-11-30'\n",
    "startdate = datetime.datetime.strptime(START_DATE, \"%Y-%m-%d\")\n",
    "train['Date'] = train['TransactionDT'].apply(lambda x: (startdate + datetime.timedelta(seconds=x)))\n",
    "train['_ymd'] = train['Date'].dt.year.astype(str) + '-' + train['Date'].dt.month.astype(str) + '-' + train['Date'].dt.day.astype(str)\n",
    "train['_year_month'] = train['Date'].dt.year.astype(str) + '-' + train['Date'].dt.month.astype(str)\n",
    "train['_weekday'] = train['Date'].dt.dayofweek\n",
    "train['_hour'] = train['Date'].dt.hour\n",
    "train['_day'] = train['Date'].dt.day\n",
    "\n",
    "fig,ax = plt.subplots(4, 1, figsize=(16,12))\n",
    "\n",
    "train.groupby('_weekday')['isFraud'].mean().to_frame().plot.bar(ax=ax[0])\n",
    "train.groupby('_hour')['isFraud'].mean().to_frame().plot.bar(ax=ax[1])\n",
    "train.groupby('_day')['isFraud'].mean().to_frame().plot.bar(ax=ax[2])\n",
    "train.groupby('_year_month')['isFraud'].mean().to_frame().plot.bar(ax=ax[3])"
   ]
  },
  {
   "cell_type": "code",
   "execution_count": 297,
   "metadata": {},
   "outputs": [
    {
     "data": {
      "text/plain": [
       "7919     0.025285332068954\n",
       "9500     0.023981440715278\n",
       "15885    0.017544958851221\n",
       "17188    0.017516171639516\n",
       "15066    0.013453788058387\n",
       "12695    0.012007654011583\n",
       "12544    0.011469163816168\n",
       "6019     0.011465777085379\n",
       "2803     0.010398956886917\n",
       "7585     0.009032411013649\n",
       "10616    0.008758085819758\n",
       "12839    0.008685271107800\n",
       "3154     0.007813187929691\n",
       "2616     0.007467741389237\n",
       "18132    0.007127374944966\n",
       "9633     0.007041013309852\n",
       "15497    0.006734514173468\n",
       "16132    0.006653232634538\n",
       "2884     0.006558404172452\n",
       "16075    0.006346733498154\n",
       "11207    0.006253598401463\n",
       "10112    0.006028380804010\n",
       "7508     0.005909845226403\n",
       "10057    0.005361194838622\n",
       "12501    0.005337487723101\n",
       "7826     0.005090256375521\n",
       "16659    0.005059775798422\n",
       "12577    0.004895519355166\n",
       "5812     0.004771903681376\n",
       "7664     0.004727876181122\n",
       "               ...        \n",
       "15229    0.000001693365394\n",
       "7772     0.000001693365394\n",
       "12456    0.000001693365394\n",
       "16550    0.000001693365394\n",
       "5218     0.000001693365394\n",
       "3958     0.000001693365394\n",
       "1911     0.000001693365394\n",
       "7342     0.000001693365394\n",
       "11944    0.000001693365394\n",
       "8572     0.000001693365394\n",
       "4369     0.000001693365394\n",
       "15463    0.000001693365394\n",
       "10621    0.000001693365394\n",
       "11365    0.000001693365394\n",
       "2937     0.000001693365394\n",
       "9084     0.000001693365394\n",
       "3169     0.000001693365394\n",
       "3859     0.000001693365394\n",
       "13182    0.000001693365394\n",
       "17776    0.000001693365394\n",
       "3449     0.000001693365394\n",
       "5498     0.000001693365394\n",
       "7547     0.000001693365394\n",
       "4706     0.000001693365394\n",
       "2657     0.000001693365394\n",
       "12390    0.000001693365394\n",
       "10341    0.000001693365394\n",
       "10006    0.000001693365394\n",
       "15743    0.000001693365394\n",
       "17105    0.000001693365394\n",
       "Name: card1, Length: 13553, dtype: float64"
      ]
     },
     "execution_count": 297,
     "metadata": {},
     "output_type": "execute_result"
    }
   ],
   "source": [
    "train['card1'].value_counts(dropna=False, normalize=True)"
   ]
  },
  {
   "cell_type": "code",
   "execution_count": 298,
   "metadata": {},
   "outputs": [
    {
     "data": {
      "image/png": "[encoded data removed]",
      "text/plain": [
       "<Figure size 432x288 with 1 Axes>"
      ]
     },
     "metadata": {
      "needs_background": "light"
     },
     "output_type": "display_data"
    }
   ],
   "source": [
    "plt.hist(train['card1'])\n",
    "plt.show()"
   ]
  },
  {
   "cell_type": "code",
   "execution_count": 299,
   "metadata": {},
   "outputs": [
    {
     "data": {
      "text/plain": [
       "321.0    0.082864835574220\n",
       "111.0    0.076524875537644\n",
       "555.0    0.071112879737190\n",
       "490.0    0.064593422968808\n",
       "583.0    0.036920445693772\n",
       "170.0    0.030842957293325\n",
       "194.0    0.028682223050090\n",
       "545.0    0.027694991025163\n",
       "360.0    0.025722220340705\n",
       "514.0    0.024623226199749\n",
       "174.0    0.019151962610492\n",
       "512.0    0.017147017983540\n",
       "NaN      0.015126833068039\n",
       "408.0    0.013567243539811\n",
       "361.0    0.013253970941850\n",
       "100.0    0.012818776035493\n",
       "225.0    0.012607105361195\n",
       "215.0    0.012329393436516\n",
       "399.0    0.012158363531683\n",
       "553.0    0.010998408236529\n",
       "481.0    0.010729163138822\n",
       "268.0    0.010564906695567\n",
       "567.0    0.010392183425340\n",
       "476.0    0.009858773326108\n",
       "375.0    0.009267788803468\n",
       "543.0    0.009230534764792\n",
       "327.0    0.008636163511362\n",
       "500.0    0.008543028414671\n",
       "298.0    0.007376299657940\n",
       "206.0    0.007125681579571\n",
       "               ...        \n",
       "117.0    0.000104988654452\n",
       "137.0    0.000104988654452\n",
       "531.0    0.000104988654452\n",
       "526.0    0.000104988654452\n",
       "358.0    0.000103295289057\n",
       "163.0    0.000101601923663\n",
       "581.0    0.000099908558269\n",
       "576.0    0.000096521827480\n",
       "317.0    0.000096521827480\n",
       "563.0    0.000096521827480\n",
       "389.0    0.000094828462086\n",
       "340.0    0.000094828462086\n",
       "407.0    0.000094828462086\n",
       "574.0    0.000093135096691\n",
       "282.0    0.000093135096691\n",
       "212.0    0.000089748365902\n",
       "362.0    0.000088055000508\n",
       "312.0    0.000084668269719\n",
       "125.0    0.000082974904325\n",
       "230.0    0.000081281538930\n",
       "377.0    0.000077894808142\n",
       "182.0    0.000071121346564\n",
       "186.0    0.000069427981170\n",
       "293.0    0.000067734615775\n",
       "388.0    0.000066041250381\n",
       "447.0    0.000066041250381\n",
       "153.0    0.000064347884987\n",
       "557.0    0.000062654519592\n",
       "473.0    0.000030480577099\n",
       "582.0    0.000023707115521\n",
       "Name: card2, Length: 501, dtype: float64"
      ]
     },
     "execution_count": 299,
     "metadata": {},
     "output_type": "execute_result"
    }
   ],
   "source": [
    "train['card2'].value_counts(dropna=False, normalize=True)"
   ]
  },
  {
   "cell_type": "code",
   "execution_count": 300,
   "metadata": {},
   "outputs": [
    {
     "data": {
      "image/png": "[encoded data removed]",
      "text/plain": [
       "<Figure size 432x288 with 1 Axes>"
      ]
     },
     "metadata": {
      "needs_background": "light"
     },
     "output_type": "display_data"
    }
   ],
   "source": [
    "plt.hist(train['card2'])\n",
    "plt.show()"
   ]
  },
  {
   "cell_type": "code",
   "execution_count": 301,
   "metadata": {},
   "outputs": [
    {
     "data": {
      "text/plain": [
       "150.0    0.882729366342669\n",
       "185.0    0.095414366512006\n",
       "106.0    0.002660277034579\n",
       "NaN      0.002650116842212\n",
       "146.0    0.002120093473770\n",
       "144.0    0.002120093473770\n",
       "117.0    0.001629017509398\n",
       "143.0    0.001522335489552\n",
       "119.0    0.001270024045789\n",
       "102.0    0.000778948081417\n",
       "147.0    0.000660412503810\n",
       "162.0    0.000574050868696\n",
       "203.0    0.000428421444779\n",
       "213.0    0.000374233752159\n",
       "100.0    0.000342059809666\n",
       "200.0    0.000311579232567\n",
       "188.0    0.000296338944017\n",
       "131.0    0.000291258847834\n",
       "134.0    0.000281098655468\n",
       "149.0    0.000215057405087\n",
       "135.0    0.000203203847326\n",
       "229.0    0.000199817116537\n",
       "210.0    0.000176110001016\n",
       "195.0    0.000171029904833\n",
       "121.0    0.000167643174044\n",
       "159.0    0.000138855962340\n",
       "197.0    0.000137162596945\n",
       "137.0    0.000120228943001\n",
       "138.0    0.000118535577607\n",
       "214.0    0.000111762116029\n",
       "               ...        \n",
       "155.0    0.000005080096183\n",
       "181.0    0.000005080096183\n",
       "202.0    0.000005080096183\n",
       "205.0    0.000005080096183\n",
       "174.0    0.000005080096183\n",
       "207.0    0.000005080096183\n",
       "208.0    0.000003386730789\n",
       "176.0    0.000003386730789\n",
       "186.0    0.000003386730789\n",
       "226.0    0.000003386730789\n",
       "193.0    0.000003386730789\n",
       "220.0    0.000003386730789\n",
       "206.0    0.000003386730789\n",
       "179.0    0.000003386730789\n",
       "224.0    0.000001693365394\n",
       "172.0    0.000001693365394\n",
       "125.0    0.000001693365394\n",
       "175.0    0.000001693365394\n",
       "132.0    0.000001693365394\n",
       "173.0    0.000001693365394\n",
       "114.0    0.000001693365394\n",
       "209.0    0.000001693365394\n",
       "221.0    0.000001693365394\n",
       "170.0    0.000001693365394\n",
       "139.0    0.000001693365394\n",
       "199.0    0.000001693365394\n",
       "164.0    0.000001693365394\n",
       "201.0    0.000001693365394\n",
       "228.0    0.000001693365394\n",
       "101.0    0.000001693365394\n",
       "Name: card3, Length: 115, dtype: float64"
      ]
     },
     "execution_count": 301,
     "metadata": {},
     "output_type": "execute_result"
    }
   ],
   "source": [
    "train['card3'].value_counts(dropna=False, normalize=True)"
   ]
  },
  {
   "cell_type": "code",
   "execution_count": 302,
   "metadata": {},
   "outputs": [
    {
     "data": {
      "image/png": "[encoded data removed]",
      "text/plain": [
       "<Figure size 432x288 with 1 Axes>"
      ]
     },
     "metadata": {
      "needs_background": "light"
     },
     "output_type": "display_data"
    }
   ],
   "source": [
    "plt.hist(train['card3'])\n",
    "plt.show()"
   ]
  },
  {
   "cell_type": "code",
   "execution_count": 303,
   "metadata": {},
   "outputs": [
    {
     "data": {
      "text/plain": [
       "visa                0.651551122701256\n",
       "mastercard          0.320413519829309\n",
       "american express    0.014102347004437\n",
       "discover            0.011262573238053\n",
       "NaN                 0.002670437226945\n",
       "Name: card4, dtype: float64"
      ]
     },
     "execution_count": 303,
     "metadata": {},
     "output_type": "execute_result"
    }
   ],
   "source": [
    "train['card4'].value_counts(dropna=False, normalize=True)"
   ]
  },
  {
   "cell_type": "code",
   "execution_count": 304,
   "metadata": {},
   "outputs": [
    {
     "data": {
      "text/plain": [
       "226.0    0.502160734243235\n",
       "224.0    0.138031293392488\n",
       "166.0    0.096758898635147\n",
       "102.0    0.049285399803570\n",
       "117.0    0.043927591695736\n",
       "138.0    0.033421952788973\n",
       "195.0    0.028694076607850\n",
       "137.0    0.019846242422190\n",
       "126.0    0.017438276831375\n",
       "219.0    0.016804958173875\n",
       "202.0    0.012027974396315\n",
       "162.0    0.007660785044197\n",
       "NaN      0.007212043214685\n",
       "229.0    0.003468012327700\n",
       "197.0    0.002626409726691\n",
       "150.0    0.002265722897687\n",
       "100.0    0.001656111355708\n",
       "223.0    0.001584990009144\n",
       "118.0    0.001273410776577\n",
       "190.0    0.001259863853422\n",
       "146.0    0.001136248179632\n",
       "198.0    0.001134554814238\n",
       "236.0    0.001095607410167\n",
       "185.0    0.000802655196938\n",
       "203.0    0.000724760388797\n",
       "147.0    0.000706133369458\n",
       "141.0    0.000577437599485\n",
       "129.0    0.000550343753175\n",
       "142.0    0.000469062214245\n",
       "194.0    0.000438581637146\n",
       "               ...        \n",
       "172.0    0.000005080096183\n",
       "216.0    0.000005080096183\n",
       "231.0    0.000003386730789\n",
       "140.0    0.000003386730789\n",
       "113.0    0.000003386730789\n",
       "191.0    0.000003386730789\n",
       "145.0    0.000003386730789\n",
       "205.0    0.000003386730789\n",
       "200.0    0.000003386730789\n",
       "152.0    0.000003386730789\n",
       "123.0    0.000003386730789\n",
       "160.0    0.000003386730789\n",
       "105.0    0.000003386730789\n",
       "115.0    0.000001693365394\n",
       "120.0    0.000001693365394\n",
       "206.0    0.000001693365394\n",
       "209.0    0.000001693365394\n",
       "196.0    0.000001693365394\n",
       "201.0    0.000001693365394\n",
       "125.0    0.000001693365394\n",
       "187.0    0.000001693365394\n",
       "165.0    0.000001693365394\n",
       "221.0    0.000001693365394\n",
       "181.0    0.000001693365394\n",
       "178.0    0.000001693365394\n",
       "175.0    0.000001693365394\n",
       "173.0    0.000001693365394\n",
       "167.0    0.000001693365394\n",
       "234.0    0.000001693365394\n",
       "204.0    0.000001693365394\n",
       "Name: card5, Length: 120, dtype: float64"
      ]
     },
     "execution_count": 304,
     "metadata": {},
     "output_type": "execute_result"
    }
   ],
   "source": [
    "train['card5'].value_counts(dropna=False, normalize=True)"
   ]
  },
  {
   "cell_type": "code",
   "execution_count": 305,
   "metadata": {},
   "outputs": [
    {
     "data": {
      "image/png": "[encoded data removed]",
      "text/plain": [
       "<Figure size 432x288 with 1 Axes>"
      ]
     },
     "metadata": {
      "needs_background": "light"
     },
     "output_type": "display_data"
    }
   ],
   "source": [
    "plt.hist(train['card5'])\n",
    "plt.show()"
   ]
  },
  {
   "cell_type": "code",
   "execution_count": 306,
   "metadata": {},
   "outputs": [
    {
     "data": {
      "text/plain": [
       "debit              0.744975784874860\n",
       "credit             0.252287736647814\n",
       "NaN                0.002660277034579\n",
       "debit or credit    0.000050800961832\n",
       "charge card        0.000025400480916\n",
       "Name: card6, dtype: float64"
      ]
     },
     "execution_count": 306,
     "metadata": {},
     "output_type": "execute_result"
    }
   ],
   "source": [
    "train['card6'].value_counts(dropna=False, normalize=True)"
   ]
  },
  {
   "cell_type": "markdown",
   "metadata": {},
   "source": [
    "- TransactionDT: timedelta from a given reference datetime (not an actual timestamp)\n",
    "- TransactionAMT: transaction payment amount in USD\n",
    "- ProductCD: product code, the product for each transaction\n",
    "- card1 - card6: payment card information, such as card type, card category, issue bank, country, etc.\n",
    "- addr: address\n",
    "- dist: distance\n",
    "- P_ and (R__) emaildomain: purchaser and recipient email domain\n",
    "- C1-C14: counting, such as how many addresses are found to be associated with the payment card, etc. The actual meaning is masked.\n",
    "- D1-D15: timedelta, such as days between previous transaction, etc.\n",
    "- M1-M9: match, such as names on card and address, etc."
   ]
  },
  {
   "cell_type": "code",
   "execution_count": 307,
   "metadata": {},
   "outputs": [
    {
     "data": {
      "image/png": "[encoded data removed]",
      "text/plain": [
       "<Figure size 432x288 with 1 Axes>"
      ]
     },
     "metadata": {
      "needs_background": "light"
     },
     "output_type": "display_data"
    }
   ],
   "source": [
    "plt.hist(train['TransactionAmt'])\n",
    "plt.show()"
   ]
  },
  {
   "cell_type": "code",
   "execution_count": 308,
   "metadata": {},
   "outputs": [
    {
     "data": {
      "text/plain": [
       "W    0.744521962949165\n",
       "C    0.116027703457852\n",
       "R    0.063838182002913\n",
       "H    0.055921698784164\n",
       "S    0.019690452805906\n",
       "Name: ProductCD, dtype: float64"
      ]
     },
     "execution_count": 308,
     "metadata": {},
     "output_type": "execute_result"
    }
   ],
   "source": [
    "train['ProductCD'].value_counts(dropna=False, normalize=True)"
   ]
  },
  {
   "cell_type": "code",
   "execution_count": 309,
   "metadata": {},
   "outputs": [
    {
     "data": {
      "image/png": "[encoded data removed]",
      "text/plain": [
       "<Figure size 432x288 with 1 Axes>"
      ]
     },
     "metadata": {
      "needs_background": "light"
     },
     "output_type": "display_data"
    }
   ],
   "source": [
    "plt.hist(train['addr1'])\n",
    "plt.show()"
   ]
  },
  {
   "cell_type": "code",
   "execution_count": 310,
   "metadata": {},
   "outputs": [
    {
     "data": {
      "image/png": "[encoded data removed]",
      "text/plain": [
       "<Figure size 432x288 with 1 Axes>"
      ]
     },
     "metadata": {
      "needs_background": "light"
     },
     "output_type": "display_data"
    }
   ],
   "source": [
    "plt.hist(train['addr2'])\n",
    "plt.show()"
   ]
  },
  {
   "cell_type": "code",
   "execution_count": 311,
   "metadata": {},
   "outputs": [
    {
     "data": {
      "image/png": "[encoded data removed]",
      "text/plain": [
       "<Figure size 432x288 with 1 Axes>"
      ]
     },
     "metadata": {
      "needs_background": "light"
     },
     "output_type": "display_data"
    }
   ],
   "source": [
    "plt.hist(train['dist1'])\n",
    "plt.show()"
   ]
  },
  {
   "cell_type": "code",
   "execution_count": 312,
   "metadata": {},
   "outputs": [
    {
     "data": {
      "text/plain": [
       "gmail.com           0.386688454634741\n",
       "yahoo.com           0.170918142716835\n",
       "NaN                 0.159948521692011\n",
       "hotmail.com         0.076624784095912\n",
       "anonymous.com       0.062651132861449\n",
       "aol.com             0.047903613641752\n",
       "comcast.net         0.013357266230907\n",
       "icloud.com          0.010612320926610\n",
       "outlook.com         0.008629390049785\n",
       "msn.com             0.006929251193823\n",
       "att.net             0.006829342635554\n",
       "live.com            0.005149524164324\n",
       "sbcglobal.net       0.005029295221323\n",
       "verizon.net         0.004580553391811\n",
       "ymail.com           0.004057303484946\n",
       "bellsouth.net       0.003232634537881\n",
       "yahoo.com.mx        0.002612862803536\n",
       "me.com              0.002577302130254\n",
       "cox.net             0.002358857994378\n",
       "optonline.net       0.001711992413723\n",
       "charter.net         0.001381786161818\n",
       "live.com.mx         0.001268330680394\n",
       "rocketmail.com      0.001124394621872\n",
       "mail.com            0.000946591255461\n",
       "earthlink.net       0.000870389812714\n",
       "gmail               0.000839909235615\n",
       "outlook.es          0.000741694042741\n",
       "mac.com             0.000738307311952\n",
       "juno.com            0.000545263656992\n",
       "aim.com             0.000533410099231\n",
       "hotmail.es          0.000516476445287\n",
       "windstream.net      0.000516476445287\n",
       "roadrunner.com      0.000516476445287\n",
       "hotmail.fr          0.000499542791344\n",
       "frontier.com        0.000474142310428\n",
       "embarqmail.com      0.000440275002540\n",
       "web.de              0.000406407694652\n",
       "netzero.com         0.000389474040709\n",
       "twc.com             0.000389474040709\n",
       "prodigy.net.mx      0.000350526636638\n",
       "centurylink.net     0.000347139905849\n",
       "netzero.net         0.000331899617299\n",
       "frontiernet.net     0.000330206251905\n",
       "q.com               0.000320046059539\n",
       "suddenlink.net      0.000296338944017\n",
       "cfl.rr.com          0.000291258847834\n",
       "sc.rr.com           0.000277711924679\n",
       "cableone.net        0.000269245097707\n",
       "gmx.de              0.000252311443763\n",
       "yahoo.fr            0.000242151251397\n",
       "yahoo.es            0.000226910962848\n",
       "hotmail.co.uk       0.000189656924171\n",
       "protonmail.com      0.000128695769973\n",
       "yahoo.de            0.000125309039184\n",
       "ptd.net             0.000115148846818\n",
       "live.fr             0.000094828462086\n",
       "yahoo.co.uk         0.000082974904325\n",
       "hotmail.de          0.000072814711959\n",
       "servicios-ta.com    0.000059267788803\n",
       "yahoo.co.jp         0.000054187692620\n",
       "Name: P_emaildomain, dtype: float64"
      ]
     },
     "execution_count": 312,
     "metadata": {},
     "output_type": "execute_result"
    }
   ],
   "source": [
    "train['P_emaildomain'].value_counts(dropna=False, normalize=True)"
   ]
  },
  {
   "cell_type": "code",
   "execution_count": 313,
   "metadata": {},
   "outputs": [
    {
     "data": {
      "text/plain": [
       "NaN                 0.767516171639516\n",
       "gmail.com           0.096770752192908\n",
       "hotmail.com         0.046582788634131\n",
       "anonymous.com       0.034763098181326\n",
       "yahoo.com           0.020052833000305\n",
       "aol.com             0.006267145324618\n",
       "outlook.com         0.004245267043723\n",
       "comcast.net         0.003068378094625\n",
       "yahoo.com.mx        0.002553595014732\n",
       "icloud.com          0.002367324821350\n",
       "msn.com             0.001442747316016\n",
       "live.com            0.001290344430521\n",
       "live.com.mx         0.001276797507366\n",
       "verizon.net         0.001049886544519\n",
       "me.com              0.000941511159278\n",
       "sbcglobal.net       0.000934737697700\n",
       "cox.net             0.000777254716023\n",
       "outlook.es          0.000733227215769\n",
       "att.net             0.000728147119585\n",
       "bellsouth.net       0.000714600196430\n",
       "hotmail.fr          0.000496156060555\n",
       "hotmail.es          0.000494462695160\n",
       "web.de              0.000401327598469\n",
       "mac.com             0.000369153655976\n",
       "ymail.com           0.000350526636638\n",
       "prodigy.net.mx      0.000350526636638\n",
       "optonline.net       0.000316659328750\n",
       "gmx.de              0.000248924712975\n",
       "yahoo.fr            0.000231991059031\n",
       "charter.net         0.000215057405087\n",
       "                          ...        \n",
       "hotmail.co.uk       0.000177803366410\n",
       "gmail               0.000160869712467\n",
       "earthlink.net       0.000133775866156\n",
       "yahoo.de            0.000127002404579\n",
       "rocketmail.com      0.000116842212213\n",
       "embarqmail.com      0.000115148846818\n",
       "scranton.edu        0.000106682019846\n",
       "yahoo.es            0.000096521827480\n",
       "live.fr             0.000093135096691\n",
       "roadrunner.com      0.000089748365902\n",
       "juno.com            0.000089748365902\n",
       "frontier.com        0.000088055000508\n",
       "windstream.net      0.000079588173536\n",
       "hotmail.de          0.000071121346564\n",
       "protonmail.com      0.000069427981170\n",
       "yahoo.co.uk         0.000066041250381\n",
       "cfl.rr.com          0.000062654519592\n",
       "aim.com             0.000060961154198\n",
       "servicios-ta.com    0.000059267788803\n",
       "yahoo.co.jp         0.000055881058015\n",
       "twc.com             0.000049107596437\n",
       "ptd.net             0.000045720865648\n",
       "cableone.net        0.000045720865648\n",
       "suddenlink.net      0.000042334134860\n",
       "q.com               0.000042334134860\n",
       "frontiernet.net     0.000023707115521\n",
       "netzero.com         0.000023707115521\n",
       "centurylink.net     0.000020320384733\n",
       "netzero.net         0.000015240288549\n",
       "sc.rr.com           0.000013546923155\n",
       "Name: R_emaildomain, Length: 61, dtype: float64"
      ]
     },
     "execution_count": 313,
     "metadata": {},
     "output_type": "execute_result"
    }
   ],
   "source": [
    "train['R_emaildomain'].value_counts(dropna=False, normalize=True)"
   ]
  },
  {
   "cell_type": "code",
   "execution_count": 314,
   "metadata": {},
   "outputs": [
    {
     "data": {
      "image/png": "[encoded data removed]",
      "text/plain": [
       "<Figure size 432x288 with 1 Axes>"
      ]
     },
     "metadata": {
      "needs_background": "light"
     },
     "output_type": "display_data"
    }
   ],
   "source": [
    "plt.hist(train['C1'])\n",
    "plt.show()"
   ]
  },
  {
   "cell_type": "code",
   "execution_count": 315,
   "metadata": {},
   "outputs": [
    {
     "data": {
      "image/png": "[encoded data removed]",
      "text/plain": [
       "<Figure size 432x288 with 1 Axes>"
      ]
     },
     "metadata": {
      "needs_background": "light"
     },
     "output_type": "display_data"
    }
   ],
   "source": [
    "plt.hist(train['C2'])\n",
    "plt.show()"
   ]
  },
  {
   "cell_type": "code",
   "execution_count": 316,
   "metadata": {},
   "outputs": [
    {
     "data": {
      "image/png": "[encoded data removed]",
      "text/plain": [
       "<Figure size 432x288 with 1 Axes>"
      ]
     },
     "metadata": {
      "needs_background": "light"
     },
     "output_type": "display_data"
    }
   ],
   "source": [
    "plt.hist(train['C3'])\n",
    "plt.show()"
   ]
  },
  {
   "cell_type": "code",
   "execution_count": 317,
   "metadata": {},
   "outputs": [
    {
     "data": {
      "text/plain": [
       "0.0       0.765203034510787\n",
       "1.0       0.189347038303925\n",
       "2.0       0.022003589934636\n",
       "3.0       0.008380465336810\n",
       "4.0       0.003220780980120\n",
       "5.0       0.001441053950621\n",
       "6.0       0.001010939140448\n",
       "7.0       0.000629931926711\n",
       "9.0       0.000462288752667\n",
       "10.0      0.000394554136892\n",
       "8.0       0.000382700579131\n",
       "12.0      0.000296338944017\n",
       "11.0      0.000282792020862\n",
       "16.0      0.000196430385749\n",
       "15.0      0.000196430385749\n",
       "17.0      0.000191350289565\n",
       "13.0      0.000184576827988\n",
       "14.0      0.000154096250889\n",
       "20.0      0.000137162596945\n",
       "18.0      0.000120228943001\n",
       "52.0      0.000106682019846\n",
       "21.0      0.000101601923663\n",
       "19.0      0.000098215192874\n",
       "30.0      0.000082974904325\n",
       "83.0      0.000072814711959\n",
       "24.0      0.000069427981170\n",
       "70.0      0.000067734615775\n",
       "51.0      0.000066041250381\n",
       "91.0      0.000059267788803\n",
       "39.0      0.000059267788803\n",
       "                ...        \n",
       "1010.0    0.000001693365394\n",
       "1792.0    0.000001693365394\n",
       "252.0     0.000001693365394\n",
       "1007.0    0.000001693365394\n",
       "2016.0    0.000001693365394\n",
       "1733.0    0.000001693365394\n",
       "1030.0    0.000001693365394\n",
       "258.0     0.000001693365394\n",
       "1725.0    0.000001693365394\n",
       "1715.0    0.000001693365394\n",
       "1059.0    0.000001693365394\n",
       "1058.0    0.000001693365394\n",
       "1057.0    0.000001693365394\n",
       "429.0     0.000001693365394\n",
       "1717.0    0.000001693365394\n",
       "430.0     0.000001693365394\n",
       "431.0     0.000001693365394\n",
       "1051.0    0.000001693365394\n",
       "1049.0    0.000001693365394\n",
       "259.0     0.000001693365394\n",
       "1726.0    0.000001693365394\n",
       "1730.0    0.000001693365394\n",
       "1045.0    0.000001693365394\n",
       "1908.0    0.000001693365394\n",
       "1042.0    0.000001693365394\n",
       "288.0     0.000001693365394\n",
       "260.0     0.000001693365394\n",
       "433.0     0.000001693365394\n",
       "1037.0    0.000001693365394\n",
       "1061.0    0.000001693365394\n",
       "Name: C4, Length: 1223, dtype: float64"
      ]
     },
     "execution_count": 317,
     "metadata": {},
     "output_type": "execute_result"
    }
   ],
   "source": [
    "train['C4'].value_counts(dropna=False, normalize=True)"
   ]
  },
  {
   "cell_type": "code",
   "execution_count": 318,
   "metadata": {},
   "outputs": [
    {
     "data": {
      "image/png": "[encoded data removed]",
      "text/plain": [
       "<Figure size 432x288 with 1 Axes>"
      ]
     },
     "metadata": {
      "needs_background": "light"
     },
     "output_type": "display_data"
    }
   ],
   "source": [
    "plt.hist(train['C4'])\n",
    "plt.show()"
   ]
  },
  {
   "cell_type": "code",
   "execution_count": 319,
   "metadata": {},
   "outputs": [
    {
     "data": {
      "image/png": "[encoded data removed]",
      "text/plain": [
       "<Figure size 432x288 with 1 Axes>"
      ]
     },
     "metadata": {
      "needs_background": "light"
     },
     "output_type": "display_data"
    }
   ],
   "source": [
    "plt.hist(train['C5'])\n",
    "plt.show()"
   ]
  },
  {
   "cell_type": "code",
   "execution_count": 320,
   "metadata": {},
   "outputs": [
    {
     "data": {
      "image/png": "[encoded data removed]",
      "text/plain": [
       "<Figure size 432x288 with 1 Axes>"
      ]
     },
     "metadata": {
      "needs_background": "light"
     },
     "output_type": "display_data"
    }
   ],
   "source": [
    "plt.hist(train['C6'])\n",
    "plt.show()"
   ]
  },
  {
   "cell_type": "code",
   "execution_count": 321,
   "metadata": {},
   "outputs": [
    {
     "data": {
      "image/png": "[encoded data removed]",
      "text/plain": [
       "<Figure size 432x288 with 1 Axes>"
      ]
     },
     "metadata": {
      "needs_background": "light"
     },
     "output_type": "display_data"
    }
   ],
   "source": [
    "plt.hist(train['C7'])\n",
    "plt.show()"
   ]
  },
  {
   "cell_type": "code",
   "execution_count": 322,
   "metadata": {},
   "outputs": [
    {
     "data": {
      "text/plain": [
       "0.0       0.885870559149253\n",
       "1.0       0.087997426084601\n",
       "2.0       0.012385274494530\n",
       "3.0       0.003442611846784\n",
       "4.0       0.001877942222373\n",
       "5.0       0.000814508754699\n",
       "6.0       0.000692586446303\n",
       "7.0       0.000452128560301\n",
       "9.0       0.000394554136892\n",
       "10.0      0.000296338944017\n",
       "8.0       0.000292952213229\n",
       "11.0      0.000199817116537\n",
       "16.0      0.000182883462594\n",
       "17.0      0.000171029904833\n",
       "15.0      0.000143936058523\n",
       "13.0      0.000140549327734\n",
       "14.0      0.000118535577607\n",
       "20.0      0.000115148846818\n",
       "52.0      0.000106682019846\n",
       "18.0      0.000096521827480\n",
       "12.0      0.000094828462086\n",
       "19.0      0.000079588173536\n",
       "30.0      0.000076201442747\n",
       "83.0      0.000071121346564\n",
       "92.0      0.000067734615775\n",
       "70.0      0.000067734615775\n",
       "51.0      0.000062654519592\n",
       "35.0      0.000059267788803\n",
       "21.0      0.000057574423409\n",
       "24.0      0.000055881058015\n",
       "                ...        \n",
       "1171.0    0.000001693365394\n",
       "520.0     0.000001693365394\n",
       "292.0     0.000001693365394\n",
       "1209.0    0.000001693365394\n",
       "476.0     0.000001693365394\n",
       "1898.0    0.000001693365394\n",
       "1235.0    0.000001693365394\n",
       "319.0     0.000001693365394\n",
       "315.0     0.000001693365394\n",
       "1247.0    0.000001693365394\n",
       "311.0     0.000001693365394\n",
       "1243.0    0.000001693365394\n",
       "1242.0    0.000001693365394\n",
       "1241.0    0.000001693365394\n",
       "475.0     0.000001693365394\n",
       "1239.0    0.000001693365394\n",
       "1238.0    0.000001693365394\n",
       "1608.0    0.000001693365394\n",
       "560.0     0.000001693365394\n",
       "1233.0    0.000001693365394\n",
       "1232.0    0.000001693365394\n",
       "1231.0    0.000001693365394\n",
       "1229.0    0.000001693365394\n",
       "59.0      0.000001693365394\n",
       "307.0     0.000001693365394\n",
       "1224.0    0.000001693365394\n",
       "1223.0    0.000001693365394\n",
       "305.0     0.000001693365394\n",
       "1217.0    0.000001693365394\n",
       "1126.0    0.000001693365394\n",
       "Name: C7, Length: 1069, dtype: float64"
      ]
     },
     "execution_count": 322,
     "metadata": {},
     "output_type": "execute_result"
    }
   ],
   "source": [
    "train['C7'].value_counts(dropna=False, normalize=True)"
   ]
  },
  {
   "cell_type": "code",
   "execution_count": 323,
   "metadata": {},
   "outputs": [
    {
     "data": {
      "image/png": "[encoded data removed]",
      "text/plain": [
       "<Figure size 432x288 with 1 Axes>"
      ]
     },
     "metadata": {
      "needs_background": "light"
     },
     "output_type": "display_data"
    }
   ],
   "source": [
    "plt.hist(train['C8'])\n",
    "plt.show()"
   ]
  },
  {
   "cell_type": "code",
   "execution_count": 324,
   "metadata": {},
   "outputs": [
    {
     "data": {
      "image/png": "[encoded data removed]",
      "text/plain": [
       "<Figure size 432x288 with 1 Axes>"
      ]
     },
     "metadata": {
      "needs_background": "light"
     },
     "output_type": "display_data"
    }
   ],
   "source": [
    "plt.hist(train['C9'])\n",
    "plt.show()"
   ]
  },
  {
   "cell_type": "code",
   "execution_count": 325,
   "metadata": {},
   "outputs": [
    {
     "data": {
      "image/png": "[encoded data removed]",
      "text/plain": [
       "<Figure size 432x288 with 1 Axes>"
      ]
     },
     "metadata": {
      "needs_background": "light"
     },
     "output_type": "display_data"
    }
   ],
   "source": [
    "plt.hist(train['C10'])\n",
    "plt.show()"
   ]
  },
  {
   "cell_type": "code",
   "execution_count": 326,
   "metadata": {},
   "outputs": [
    {
     "data": {
      "image/png": "[encoded data removed]",
      "text/plain": [
       "<Figure size 432x288 with 1 Axes>"
      ]
     },
     "metadata": {
      "needs_background": "light"
     },
     "output_type": "display_data"
    }
   ],
   "source": [
    "plt.hist(train['C11'])\n",
    "plt.show()"
   ]
  },
  {
   "cell_type": "code",
   "execution_count": 327,
   "metadata": {},
   "outputs": [
    {
     "data": {
      "image/png": "[encoded data removed]",
      "text/plain": [
       "<Figure size 432x288 with 1 Axes>"
      ]
     },
     "metadata": {
      "needs_background": "light"
     },
     "output_type": "display_data"
    }
   ],
   "source": [
    "plt.hist(train['C12'])\n",
    "plt.show()"
   ]
  },
  {
   "cell_type": "code",
   "execution_count": 328,
   "metadata": {},
   "outputs": [
    {
     "data": {
      "image/png": "[encoded data removed]",
      "text/plain": [
       "<Figure size 432x288 with 1 Axes>"
      ]
     },
     "metadata": {
      "needs_background": "light"
     },
     "output_type": "display_data"
    }
   ],
   "source": [
    "plt.hist(train['C13'])\n",
    "plt.show()"
   ]
  },
  {
   "cell_type": "code",
   "execution_count": 329,
   "metadata": {},
   "outputs": [
    {
     "data": {
      "image/png": "[encoded data removed]",
      "text/plain": [
       "<Figure size 432x288 with 1 Axes>"
      ]
     },
     "metadata": {
      "needs_background": "light"
     },
     "output_type": "display_data"
    }
   ],
   "source": [
    "plt.hist(train['C14'])\n",
    "plt.show()"
   ]
  },
  {
   "cell_type": "code",
   "execution_count": 330,
   "metadata": {},
   "outputs": [
    {
     "data": {
      "text/plain": [
       "0.0      0.474362447929014\n",
       "1.0      0.014620516815118\n",
       "2.0      0.008414332644698\n",
       "3.0      0.006695566769398\n",
       "4.0      0.006045314457954\n",
       "7.0      0.005850577437599\n",
       "6.0      0.005357808107834\n",
       "5.0      0.005208791953128\n",
       "14.0     0.005044535509872\n",
       "8.0      0.004465404544993\n",
       "28.0     0.004460324448810\n",
       "9.0      0.004042063196397\n",
       "13.0     0.004011582619298\n",
       "42.0     0.003884580214719\n",
       "15.0     0.003762657906323\n",
       "11.0     0.003588241270701\n",
       "10.0     0.003581467809124\n",
       "12.0     0.003506959731771\n",
       "29.0     0.003452772039151\n",
       "21.0     0.003425678192840\n",
       "35.0     0.003325769634572\n",
       "16.0     0.003137806075795\n",
       "30.0     0.003068378094625\n",
       "27.0     0.003032817421343\n",
       "22.0     0.002904121651370\n",
       "20.0     0.002893961459004\n",
       "18.0     0.002890574728215\n",
       "17.0     0.002804213093101\n",
       "43.0     0.002748332035087\n",
       "26.0     0.002721238188776\n",
       "               ...        \n",
       "624.0    0.000243844616791\n",
       "583.0    0.000242151251397\n",
       "587.0    0.000242151251397\n",
       "629.0    0.000242151251397\n",
       "590.0    0.000242151251397\n",
       "611.0    0.000240457886003\n",
       "628.0    0.000237071155214\n",
       "592.0    0.000237071155214\n",
       "605.0    0.000233684424425\n",
       "594.0    0.000230297693636\n",
       "597.0    0.000230297693636\n",
       "585.0    0.000226910962848\n",
       "599.0    0.000221830866664\n",
       "626.0    0.000218444135876\n",
       "615.0    0.000216750770481\n",
       "622.0    0.000211670674298\n",
       "612.0    0.000209977308904\n",
       "593.0    0.000209977308904\n",
       "614.0    0.000209977308904\n",
       "613.0    0.000206590578115\n",
       "598.0    0.000206590578115\n",
       "600.0    0.000204897212721\n",
       "618.0    0.000189656924171\n",
       "620.0    0.000187963558777\n",
       "591.0    0.000186270193382\n",
       "621.0    0.000184576827988\n",
       "619.0    0.000181190097199\n",
       "638.0    0.000133775866156\n",
       "639.0    0.000071121346564\n",
       "640.0    0.000023707115521\n",
       "Name: D1, Length: 642, dtype: float64"
      ]
     },
     "execution_count": 330,
     "metadata": {},
     "output_type": "execute_result"
    }
   ],
   "source": [
    "train['D1'].value_counts(dropna=False, normalize=True)"
   ]
  },
  {
   "cell_type": "code",
   "execution_count": 331,
   "metadata": {},
   "outputs": [
    {
     "data": {
      "image/png": "[encoded data removed]",
      "text/plain": [
       "<Figure size 432x288 with 1 Axes>"
      ]
     },
     "metadata": {
      "needs_background": "light"
     },
     "output_type": "display_data"
    }
   ],
   "source": [
    "plt.hist(train['D1'])\n",
    "plt.show()"
   ]
  },
  {
   "cell_type": "code",
   "execution_count": 332,
   "metadata": {},
   "outputs": [
    {
     "data": {
      "image/png": "[encoded data removed]",
      "text/plain": [
       "<Figure size 432x288 with 1 Axes>"
      ]
     },
     "metadata": {
      "needs_background": "light"
     },
     "output_type": "display_data"
    }
   ],
   "source": [
    "plt.hist(train['D2'])\n",
    "plt.show()"
   ]
  },
  {
   "cell_type": "code",
   "execution_count": 333,
   "metadata": {},
   "outputs": [
    {
     "data": {
      "image/png": "[encoded data removed]",
      "text/plain": [
       "<Figure size 432x288 with 1 Axes>"
      ]
     },
     "metadata": {
      "needs_background": "light"
     },
     "output_type": "display_data"
    }
   ],
   "source": [
    "plt.hist(train['D3'])\n",
    "plt.show()"
   ]
  },
  {
   "cell_type": "code",
   "execution_count": 334,
   "metadata": {},
   "outputs": [
    {
     "data": {
      "image/png": "[encoded data removed]",
      "text/plain": [
       "<Figure size 432x288 with 1 Axes>"
      ]
     },
     "metadata": {
      "needs_background": "light"
     },
     "output_type": "display_data"
    }
   ],
   "source": [
    "plt.hist(train['D4'])\n",
    "plt.show()"
   ]
  },
  {
   "cell_type": "code",
   "execution_count": 335,
   "metadata": {},
   "outputs": [
    {
     "data": {
      "image/png": "[encoded data removed]",
      "text/plain": [
       "<Figure size 432x288 with 1 Axes>"
      ]
     },
     "metadata": {
      "needs_background": "light"
     },
     "output_type": "display_data"
    }
   ],
   "source": [
    "plt.hist(train['D4'])\n",
    "plt.show()"
   ]
  },
  {
   "cell_type": "code",
   "execution_count": 336,
   "metadata": {},
   "outputs": [
    {
     "data": {
      "image/png": "[encoded data removed]",
      "text/plain": [
       "<Figure size 432x288 with 1 Axes>"
      ]
     },
     "metadata": {
      "needs_background": "light"
     },
     "output_type": "display_data"
    }
   ],
   "source": [
    "plt.hist(train['D5'])\n",
    "plt.show()"
   ]
  },
  {
   "cell_type": "code",
   "execution_count": 337,
   "metadata": {},
   "outputs": [
    {
     "data": {
      "image/png": "[encoded data removed]",
      "text/plain": [
       "<Figure size 432x288 with 1 Axes>"
      ]
     },
     "metadata": {
      "needs_background": "light"
     },
     "output_type": "display_data"
    }
   ],
   "source": [
    "plt.hist(train['D6'])\n",
    "plt.show()"
   ]
  },
  {
   "cell_type": "code",
   "execution_count": 338,
   "metadata": {},
   "outputs": [
    {
     "data": {
      "image/png": "[encoded data removed]",
      "text/plain": [
       "<Figure size 432x288 with 1 Axes>"
      ]
     },
     "metadata": {
      "needs_background": "light"
     },
     "output_type": "display_data"
    }
   ],
   "source": [
    "plt.hist(train['D7'])\n",
    "plt.show()"
   ]
  },
  {
   "cell_type": "code",
   "execution_count": 339,
   "metadata": {},
   "outputs": [
    {
     "data": {
      "image/png": "[encoded data removed]",
      "text/plain": [
       "<Figure size 432x288 with 1 Axes>"
      ]
     },
     "metadata": {
      "needs_background": "light"
     },
     "output_type": "display_data"
    }
   ],
   "source": [
    "plt.hist(train['D8'])\n",
    "plt.show()"
   ]
  },
  {
   "cell_type": "code",
   "execution_count": 340,
   "metadata": {},
   "outputs": [
    {
     "data": {
      "image/png": "[encoded data removed]",
      "text/plain": [
       "<Figure size 432x288 with 1 Axes>"
      ]
     },
     "metadata": {
      "needs_background": "light"
     },
     "output_type": "display_data"
    }
   ],
   "source": [
    "plt.hist(train['D9'])\n",
    "plt.show()"
   ]
  },
  {
   "cell_type": "code",
   "execution_count": 341,
   "metadata": {},
   "outputs": [
    {
     "data": {
      "image/png": "[encoded data removed]",
      "text/plain": [
       "<Figure size 432x288 with 1 Axes>"
      ]
     },
     "metadata": {
      "needs_background": "light"
     },
     "output_type": "display_data"
    }
   ],
   "source": [
    "plt.hist(train['D10'])\n",
    "plt.show()"
   ]
  },
  {
   "cell_type": "code",
   "execution_count": 342,
   "metadata": {},
   "outputs": [
    {
     "data": {
      "image/png": "[encoded data removed]",
      "text/plain": [
       "<Figure size 432x288 with 1 Axes>"
      ]
     },
     "metadata": {
      "needs_background": "light"
     },
     "output_type": "display_data"
    }
   ],
   "source": [
    "plt.hist(train['D11'])\n",
    "plt.show()"
   ]
  },
  {
   "cell_type": "code",
   "execution_count": 343,
   "metadata": {},
   "outputs": [
    {
     "data": {
      "image/png": "[encoded data removed]",
      "text/plain": [
       "<Figure size 432x288 with 1 Axes>"
      ]
     },
     "metadata": {
      "needs_background": "light"
     },
     "output_type": "display_data"
    }
   ],
   "source": [
    "plt.hist(train['D12'])\n",
    "plt.show()"
   ]
  },
  {
   "cell_type": "code",
   "execution_count": 344,
   "metadata": {},
   "outputs": [
    {
     "data": {
      "image/png": "[encoded data removed]",
      "text/plain": [
       "<Figure size 432x288 with 1 Axes>"
      ]
     },
     "metadata": {
      "needs_background": "light"
     },
     "output_type": "display_data"
    }
   ],
   "source": [
    "plt.hist(train['D13'])\n",
    "plt.show()"
   ]
  },
  {
   "cell_type": "code",
   "execution_count": 345,
   "metadata": {},
   "outputs": [
    {
     "data": {
      "image/png": "[encoded data removed]",
      "text/plain": [
       "<Figure size 432x288 with 1 Axes>"
      ]
     },
     "metadata": {
      "needs_background": "light"
     },
     "output_type": "display_data"
    }
   ],
   "source": [
    "plt.hist(train['D14'])\n",
    "plt.show()"
   ]
  },
  {
   "cell_type": "code",
   "execution_count": 346,
   "metadata": {},
   "outputs": [
    {
     "data": {
      "image/png": "[encoded data removed]",
      "text/plain": [
       "<Figure size 432x288 with 1 Axes>"
      ]
     },
     "metadata": {
      "needs_background": "light"
     },
     "output_type": "display_data"
    }
   ],
   "source": [
    "plt.hist(train['D15'])\n",
    "plt.show()"
   ]
  },
  {
   "cell_type": "code",
   "execution_count": 347,
   "metadata": {},
   "outputs": [
    {
     "data": {
      "text/plain": [
       "T      0.540886307447421\n",
       "NaN    0.459071358417719\n",
       "F      0.000042334134860\n",
       "Name: M1, dtype: float64"
      ]
     },
     "execution_count": 347,
     "metadata": {},
     "output_type": "execute_result"
    }
   ],
   "source": [
    "train['M1'].value_counts(dropna=False, normalize=True)"
   ]
  },
  {
   "cell_type": "code",
   "execution_count": 348,
   "metadata": {},
   "outputs": [
    {
     "data": {
      "text/plain": [
       "T      0.483401632404240\n",
       "NaN    0.459071358417719\n",
       "F      0.057527009178040\n",
       "Name: M2, dtype: float64"
      ]
     },
     "execution_count": 348,
     "metadata": {},
     "output_type": "execute_result"
    }
   ],
   "source": [
    "train['M2'].value_counts(dropna=False, normalize=True)"
   ]
  },
  {
   "cell_type": "code",
   "execution_count": 349,
   "metadata": {},
   "outputs": [
    {
     "data": {
      "text/plain": [
       "NaN    0.459071358417719\n",
       "T      0.426272564093880\n",
       "F      0.114656077488400\n",
       "Name: M3, dtype: float64"
      ]
     },
     "execution_count": 349,
     "metadata": {},
     "output_type": "execute_result"
    }
   ],
   "source": [
    "train['M3'].value_counts(dropna=False, normalize=True)"
   ]
  },
  {
   "cell_type": "code",
   "execution_count": 350,
   "metadata": {},
   "outputs": [
    {
     "data": {
      "text/plain": [
       "NaN    0.476587530057236\n",
       "M0     0.332585430284147\n",
       "M2     0.101373319334846\n",
       "M1     0.089453720323771\n",
       "Name: M4, dtype: float64"
      ]
     },
     "execution_count": 350,
     "metadata": {},
     "output_type": "execute_result"
    }
   ],
   "source": [
    "train['M4'].value_counts(dropna=False, normalize=True)"
   ]
  },
  {
   "cell_type": "code",
   "execution_count": 351,
   "metadata": {},
   "outputs": [
    {
     "data": {
      "text/plain": [
       "NaN    0.593494090154774\n",
       "F      0.224355674467437\n",
       "T      0.182150235377790\n",
       "Name: M5, dtype: float64"
      ]
     },
     "execution_count": 351,
     "metadata": {},
     "output_type": "execute_result"
    }
   ],
   "source": [
    "train['M5'].value_counts(dropna=False, normalize=True)"
   ]
  },
  {
   "cell_type": "code",
   "execution_count": 352,
   "metadata": {},
   "outputs": [
    {
     "data": {
      "text/plain": [
       "F      0.385843465302943\n",
       "T      0.327368171504047\n",
       "NaN    0.286788363193010\n",
       "Name: M6, dtype: float64"
      ]
     },
     "execution_count": 352,
     "metadata": {},
     "output_type": "execute_result"
    }
   ],
   "source": [
    "train['M6'].value_counts(dropna=False, normalize=True)"
   ]
  },
  {
   "cell_type": "code",
   "execution_count": 353,
   "metadata": {},
   "outputs": [
    {
     "data": {
      "text/plain": [
       "NaN    0.586353168286653\n",
       "F      0.357933416872693\n",
       "T      0.055713414840654\n",
       "Name: M7, dtype: float64"
      ]
     },
     "execution_count": 353,
     "metadata": {},
     "output_type": "execute_result"
    }
   ],
   "source": [
    "train['M7'].value_counts(dropna=False, normalize=True)"
   ]
  },
  {
   "cell_type": "code",
   "execution_count": 354,
   "metadata": {},
   "outputs": [
    {
     "data": {
      "text/plain": [
       "NaN    0.586331154536526\n",
       "F      0.262896670843635\n",
       "T      0.150772174619839\n",
       "Name: M8, dtype: float64"
      ]
     },
     "execution_count": 354,
     "metadata": {},
     "output_type": "execute_result"
    }
   ],
   "source": [
    "train['M8'].value_counts(dropna=False, normalize=True)"
   ]
  },
  {
   "cell_type": "code",
   "execution_count": 355,
   "metadata": {},
   "outputs": [
    {
     "data": {
      "text/plain": [
       "NaN    0.586331154536526\n",
       "T      0.348250753547600\n",
       "F      0.065418091915874\n",
       "Name: M9, dtype: float64"
      ]
     },
     "execution_count": 355,
     "metadata": {},
     "output_type": "execute_result"
    }
   ],
   "source": [
    "train['M9'].value_counts(dropna=False, normalize=True)"
   ]
  },
  {
   "cell_type": "code",
   "execution_count": 356,
   "metadata": {},
   "outputs": [
    {
     "data": {
      "text/plain": [
       "1.0    0.527036271886748\n",
       "NaN    0.472934940901548\n",
       "0.0    0.000028787211705\n",
       "Name: V1, dtype: float64"
      ]
     },
     "execution_count": 356,
     "metadata": {},
     "output_type": "execute_result"
    }
   ],
   "source": [
    "train['V1'].value_counts(dropna=False, normalize=True)"
   ]
  },
  {
   "cell_type": "code",
   "execution_count": 357,
   "metadata": {},
   "outputs": [
    {
     "data": {
      "image/png": "[encoded data removed]",
      "text/plain": [
       "<Figure size 432x288 with 1 Axes>"
      ]
     },
     "metadata": {
      "needs_background": "light"
     },
     "output_type": "display_data"
    }
   ],
   "source": [
    "plt.hist(train['V1'])\n",
    "plt.show()"
   ]
  },
  {
   "cell_type": "code",
   "execution_count": 358,
   "metadata": {},
   "outputs": [
    {
     "data": {
      "image/png": "[encoded data removed]",
      "text/plain": [
       "<Figure size 432x288 with 1 Axes>"
      ]
     },
     "metadata": {
      "needs_background": "light"
     },
     "output_type": "display_data"
    }
   ],
   "source": [
    "plt.hist(train['V2'])\n",
    "plt.show()"
   ]
  },
  {
   "cell_type": "code",
   "execution_count": 359,
   "metadata": {},
   "outputs": [
    {
     "data": {
      "image/png": "[encoded data removed]",
      "text/plain": [
       "<Figure size 432x288 with 1 Axes>"
      ]
     },
     "metadata": {
      "needs_background": "light"
     },
     "output_type": "display_data"
    }
   ],
   "source": [
    "plt.hist(train['V3'])\n",
    "plt.show()"
   ]
  },
  {
   "cell_type": "code",
   "execution_count": 360,
   "metadata": {},
   "outputs": [
    {
     "data": {
      "text/plain": [
       "NaN    0.472934940901548\n",
       "1.0    0.417414569715853\n",
       "0.0    0.095991804111491\n",
       "2.0    0.012505503437532\n",
       "3.0    0.000955058082433\n",
       "4.0    0.000149016154706\n",
       "5.0    0.000044027500254\n",
       "6.0    0.000005080096183\n",
       "Name: V4, dtype: float64"
      ]
     },
     "execution_count": 360,
     "metadata": {},
     "output_type": "execute_result"
    }
   ],
   "source": [
    "train['V4'].value_counts(dropna=False, normalize=True)"
   ]
  },
  {
   "cell_type": "code",
   "execution_count": 361,
   "metadata": {},
   "outputs": [
    {
     "data": {
      "image/png": "[encoded data removed]",
      "text/plain": [
       "<Figure size 432x288 with 1 Axes>"
      ]
     },
     "metadata": {
      "needs_background": "light"
     },
     "output_type": "display_data"
    }
   ],
   "source": [
    "plt.hist(train['V4'])\n",
    "plt.show()"
   ]
  },
  {
   "cell_type": "code",
   "execution_count": 362,
   "metadata": {},
   "outputs": [
    {
     "data": {
      "text/plain": [
       "NaN    0.472934940901548\n",
       "1.0    0.411289667084363\n",
       "0.0    0.091909100145629\n",
       "2.0    0.021353337623192\n",
       "3.0    0.002032038473262\n",
       "4.0    0.000326819521116\n",
       "5.0    0.000093135096691\n",
       "6.0    0.000060961154198\n",
       "Name: V5, dtype: float64"
      ]
     },
     "execution_count": 362,
     "metadata": {},
     "output_type": "execute_result"
    }
   ],
   "source": [
    "train['V5'].value_counts(dropna=False, normalize=True)"
   ]
  },
  {
   "cell_type": "code",
   "execution_count": 363,
   "metadata": {},
   "outputs": [
    {
     "data": {
      "image/png": "[encoded data removed]",
      "text/plain": [
       "<Figure size 432x288 with 1 Axes>"
      ]
     },
     "metadata": {
      "needs_background": "light"
     },
     "output_type": "display_data"
    }
   ],
   "source": [
    "plt.hist(train['V5'])\n",
    "plt.show()"
   ]
  },
  {
   "cell_type": "code",
   "execution_count": 364,
   "metadata": {},
   "outputs": [
    {
     "data": {
      "text/plain": [
       "1.0    0.505684627628950\n",
       "NaN    0.472934940901548\n",
       "2.0    0.019167202899042\n",
       "3.0    0.001767873471738\n",
       "4.0    0.000304805770989\n",
       "5.0    0.000077894808142\n",
       "0.0    0.000030480577099\n",
       "6.0    0.000018627019338\n",
       "7.0    0.000008466826972\n",
       "8.0    0.000003386730789\n",
       "9.0    0.000001693365394\n",
       "Name: V6, dtype: float64"
      ]
     },
     "execution_count": 364,
     "metadata": {},
     "output_type": "execute_result"
    }
   ],
   "source": [
    "train['V6'].value_counts(dropna=False, normalize=True)"
   ]
  },
  {
   "cell_type": "code",
   "execution_count": 365,
   "metadata": {},
   "outputs": [
    {
     "data": {
      "image/png": "[encoded data removed]",
      "text/plain": [
       "<Figure size 432x288 with 1 Axes>"
      ]
     },
     "metadata": {
      "needs_background": "light"
     },
     "output_type": "display_data"
    }
   ],
   "source": [
    "plt.hist(train['V6'])\n",
    "plt.show()"
   ]
  },
  {
   "cell_type": "code",
   "execution_count": 366,
   "metadata": {},
   "outputs": [
    {
     "data": {
      "image/png": "[encoded data removed]",
      "text/plain": [
       "<Figure size 432x288 with 1 Axes>"
      ]
     },
     "metadata": {
      "needs_background": "light"
     },
     "output_type": "display_data"
    }
   ],
   "source": [
    "plt.hist(train['V7'])\n",
    "plt.show()"
   ]
  },
  {
   "cell_type": "code",
   "execution_count": 367,
   "metadata": {},
   "outputs": [
    {
     "name": "stdout",
     "output_type": "stream",
     "text": [
      "TransactionID\n",
      "isFraud\n",
      "TransactionDT\n",
      "TransactionAmt\n",
      "ProductCD\n",
      "card1\n",
      "card2\n",
      "card3\n",
      "card4\n",
      "card5\n",
      "card6\n",
      "addr1\n",
      "addr2\n",
      "dist1\n",
      "dist2\n",
      "P_emaildomain\n",
      "R_emaildomain\n",
      "C1\n",
      "C2\n",
      "C3\n",
      "C4\n",
      "C5\n",
      "C6\n",
      "C7\n",
      "C8\n",
      "C9\n",
      "C10\n",
      "C11\n",
      "C12\n",
      "C13\n",
      "C14\n",
      "D1\n",
      "D2\n",
      "D3\n",
      "D4\n",
      "D5\n",
      "D6\n",
      "D7\n",
      "D8\n",
      "D9\n",
      "D10\n",
      "D11\n",
      "D12\n",
      "D13\n",
      "D14\n",
      "D15\n",
      "M1\n",
      "M2\n",
      "M3\n",
      "M4\n",
      "M5\n",
      "M6\n",
      "M7\n",
      "M8\n",
      "M9\n",
      "V1\n",
      "V2\n",
      "V3\n",
      "V4\n",
      "V5\n",
      "V6\n",
      "V7\n",
      "V8\n",
      "V9\n",
      "V10\n",
      "V11\n",
      "V12\n",
      "V13\n",
      "V14\n",
      "V15\n",
      "V16\n",
      "V17\n",
      "V18\n",
      "V19\n",
      "V20\n",
      "V21\n",
      "V22\n",
      "V23\n",
      "V24\n",
      "V25\n",
      "V26\n",
      "V27\n",
      "V28\n",
      "V29\n",
      "V30\n",
      "V31\n",
      "V32\n",
      "V33\n",
      "V34\n",
      "V35\n",
      "V36\n",
      "V37\n",
      "V38\n",
      "V39\n",
      "V40\n",
      "V41\n",
      "V42\n",
      "V43\n",
      "V44\n",
      "V45\n",
      "V46\n",
      "V47\n",
      "V48\n",
      "V49\n",
      "V50\n",
      "V51\n",
      "V52\n",
      "V53\n",
      "V54\n",
      "V55\n",
      "V56\n",
      "V57\n",
      "V58\n",
      "V59\n",
      "V60\n",
      "V61\n",
      "V62\n",
      "V63\n",
      "V64\n",
      "V65\n",
      "V66\n",
      "V67\n",
      "V68\n",
      "V69\n",
      "V70\n",
      "V71\n",
      "V72\n",
      "V73\n",
      "V74\n",
      "V75\n",
      "V76\n",
      "V77\n",
      "V78\n",
      "V79\n",
      "V80\n",
      "V81\n",
      "V82\n",
      "V83\n",
      "V84\n",
      "V85\n",
      "V86\n",
      "V87\n",
      "V88\n",
      "V89\n",
      "V90\n",
      "V91\n",
      "V92\n",
      "V93\n",
      "V94\n",
      "V95\n",
      "V96\n",
      "V97\n",
      "V98\n",
      "V99\n",
      "V100\n",
      "V101\n",
      "V102\n",
      "V103\n",
      "V104\n",
      "V105\n",
      "V106\n",
      "V107\n",
      "V108\n",
      "V109\n",
      "V110\n",
      "V111\n",
      "V112\n",
      "V113\n",
      "V114\n",
      "V115\n",
      "V116\n",
      "V117\n",
      "V118\n",
      "V119\n",
      "V120\n",
      "V121\n",
      "V122\n",
      "V123\n",
      "V124\n",
      "V125\n",
      "V126\n",
      "V127\n",
      "V128\n",
      "V129\n",
      "V130\n",
      "V131\n",
      "V132\n",
      "V133\n",
      "V134\n",
      "V135\n",
      "V136\n",
      "V137\n",
      "V138\n",
      "V139\n",
      "V140\n",
      "V141\n",
      "V142\n",
      "V143\n",
      "V144\n",
      "V145\n",
      "V146\n",
      "V147\n",
      "V148\n",
      "V149\n",
      "V150\n",
      "V151\n",
      "V152\n",
      "V153\n",
      "V154\n",
      "V155\n",
      "V156\n",
      "V157\n",
      "V158\n",
      "V159\n",
      "V160\n",
      "V161\n",
      "V162\n",
      "V163\n",
      "V164\n",
      "V165\n",
      "V166\n",
      "V167\n",
      "V168\n",
      "V169\n",
      "V170\n",
      "V171\n",
      "V172\n",
      "V173\n",
      "V174\n",
      "V175\n",
      "V176\n",
      "V177\n",
      "V178\n",
      "V179\n",
      "V180\n",
      "V181\n",
      "V182\n",
      "V183\n",
      "V184\n",
      "V185\n",
      "V186\n",
      "V187\n",
      "V188\n",
      "V189\n",
      "V190\n",
      "V191\n",
      "V192\n",
      "V193\n",
      "V194\n",
      "V195\n",
      "V196\n",
      "V197\n",
      "V198\n",
      "V199\n",
      "V200\n",
      "V201\n",
      "V202\n",
      "V203\n",
      "V204\n",
      "V205\n",
      "V206\n",
      "V207\n",
      "V208\n",
      "V209\n",
      "V210\n",
      "V211\n",
      "V212\n",
      "V213\n",
      "V214\n",
      "V215\n",
      "V216\n",
      "V217\n",
      "V218\n",
      "V219\n",
      "V220\n",
      "V221\n",
      "V222\n",
      "V223\n",
      "V224\n",
      "V225\n",
      "V226\n",
      "V227\n",
      "V228\n",
      "V229\n",
      "V230\n",
      "V231\n",
      "V232\n",
      "V233\n",
      "V234\n",
      "V235\n",
      "V236\n",
      "V237\n",
      "V238\n",
      "V239\n",
      "V240\n",
      "V241\n",
      "V242\n",
      "V243\n",
      "V244\n",
      "V245\n",
      "V246\n",
      "V247\n",
      "V248\n",
      "V249\n",
      "V250\n",
      "V251\n",
      "V252\n",
      "V253\n",
      "V254\n",
      "V255\n",
      "V256\n",
      "V257\n",
      "V258\n",
      "V259\n",
      "V260\n",
      "V261\n",
      "V262\n",
      "V263\n",
      "V264\n",
      "V265\n",
      "V266\n",
      "V267\n",
      "V268\n",
      "V269\n",
      "V270\n",
      "V271\n",
      "V272\n",
      "V273\n",
      "V274\n",
      "V275\n",
      "V276\n",
      "V277\n",
      "V278\n",
      "V279\n",
      "V280\n",
      "V281\n",
      "V282\n",
      "V283\n",
      "V284\n",
      "V285\n",
      "V286\n",
      "V287\n",
      "V288\n",
      "V289\n",
      "V290\n",
      "V291\n",
      "V292\n",
      "V293\n",
      "V294\n",
      "V295\n",
      "V296\n",
      "V297\n",
      "V298\n",
      "V299\n",
      "V300\n",
      "V301\n",
      "V302\n",
      "V303\n",
      "V304\n",
      "V305\n",
      "V306\n",
      "V307\n",
      "V308\n",
      "V309\n",
      "V310\n",
      "V311\n",
      "V312\n",
      "V313\n",
      "V314\n",
      "V315\n",
      "V316\n",
      "V317\n",
      "V318\n",
      "V319\n",
      "V320\n",
      "V321\n",
      "V322\n",
      "V323\n",
      "V324\n",
      "V325\n",
      "V326\n",
      "V327\n",
      "V328\n",
      "V329\n",
      "V330\n",
      "V331\n",
      "V332\n",
      "V333\n",
      "V334\n",
      "V335\n",
      "V336\n",
      "V337\n",
      "V338\n",
      "V339\n",
      "id_01\n",
      "id_02\n",
      "id_03\n",
      "id_04\n",
      "id_05\n",
      "id_06\n",
      "id_07\n",
      "id_08\n",
      "id_09\n",
      "id_10\n",
      "id_11\n",
      "id_12\n",
      "id_13\n",
      "id_14\n",
      "id_15\n",
      "id_16\n",
      "id_17\n",
      "id_18\n",
      "id_19\n",
      "id_20\n",
      "id_21\n",
      "id_22\n",
      "id_23\n",
      "id_24\n",
      "id_25\n",
      "id_26\n",
      "id_27\n",
      "id_28\n",
      "id_29\n",
      "id_30\n",
      "id_31\n",
      "id_32\n",
      "id_33\n",
      "id_34\n",
      "id_35\n",
      "id_36\n",
      "id_37\n",
      "id_38\n",
      "DeviceType\n",
      "DeviceInfo\n",
      "_seq_day\n",
      "_seq_week\n",
      "Date\n",
      "_ymd\n",
      "_year_month\n",
      "_weekday\n",
      "_hour\n",
      "_day\n"
     ]
    }
   ],
   "source": [
    "for col in train.columns:\n",
    "    print(col)"
   ]
  },
  {
   "cell_type": "code",
   "execution_count": 368,
   "metadata": {},
   "outputs": [
    {
     "data": {
      "image/png": "[encoded data removed]",
      "text/plain": [
       "<Figure size 432x288 with 1 Axes>"
      ]
     },
     "metadata": {
      "needs_background": "light"
     },
     "output_type": "display_data"
    }
   ],
   "source": [
    "plt.hist(train['C4'])\n",
    "plt.show()"
   ]
  },
  {
   "cell_type": "markdown",
   "metadata": {},
   "source": [
    "# Feature Engineering"
   ]
  },
  {
   "cell_type": "code",
   "execution_count": 369,
   "metadata": {},
   "outputs": [],
   "source": [
    "# https://www.kaggle.com/kabure/extensive-eda-and-modeling-xgb-hyperopt\n",
    "# id_30 OS\n",
    "train.loc[train['id_30'].str.contains('Windows', na=False), 'id_30'] = 'Windows'\n",
    "train.loc[train['id_30'].str.contains('iOS', na=False), 'id_30'] = 'iOS'\n",
    "train.loc[train['id_30'].str.contains('Mac OS', na=False), 'id_30'] = 'Mac'\n",
    "train.loc[train['id_30'].str.contains('Android', na=False), 'id_30'] = 'Android'\n",
    "train['id_30'].fillna(\"NAN\", inplace=True)"
   ]
  },
  {
   "cell_type": "code",
   "execution_count": 370,
   "metadata": {},
   "outputs": [
    {
     "data": {
      "text/plain": [
       "NAN        512975\n",
       "Windows     36739\n",
       "iOS         19782\n",
       "Mac         13580\n",
       "Android      6303\n",
       "Linux        1136\n",
       "other          15\n",
       "func           10\n",
       "Name: id_30, dtype: int64"
      ]
     },
     "execution_count": 370,
     "metadata": {},
     "output_type": "execute_result"
    }
   ],
   "source": [
    "train['id_30'].value_counts()"
   ]
  },
  {
   "cell_type": "code",
   "execution_count": 371,
   "metadata": {},
   "outputs": [],
   "source": [
    "# https://www.kaggle.com/kabure/extensive-eda-and-modeling-xgb-hyperopt\n",
    "# id_31 Browser\n",
    "train.loc[train['id_31'].str.contains('chrome', na=False), 'id_31'] = 'Chrome'\n",
    "train.loc[train['id_31'].str.contains('firefox', na=False), 'id_31'] = 'Firefox'\n",
    "train.loc[train['id_31'].str.contains('safari', na=False), 'id_31'] = 'Safari'\n",
    "train.loc[train['id_31'].str.contains('edge', na=False), 'id_31'] = 'Edge'\n",
    "train.loc[train['id_31'].str.contains('ie', na=False), 'id_31'] = 'IE'\n",
    "train.loc[train['id_31'].str.contains('samsung', na=False), 'id_31'] = 'Samsung'\n",
    "train.loc[train['id_31'].str.contains('opera', na=False), 'id_31'] = 'Opera'\n",
    "train['id_31'].fillna(\"NAN\", inplace=True)\n",
    "train.loc[train.id_31.isin(train.id_31.value_counts()[train.id_31.value_counts() < 200].index), 'id_31'] = \"Others\""
   ]
  },
  {
   "cell_type": "code",
   "execution_count": null,
   "metadata": {},
   "outputs": [],
   "source": []
  },
  {
   "cell_type": "code",
   "execution_count": 208,
   "metadata": {},
   "outputs": [],
   "source": [
    "# https://www.kaggle.com/kabure/extensive-eda-and-modeling-xgb-hyperopt\n",
    "emails = {'gmail': 'google', 'att.net': 'att', 'twc.com': 'spectrum', \n",
    "          'scranton.edu': 'other', 'optonline.net': 'other', 'hotmail.co.uk': 'microsoft',\n",
    "          'comcast.net': 'other', 'yahoo.com.mx': 'yahoo', 'yahoo.fr': 'yahoo',\n",
    "          'yahoo.es': 'yahoo', 'charter.net': 'spectrum', 'live.com': 'microsoft', \n",
    "          'aim.com': 'aol', 'hotmail.de': 'microsoft', 'centurylink.net': 'centurylink',\n",
    "          'gmail.com': 'google', 'me.com': 'apple', 'earthlink.net': 'other', 'gmx.de': 'other',\n",
    "          'web.de': 'other', 'cfl.rr.com': 'other', 'hotmail.com': 'microsoft', \n",
    "          'protonmail.com': 'other', 'hotmail.fr': 'microsoft', 'windstream.net': 'other', \n",
    "          'outlook.es': 'microsoft', 'yahoo.co.jp': 'yahoo', 'yahoo.de': 'yahoo',\n",
    "          'servicios-ta.com': 'other', 'netzero.net': 'other', 'suddenlink.net': 'other',\n",
    "          'roadrunner.com': 'other', 'sc.rr.com': 'other', 'live.fr': 'microsoft',\n",
    "          'verizon.net': 'yahoo', 'msn.com': 'microsoft', 'q.com': 'centurylink', \n",
    "          'prodigy.net.mx': 'att', 'frontier.com': 'yahoo', 'anonymous.com': 'other', \n",
    "          'rocketmail.com': 'yahoo', 'sbcglobal.net': 'att', 'frontiernet.net': 'yahoo', \n",
    "          'ymail.com': 'yahoo', 'outlook.com': 'microsoft', 'mail.com': 'other', \n",
    "          'bellsouth.net': 'other', 'embarqmail.com': 'centurylink', 'cableone.net': 'other', \n",
    "          'hotmail.es': 'microsoft', 'mac.com': 'apple', 'yahoo.co.uk': 'yahoo', 'netzero.com': 'other', \n",
    "          'yahoo.com': 'yahoo', 'live.com.mx': 'microsoft', 'ptd.net': 'other', 'cox.net': 'other',\n",
    "          'aol.com': 'aol', 'juno.com': 'other', 'icloud.com': 'apple'}\n",
    "\n",
    "us_emails = ['gmail', 'net', 'edu']\n",
    "\n",
    "# https://www.kaggle.com/c/ieee-fraud-detection/discussion/100499#latest-579654\n",
    "for c in ['P_emaildomain', 'R_emaildomain']:\n",
    "    train[c + '_bin'] = train[c].map(emails)\n",
    "    \n",
    "    train[c + '_suffix'] = train[c].map(lambda x: str(x).split('.')[-1])\n",
    "    \n",
    "    train[c + '_suffix'] = train[c + '_suffix'].map(lambda x: x if str(x) not in us_emails else 'us')\n",
    "    "
   ]
  },
  {
   "cell_type": "code",
   "execution_count": 214,
   "metadata": {},
   "outputs": [],
   "source": [
    "# Label Encoding\n",
    "for f in train.drop('isFraud', axis=1).columns:\n",
    "    if train[f].dtype=='object': \n",
    "        lbl = preprocessing.LabelEncoder()\n",
    "        lbl.fit(list(train[f].values))\n",
    "        train[f] = lbl.transform(list(train[f].values))"
   ]
  },
  {
   "cell_type": "code",
   "execution_count": 225,
   "metadata": {},
   "outputs": [
    {
     "data": {
      "text/html": [
       "<div>\n",
       "<style scoped>\n",
       "    .dataframe tbody tr th:only-of-type {\n",
       "        vertical-align: middle;\n",
       "    }\n",
       "\n",
       "    .dataframe tbody tr th {\n",
       "        vertical-align: top;\n",
       "    }\n",
       "\n",
       "    .dataframe thead th {\n",
       "        text-align: right;\n",
       "    }\n",
       "</style>\n",
       "<table border=\"1\" class=\"dataframe\">\n",
       "  <thead>\n",
       "    <tr style=\"text-align: right;\">\n",
       "      <th></th>\n",
       "      <th>TransactionID</th>\n",
       "      <th>isFraud</th>\n",
       "      <th>TransactionDT</th>\n",
       "      <th>TransactionAmt</th>\n",
       "      <th>ProductCD</th>\n",
       "      <th>card1</th>\n",
       "      <th>card2</th>\n",
       "      <th>card3</th>\n",
       "      <th>card4</th>\n",
       "      <th>card5</th>\n",
       "      <th>...</th>\n",
       "      <th>_seq_week</th>\n",
       "      <th>Date</th>\n",
       "      <th>_year_month</th>\n",
       "      <th>_weekday</th>\n",
       "      <th>_hour</th>\n",
       "      <th>_day</th>\n",
       "      <th>P_emaildomain_bin</th>\n",
       "      <th>P_emaildomain_suffix</th>\n",
       "      <th>R_emaildomain_bin</th>\n",
       "      <th>R_emaildomain_suffix</th>\n",
       "    </tr>\n",
       "  </thead>\n",
       "  <tbody>\n",
       "    <tr>\n",
       "      <th>0</th>\n",
       "      <td>2987000</td>\n",
       "      <td>0</td>\n",
       "      <td>86400</td>\n",
       "      <td>68.500000</td>\n",
       "      <td>4</td>\n",
       "      <td>13926</td>\n",
       "      <td>NaN</td>\n",
       "      <td>150.0</td>\n",
       "      <td>1</td>\n",
       "      <td>142.0</td>\n",
       "      <td>...</td>\n",
       "      <td>0</td>\n",
       "      <td>2017-12-01 00:00:00</td>\n",
       "      <td>0</td>\n",
       "      <td>4</td>\n",
       "      <td>0</td>\n",
       "      <td>1</td>\n",
       "      <td>6</td>\n",
       "      <td>6</td>\n",
       "      <td>6</td>\n",
       "      <td>6</td>\n",
       "    </tr>\n",
       "    <tr>\n",
       "      <th>1</th>\n",
       "      <td>2987001</td>\n",
       "      <td>0</td>\n",
       "      <td>86401</td>\n",
       "      <td>29.000000</td>\n",
       "      <td>4</td>\n",
       "      <td>2755</td>\n",
       "      <td>404.0</td>\n",
       "      <td>150.0</td>\n",
       "      <td>2</td>\n",
       "      <td>102.0</td>\n",
       "      <td>...</td>\n",
       "      <td>0</td>\n",
       "      <td>2017-12-01 00:00:01</td>\n",
       "      <td>0</td>\n",
       "      <td>4</td>\n",
       "      <td>0</td>\n",
       "      <td>1</td>\n",
       "      <td>4</td>\n",
       "      <td>0</td>\n",
       "      <td>6</td>\n",
       "      <td>6</td>\n",
       "    </tr>\n",
       "    <tr>\n",
       "      <th>2</th>\n",
       "      <td>2987002</td>\n",
       "      <td>0</td>\n",
       "      <td>86469</td>\n",
       "      <td>59.000000</td>\n",
       "      <td>4</td>\n",
       "      <td>4663</td>\n",
       "      <td>490.0</td>\n",
       "      <td>150.0</td>\n",
       "      <td>4</td>\n",
       "      <td>166.0</td>\n",
       "      <td>...</td>\n",
       "      <td>0</td>\n",
       "      <td>2017-12-01 00:01:09</td>\n",
       "      <td>0</td>\n",
       "      <td>4</td>\n",
       "      <td>0</td>\n",
       "      <td>1</td>\n",
       "      <td>5</td>\n",
       "      <td>0</td>\n",
       "      <td>6</td>\n",
       "      <td>6</td>\n",
       "    </tr>\n",
       "    <tr>\n",
       "      <th>3</th>\n",
       "      <td>2987003</td>\n",
       "      <td>0</td>\n",
       "      <td>86499</td>\n",
       "      <td>50.000000</td>\n",
       "      <td>4</td>\n",
       "      <td>18132</td>\n",
       "      <td>567.0</td>\n",
       "      <td>150.0</td>\n",
       "      <td>2</td>\n",
       "      <td>117.0</td>\n",
       "      <td>...</td>\n",
       "      <td>0</td>\n",
       "      <td>2017-12-01 00:01:39</td>\n",
       "      <td>0</td>\n",
       "      <td>4</td>\n",
       "      <td>0</td>\n",
       "      <td>1</td>\n",
       "      <td>9</td>\n",
       "      <td>0</td>\n",
       "      <td>6</td>\n",
       "      <td>6</td>\n",
       "    </tr>\n",
       "    <tr>\n",
       "      <th>4</th>\n",
       "      <td>2987004</td>\n",
       "      <td>0</td>\n",
       "      <td>86506</td>\n",
       "      <td>50.000000</td>\n",
       "      <td>1</td>\n",
       "      <td>4497</td>\n",
       "      <td>514.0</td>\n",
       "      <td>150.0</td>\n",
       "      <td>2</td>\n",
       "      <td>102.0</td>\n",
       "      <td>...</td>\n",
       "      <td>0</td>\n",
       "      <td>2017-12-01 00:01:46</td>\n",
       "      <td>0</td>\n",
       "      <td>4</td>\n",
       "      <td>0</td>\n",
       "      <td>1</td>\n",
       "      <td>4</td>\n",
       "      <td>0</td>\n",
       "      <td>6</td>\n",
       "      <td>6</td>\n",
       "    </tr>\n",
       "    <tr>\n",
       "      <th>5</th>\n",
       "      <td>2987005</td>\n",
       "      <td>0</td>\n",
       "      <td>86510</td>\n",
       "      <td>49.000000</td>\n",
       "      <td>4</td>\n",
       "      <td>5937</td>\n",
       "      <td>555.0</td>\n",
       "      <td>150.0</td>\n",
       "      <td>4</td>\n",
       "      <td>226.0</td>\n",
       "      <td>...</td>\n",
       "      <td>0</td>\n",
       "      <td>2017-12-01 00:01:50</td>\n",
       "      <td>0</td>\n",
       "      <td>4</td>\n",
       "      <td>0</td>\n",
       "      <td>1</td>\n",
       "      <td>4</td>\n",
       "      <td>0</td>\n",
       "      <td>6</td>\n",
       "      <td>6</td>\n",
       "    </tr>\n",
       "    <tr>\n",
       "      <th>6</th>\n",
       "      <td>2987006</td>\n",
       "      <td>0</td>\n",
       "      <td>86522</td>\n",
       "      <td>159.000000</td>\n",
       "      <td>4</td>\n",
       "      <td>12308</td>\n",
       "      <td>360.0</td>\n",
       "      <td>150.0</td>\n",
       "      <td>4</td>\n",
       "      <td>166.0</td>\n",
       "      <td>...</td>\n",
       "      <td>0</td>\n",
       "      <td>2017-12-01 00:02:02</td>\n",
       "      <td>0</td>\n",
       "      <td>4</td>\n",
       "      <td>0</td>\n",
       "      <td>1</td>\n",
       "      <td>9</td>\n",
       "      <td>0</td>\n",
       "      <td>6</td>\n",
       "      <td>6</td>\n",
       "    </tr>\n",
       "    <tr>\n",
       "      <th>7</th>\n",
       "      <td>2987007</td>\n",
       "      <td>0</td>\n",
       "      <td>86529</td>\n",
       "      <td>422.500000</td>\n",
       "      <td>4</td>\n",
       "      <td>12695</td>\n",
       "      <td>490.0</td>\n",
       "      <td>150.0</td>\n",
       "      <td>4</td>\n",
       "      <td>226.0</td>\n",
       "      <td>...</td>\n",
       "      <td>0</td>\n",
       "      <td>2017-12-01 00:02:09</td>\n",
       "      <td>0</td>\n",
       "      <td>4</td>\n",
       "      <td>0</td>\n",
       "      <td>1</td>\n",
       "      <td>7</td>\n",
       "      <td>0</td>\n",
       "      <td>6</td>\n",
       "      <td>6</td>\n",
       "    </tr>\n",
       "    <tr>\n",
       "      <th>8</th>\n",
       "      <td>2987008</td>\n",
       "      <td>0</td>\n",
       "      <td>86535</td>\n",
       "      <td>15.000000</td>\n",
       "      <td>1</td>\n",
       "      <td>2803</td>\n",
       "      <td>100.0</td>\n",
       "      <td>150.0</td>\n",
       "      <td>4</td>\n",
       "      <td>226.0</td>\n",
       "      <td>...</td>\n",
       "      <td>0</td>\n",
       "      <td>2017-12-01 00:02:15</td>\n",
       "      <td>0</td>\n",
       "      <td>4</td>\n",
       "      <td>0</td>\n",
       "      <td>1</td>\n",
       "      <td>7</td>\n",
       "      <td>0</td>\n",
       "      <td>6</td>\n",
       "      <td>6</td>\n",
       "    </tr>\n",
       "    <tr>\n",
       "      <th>9</th>\n",
       "      <td>2987009</td>\n",
       "      <td>0</td>\n",
       "      <td>86536</td>\n",
       "      <td>117.000000</td>\n",
       "      <td>4</td>\n",
       "      <td>17399</td>\n",
       "      <td>111.0</td>\n",
       "      <td>150.0</td>\n",
       "      <td>2</td>\n",
       "      <td>224.0</td>\n",
       "      <td>...</td>\n",
       "      <td>0</td>\n",
       "      <td>2017-12-01 00:02:16</td>\n",
       "      <td>0</td>\n",
       "      <td>4</td>\n",
       "      <td>0</td>\n",
       "      <td>1</td>\n",
       "      <td>9</td>\n",
       "      <td>0</td>\n",
       "      <td>6</td>\n",
       "      <td>6</td>\n",
       "    </tr>\n",
       "    <tr>\n",
       "      <th>10</th>\n",
       "      <td>2987010</td>\n",
       "      <td>0</td>\n",
       "      <td>86549</td>\n",
       "      <td>75.875000</td>\n",
       "      <td>0</td>\n",
       "      <td>16496</td>\n",
       "      <td>352.0</td>\n",
       "      <td>117.0</td>\n",
       "      <td>2</td>\n",
       "      <td>134.0</td>\n",
       "      <td>...</td>\n",
       "      <td>0</td>\n",
       "      <td>2017-12-01 00:02:29</td>\n",
       "      <td>0</td>\n",
       "      <td>4</td>\n",
       "      <td>0</td>\n",
       "      <td>1</td>\n",
       "      <td>4</td>\n",
       "      <td>0</td>\n",
       "      <td>4</td>\n",
       "      <td>0</td>\n",
       "    </tr>\n",
       "    <tr>\n",
       "      <th>11</th>\n",
       "      <td>2987011</td>\n",
       "      <td>0</td>\n",
       "      <td>86555</td>\n",
       "      <td>16.500000</td>\n",
       "      <td>0</td>\n",
       "      <td>4461</td>\n",
       "      <td>375.0</td>\n",
       "      <td>185.0</td>\n",
       "      <td>2</td>\n",
       "      <td>224.0</td>\n",
       "      <td>...</td>\n",
       "      <td>0</td>\n",
       "      <td>2017-12-01 00:02:35</td>\n",
       "      <td>0</td>\n",
       "      <td>4</td>\n",
       "      <td>0</td>\n",
       "      <td>1</td>\n",
       "      <td>5</td>\n",
       "      <td>0</td>\n",
       "      <td>5</td>\n",
       "      <td>0</td>\n",
       "    </tr>\n",
       "    <tr>\n",
       "      <th>12</th>\n",
       "      <td>2987012</td>\n",
       "      <td>0</td>\n",
       "      <td>86564</td>\n",
       "      <td>50.000000</td>\n",
       "      <td>4</td>\n",
       "      <td>3786</td>\n",
       "      <td>418.0</td>\n",
       "      <td>150.0</td>\n",
       "      <td>4</td>\n",
       "      <td>226.0</td>\n",
       "      <td>...</td>\n",
       "      <td>0</td>\n",
       "      <td>2017-12-01 00:02:44</td>\n",
       "      <td>0</td>\n",
       "      <td>4</td>\n",
       "      <td>0</td>\n",
       "      <td>1</td>\n",
       "      <td>9</td>\n",
       "      <td>8</td>\n",
       "      <td>6</td>\n",
       "      <td>6</td>\n",
       "    </tr>\n",
       "    <tr>\n",
       "      <th>13</th>\n",
       "      <td>2987013</td>\n",
       "      <td>0</td>\n",
       "      <td>86585</td>\n",
       "      <td>40.000000</td>\n",
       "      <td>4</td>\n",
       "      <td>12866</td>\n",
       "      <td>303.0</td>\n",
       "      <td>150.0</td>\n",
       "      <td>4</td>\n",
       "      <td>226.0</td>\n",
       "      <td>...</td>\n",
       "      <td>0</td>\n",
       "      <td>2017-12-01 00:03:05</td>\n",
       "      <td>0</td>\n",
       "      <td>4</td>\n",
       "      <td>0</td>\n",
       "      <td>1</td>\n",
       "      <td>0</td>\n",
       "      <td>0</td>\n",
       "      <td>6</td>\n",
       "      <td>6</td>\n",
       "    </tr>\n",
       "    <tr>\n",
       "      <th>14</th>\n",
       "      <td>2987014</td>\n",
       "      <td>0</td>\n",
       "      <td>86596</td>\n",
       "      <td>10.500000</td>\n",
       "      <td>4</td>\n",
       "      <td>11839</td>\n",
       "      <td>490.0</td>\n",
       "      <td>150.0</td>\n",
       "      <td>4</td>\n",
       "      <td>226.0</td>\n",
       "      <td>...</td>\n",
       "      <td>0</td>\n",
       "      <td>2017-12-01 00:03:16</td>\n",
       "      <td>0</td>\n",
       "      <td>4</td>\n",
       "      <td>0</td>\n",
       "      <td>1</td>\n",
       "      <td>9</td>\n",
       "      <td>0</td>\n",
       "      <td>6</td>\n",
       "      <td>6</td>\n",
       "    </tr>\n",
       "    <tr>\n",
       "      <th>15</th>\n",
       "      <td>2987015</td>\n",
       "      <td>0</td>\n",
       "      <td>86618</td>\n",
       "      <td>57.937500</td>\n",
       "      <td>4</td>\n",
       "      <td>7055</td>\n",
       "      <td>555.0</td>\n",
       "      <td>150.0</td>\n",
       "      <td>4</td>\n",
       "      <td>226.0</td>\n",
       "      <td>...</td>\n",
       "      <td>0</td>\n",
       "      <td>2017-12-01 00:03:38</td>\n",
       "      <td>0</td>\n",
       "      <td>4</td>\n",
       "      <td>0</td>\n",
       "      <td>1</td>\n",
       "      <td>6</td>\n",
       "      <td>6</td>\n",
       "      <td>6</td>\n",
       "      <td>6</td>\n",
       "    </tr>\n",
       "    <tr>\n",
       "      <th>16</th>\n",
       "      <td>2987016</td>\n",
       "      <td>0</td>\n",
       "      <td>86620</td>\n",
       "      <td>30.000000</td>\n",
       "      <td>1</td>\n",
       "      <td>1790</td>\n",
       "      <td>555.0</td>\n",
       "      <td>150.0</td>\n",
       "      <td>4</td>\n",
       "      <td>226.0</td>\n",
       "      <td>...</td>\n",
       "      <td>0</td>\n",
       "      <td>2017-12-01 00:03:40</td>\n",
       "      <td>0</td>\n",
       "      <td>4</td>\n",
       "      <td>0</td>\n",
       "      <td>1</td>\n",
       "      <td>0</td>\n",
       "      <td>0</td>\n",
       "      <td>6</td>\n",
       "      <td>6</td>\n",
       "    </tr>\n",
       "    <tr>\n",
       "      <th>17</th>\n",
       "      <td>2987017</td>\n",
       "      <td>0</td>\n",
       "      <td>86668</td>\n",
       "      <td>100.000000</td>\n",
       "      <td>1</td>\n",
       "      <td>11492</td>\n",
       "      <td>111.0</td>\n",
       "      <td>150.0</td>\n",
       "      <td>2</td>\n",
       "      <td>219.0</td>\n",
       "      <td>...</td>\n",
       "      <td>0</td>\n",
       "      <td>2017-12-01 00:04:28</td>\n",
       "      <td>0</td>\n",
       "      <td>4</td>\n",
       "      <td>0</td>\n",
       "      <td>1</td>\n",
       "      <td>9</td>\n",
       "      <td>0</td>\n",
       "      <td>6</td>\n",
       "      <td>6</td>\n",
       "    </tr>\n",
       "    <tr>\n",
       "      <th>18</th>\n",
       "      <td>2987018</td>\n",
       "      <td>0</td>\n",
       "      <td>86725</td>\n",
       "      <td>47.937500</td>\n",
       "      <td>4</td>\n",
       "      <td>4663</td>\n",
       "      <td>490.0</td>\n",
       "      <td>150.0</td>\n",
       "      <td>4</td>\n",
       "      <td>166.0</td>\n",
       "      <td>...</td>\n",
       "      <td>0</td>\n",
       "      <td>2017-12-01 00:05:25</td>\n",
       "      <td>0</td>\n",
       "      <td>4</td>\n",
       "      <td>0</td>\n",
       "      <td>1</td>\n",
       "      <td>4</td>\n",
       "      <td>0</td>\n",
       "      <td>6</td>\n",
       "      <td>6</td>\n",
       "    </tr>\n",
       "    <tr>\n",
       "      <th>19</th>\n",
       "      <td>2987019</td>\n",
       "      <td>0</td>\n",
       "      <td>86730</td>\n",
       "      <td>186.000000</td>\n",
       "      <td>4</td>\n",
       "      <td>7005</td>\n",
       "      <td>111.0</td>\n",
       "      <td>150.0</td>\n",
       "      <td>4</td>\n",
       "      <td>226.0</td>\n",
       "      <td>...</td>\n",
       "      <td>0</td>\n",
       "      <td>2017-12-01 00:05:30</td>\n",
       "      <td>0</td>\n",
       "      <td>4</td>\n",
       "      <td>0</td>\n",
       "      <td>1</td>\n",
       "      <td>4</td>\n",
       "      <td>0</td>\n",
       "      <td>6</td>\n",
       "      <td>6</td>\n",
       "    </tr>\n",
       "    <tr>\n",
       "      <th>20</th>\n",
       "      <td>2987020</td>\n",
       "      <td>0</td>\n",
       "      <td>86761</td>\n",
       "      <td>39.000000</td>\n",
       "      <td>4</td>\n",
       "      <td>7875</td>\n",
       "      <td>314.0</td>\n",
       "      <td>150.0</td>\n",
       "      <td>2</td>\n",
       "      <td>224.0</td>\n",
       "      <td>...</td>\n",
       "      <td>0</td>\n",
       "      <td>2017-12-01 00:06:01</td>\n",
       "      <td>0</td>\n",
       "      <td>4</td>\n",
       "      <td>0</td>\n",
       "      <td>1</td>\n",
       "      <td>4</td>\n",
       "      <td>0</td>\n",
       "      <td>6</td>\n",
       "      <td>6</td>\n",
       "    </tr>\n",
       "    <tr>\n",
       "      <th>21</th>\n",
       "      <td>2987021</td>\n",
       "      <td>0</td>\n",
       "      <td>86769</td>\n",
       "      <td>160.000000</td>\n",
       "      <td>4</td>\n",
       "      <td>11401</td>\n",
       "      <td>543.0</td>\n",
       "      <td>150.0</td>\n",
       "      <td>2</td>\n",
       "      <td>117.0</td>\n",
       "      <td>...</td>\n",
       "      <td>0</td>\n",
       "      <td>2017-12-01 00:06:09</td>\n",
       "      <td>0</td>\n",
       "      <td>4</td>\n",
       "      <td>0</td>\n",
       "      <td>1</td>\n",
       "      <td>4</td>\n",
       "      <td>0</td>\n",
       "      <td>6</td>\n",
       "      <td>6</td>\n",
       "    </tr>\n",
       "    <tr>\n",
       "      <th>22</th>\n",
       "      <td>2987022</td>\n",
       "      <td>0</td>\n",
       "      <td>86786</td>\n",
       "      <td>50.000000</td>\n",
       "      <td>1</td>\n",
       "      <td>1724</td>\n",
       "      <td>583.0</td>\n",
       "      <td>150.0</td>\n",
       "      <td>4</td>\n",
       "      <td>226.0</td>\n",
       "      <td>...</td>\n",
       "      <td>0</td>\n",
       "      <td>2017-12-01 00:06:26</td>\n",
       "      <td>0</td>\n",
       "      <td>4</td>\n",
       "      <td>0</td>\n",
       "      <td>1</td>\n",
       "      <td>4</td>\n",
       "      <td>0</td>\n",
       "      <td>6</td>\n",
       "      <td>6</td>\n",
       "    </tr>\n",
       "    <tr>\n",
       "      <th>23</th>\n",
       "      <td>2987023</td>\n",
       "      <td>0</td>\n",
       "      <td>86808</td>\n",
       "      <td>107.937500</td>\n",
       "      <td>4</td>\n",
       "      <td>2392</td>\n",
       "      <td>360.0</td>\n",
       "      <td>150.0</td>\n",
       "      <td>2</td>\n",
       "      <td>166.0</td>\n",
       "      <td>...</td>\n",
       "      <td>0</td>\n",
       "      <td>2017-12-01 00:06:48</td>\n",
       "      <td>0</td>\n",
       "      <td>4</td>\n",
       "      <td>0</td>\n",
       "      <td>1</td>\n",
       "      <td>4</td>\n",
       "      <td>0</td>\n",
       "      <td>6</td>\n",
       "      <td>6</td>\n",
       "    </tr>\n",
       "    <tr>\n",
       "      <th>24</th>\n",
       "      <td>2987024</td>\n",
       "      <td>0</td>\n",
       "      <td>86821</td>\n",
       "      <td>73.937500</td>\n",
       "      <td>4</td>\n",
       "      <td>10112</td>\n",
       "      <td>360.0</td>\n",
       "      <td>150.0</td>\n",
       "      <td>4</td>\n",
       "      <td>166.0</td>\n",
       "      <td>...</td>\n",
       "      <td>0</td>\n",
       "      <td>2017-12-01 00:07:01</td>\n",
       "      <td>0</td>\n",
       "      <td>4</td>\n",
       "      <td>0</td>\n",
       "      <td>1</td>\n",
       "      <td>4</td>\n",
       "      <td>0</td>\n",
       "      <td>6</td>\n",
       "      <td>6</td>\n",
       "    </tr>\n",
       "    <tr>\n",
       "      <th>25</th>\n",
       "      <td>2987025</td>\n",
       "      <td>0</td>\n",
       "      <td>86944</td>\n",
       "      <td>107.937500</td>\n",
       "      <td>4</td>\n",
       "      <td>15385</td>\n",
       "      <td>111.0</td>\n",
       "      <td>150.0</td>\n",
       "      <td>2</td>\n",
       "      <td>224.0</td>\n",
       "      <td>...</td>\n",
       "      <td>0</td>\n",
       "      <td>2017-12-01 00:09:04</td>\n",
       "      <td>0</td>\n",
       "      <td>4</td>\n",
       "      <td>0</td>\n",
       "      <td>1</td>\n",
       "      <td>4</td>\n",
       "      <td>0</td>\n",
       "      <td>6</td>\n",
       "      <td>6</td>\n",
       "    </tr>\n",
       "    <tr>\n",
       "      <th>26</th>\n",
       "      <td>2987026</td>\n",
       "      <td>0</td>\n",
       "      <td>86945</td>\n",
       "      <td>184.000000</td>\n",
       "      <td>4</td>\n",
       "      <td>17868</td>\n",
       "      <td>148.0</td>\n",
       "      <td>150.0</td>\n",
       "      <td>4</td>\n",
       "      <td>226.0</td>\n",
       "      <td>...</td>\n",
       "      <td>0</td>\n",
       "      <td>2017-12-01 00:09:05</td>\n",
       "      <td>0</td>\n",
       "      <td>4</td>\n",
       "      <td>0</td>\n",
       "      <td>1</td>\n",
       "      <td>1</td>\n",
       "      <td>0</td>\n",
       "      <td>6</td>\n",
       "      <td>6</td>\n",
       "    </tr>\n",
       "    <tr>\n",
       "      <th>27</th>\n",
       "      <td>2987027</td>\n",
       "      <td>0</td>\n",
       "      <td>86972</td>\n",
       "      <td>47.937500</td>\n",
       "      <td>4</td>\n",
       "      <td>11307</td>\n",
       "      <td>321.0</td>\n",
       "      <td>150.0</td>\n",
       "      <td>4</td>\n",
       "      <td>226.0</td>\n",
       "      <td>...</td>\n",
       "      <td>0</td>\n",
       "      <td>2017-12-01 00:09:32</td>\n",
       "      <td>0</td>\n",
       "      <td>4</td>\n",
       "      <td>0</td>\n",
       "      <td>1</td>\n",
       "      <td>9</td>\n",
       "      <td>0</td>\n",
       "      <td>6</td>\n",
       "      <td>6</td>\n",
       "    </tr>\n",
       "    <tr>\n",
       "      <th>28</th>\n",
       "      <td>2987028</td>\n",
       "      <td>0</td>\n",
       "      <td>86973</td>\n",
       "      <td>20.000000</td>\n",
       "      <td>4</td>\n",
       "      <td>8431</td>\n",
       "      <td>269.0</td>\n",
       "      <td>150.0</td>\n",
       "      <td>2</td>\n",
       "      <td>224.0</td>\n",
       "      <td>...</td>\n",
       "      <td>0</td>\n",
       "      <td>2017-12-01 00:09:33</td>\n",
       "      <td>0</td>\n",
       "      <td>4</td>\n",
       "      <td>0</td>\n",
       "      <td>1</td>\n",
       "      <td>6</td>\n",
       "      <td>6</td>\n",
       "      <td>6</td>\n",
       "      <td>6</td>\n",
       "    </tr>\n",
       "    <tr>\n",
       "      <th>29</th>\n",
       "      <td>2987029</td>\n",
       "      <td>0</td>\n",
       "      <td>86979</td>\n",
       "      <td>37.000000</td>\n",
       "      <td>4</td>\n",
       "      <td>12932</td>\n",
       "      <td>361.0</td>\n",
       "      <td>150.0</td>\n",
       "      <td>4</td>\n",
       "      <td>226.0</td>\n",
       "      <td>...</td>\n",
       "      <td>0</td>\n",
       "      <td>2017-12-01 00:09:39</td>\n",
       "      <td>0</td>\n",
       "      <td>4</td>\n",
       "      <td>0</td>\n",
       "      <td>1</td>\n",
       "      <td>4</td>\n",
       "      <td>0</td>\n",
       "      <td>6</td>\n",
       "      <td>6</td>\n",
       "    </tr>\n",
       "    <tr>\n",
       "      <th>...</th>\n",
       "      <td>...</td>\n",
       "      <td>...</td>\n",
       "      <td>...</td>\n",
       "      <td>...</td>\n",
       "      <td>...</td>\n",
       "      <td>...</td>\n",
       "      <td>...</td>\n",
       "      <td>...</td>\n",
       "      <td>...</td>\n",
       "      <td>...</td>\n",
       "      <td>...</td>\n",
       "      <td>...</td>\n",
       "      <td>...</td>\n",
       "      <td>...</td>\n",
       "      <td>...</td>\n",
       "      <td>...</td>\n",
       "      <td>...</td>\n",
       "      <td>...</td>\n",
       "      <td>...</td>\n",
       "      <td>...</td>\n",
       "      <td>...</td>\n",
       "    </tr>\n",
       "    <tr>\n",
       "      <th>590510</th>\n",
       "      <td>3577510</td>\n",
       "      <td>0</td>\n",
       "      <td>15810518</td>\n",
       "      <td>24.500000</td>\n",
       "      <td>4</td>\n",
       "      <td>9500</td>\n",
       "      <td>321.0</td>\n",
       "      <td>150.0</td>\n",
       "      <td>4</td>\n",
       "      <td>226.0</td>\n",
       "      <td>...</td>\n",
       "      <td>26</td>\n",
       "      <td>2018-05-31 23:48:38</td>\n",
       "      <td>5</td>\n",
       "      <td>3</td>\n",
       "      <td>23</td>\n",
       "      <td>31</td>\n",
       "      <td>4</td>\n",
       "      <td>0</td>\n",
       "      <td>6</td>\n",
       "      <td>6</td>\n",
       "    </tr>\n",
       "    <tr>\n",
       "      <th>590511</th>\n",
       "      <td>3577511</td>\n",
       "      <td>0</td>\n",
       "      <td>15810549</td>\n",
       "      <td>131.000000</td>\n",
       "      <td>4</td>\n",
       "      <td>12059</td>\n",
       "      <td>555.0</td>\n",
       "      <td>150.0</td>\n",
       "      <td>4</td>\n",
       "      <td>226.0</td>\n",
       "      <td>...</td>\n",
       "      <td>26</td>\n",
       "      <td>2018-05-31 23:49:09</td>\n",
       "      <td>5</td>\n",
       "      <td>3</td>\n",
       "      <td>23</td>\n",
       "      <td>31</td>\n",
       "      <td>0</td>\n",
       "      <td>0</td>\n",
       "      <td>6</td>\n",
       "      <td>6</td>\n",
       "    </tr>\n",
       "    <tr>\n",
       "      <th>590512</th>\n",
       "      <td>3577512</td>\n",
       "      <td>0</td>\n",
       "      <td>15810563</td>\n",
       "      <td>764.000000</td>\n",
       "      <td>4</td>\n",
       "      <td>16873</td>\n",
       "      <td>343.0</td>\n",
       "      <td>150.0</td>\n",
       "      <td>4</td>\n",
       "      <td>226.0</td>\n",
       "      <td>...</td>\n",
       "      <td>26</td>\n",
       "      <td>2018-05-31 23:49:23</td>\n",
       "      <td>5</td>\n",
       "      <td>3</td>\n",
       "      <td>23</td>\n",
       "      <td>31</td>\n",
       "      <td>5</td>\n",
       "      <td>0</td>\n",
       "      <td>6</td>\n",
       "      <td>6</td>\n",
       "    </tr>\n",
       "    <tr>\n",
       "      <th>590513</th>\n",
       "      <td>3577513</td>\n",
       "      <td>0</td>\n",
       "      <td>15810575</td>\n",
       "      <td>107.937500</td>\n",
       "      <td>4</td>\n",
       "      <td>2198</td>\n",
       "      <td>555.0</td>\n",
       "      <td>150.0</td>\n",
       "      <td>4</td>\n",
       "      <td>166.0</td>\n",
       "      <td>...</td>\n",
       "      <td>26</td>\n",
       "      <td>2018-05-31 23:49:35</td>\n",
       "      <td>5</td>\n",
       "      <td>3</td>\n",
       "      <td>23</td>\n",
       "      <td>31</td>\n",
       "      <td>9</td>\n",
       "      <td>0</td>\n",
       "      <td>6</td>\n",
       "      <td>6</td>\n",
       "    </tr>\n",
       "    <tr>\n",
       "      <th>590514</th>\n",
       "      <td>3577514</td>\n",
       "      <td>0</td>\n",
       "      <td>15810578</td>\n",
       "      <td>160.000000</td>\n",
       "      <td>4</td>\n",
       "      <td>2487</td>\n",
       "      <td>555.0</td>\n",
       "      <td>150.0</td>\n",
       "      <td>4</td>\n",
       "      <td>226.0</td>\n",
       "      <td>...</td>\n",
       "      <td>26</td>\n",
       "      <td>2018-05-31 23:49:38</td>\n",
       "      <td>5</td>\n",
       "      <td>3</td>\n",
       "      <td>23</td>\n",
       "      <td>31</td>\n",
       "      <td>7</td>\n",
       "      <td>8</td>\n",
       "      <td>6</td>\n",
       "      <td>6</td>\n",
       "    </tr>\n",
       "    <tr>\n",
       "      <th>590515</th>\n",
       "      <td>3577515</td>\n",
       "      <td>0</td>\n",
       "      <td>15810589</td>\n",
       "      <td>108.500000</td>\n",
       "      <td>4</td>\n",
       "      <td>4219</td>\n",
       "      <td>321.0</td>\n",
       "      <td>150.0</td>\n",
       "      <td>4</td>\n",
       "      <td>226.0</td>\n",
       "      <td>...</td>\n",
       "      <td>26</td>\n",
       "      <td>2018-05-31 23:49:49</td>\n",
       "      <td>5</td>\n",
       "      <td>3</td>\n",
       "      <td>23</td>\n",
       "      <td>31</td>\n",
       "      <td>9</td>\n",
       "      <td>0</td>\n",
       "      <td>6</td>\n",
       "      <td>6</td>\n",
       "    </tr>\n",
       "    <tr>\n",
       "      <th>590516</th>\n",
       "      <td>3577516</td>\n",
       "      <td>0</td>\n",
       "      <td>15810592</td>\n",
       "      <td>761.000000</td>\n",
       "      <td>4</td>\n",
       "      <td>17188</td>\n",
       "      <td>321.0</td>\n",
       "      <td>150.0</td>\n",
       "      <td>4</td>\n",
       "      <td>226.0</td>\n",
       "      <td>...</td>\n",
       "      <td>26</td>\n",
       "      <td>2018-05-31 23:49:52</td>\n",
       "      <td>5</td>\n",
       "      <td>3</td>\n",
       "      <td>23</td>\n",
       "      <td>31</td>\n",
       "      <td>4</td>\n",
       "      <td>0</td>\n",
       "      <td>6</td>\n",
       "      <td>6</td>\n",
       "    </tr>\n",
       "    <tr>\n",
       "      <th>590517</th>\n",
       "      <td>3577517</td>\n",
       "      <td>0</td>\n",
       "      <td>15810626</td>\n",
       "      <td>764.000000</td>\n",
       "      <td>4</td>\n",
       "      <td>16873</td>\n",
       "      <td>343.0</td>\n",
       "      <td>150.0</td>\n",
       "      <td>4</td>\n",
       "      <td>226.0</td>\n",
       "      <td>...</td>\n",
       "      <td>26</td>\n",
       "      <td>2018-05-31 23:50:26</td>\n",
       "      <td>5</td>\n",
       "      <td>3</td>\n",
       "      <td>23</td>\n",
       "      <td>31</td>\n",
       "      <td>5</td>\n",
       "      <td>0</td>\n",
       "      <td>6</td>\n",
       "      <td>6</td>\n",
       "    </tr>\n",
       "    <tr>\n",
       "      <th>590518</th>\n",
       "      <td>3577518</td>\n",
       "      <td>0</td>\n",
       "      <td>15810760</td>\n",
       "      <td>49.000000</td>\n",
       "      <td>4</td>\n",
       "      <td>11204</td>\n",
       "      <td>298.0</td>\n",
       "      <td>150.0</td>\n",
       "      <td>4</td>\n",
       "      <td>226.0</td>\n",
       "      <td>...</td>\n",
       "      <td>26</td>\n",
       "      <td>2018-05-31 23:52:40</td>\n",
       "      <td>5</td>\n",
       "      <td>3</td>\n",
       "      <td>23</td>\n",
       "      <td>31</td>\n",
       "      <td>4</td>\n",
       "      <td>0</td>\n",
       "      <td>6</td>\n",
       "      <td>6</td>\n",
       "    </tr>\n",
       "    <tr>\n",
       "      <th>590519</th>\n",
       "      <td>3577519</td>\n",
       "      <td>0</td>\n",
       "      <td>15810774</td>\n",
       "      <td>1660.000000</td>\n",
       "      <td>4</td>\n",
       "      <td>18018</td>\n",
       "      <td>452.0</td>\n",
       "      <td>150.0</td>\n",
       "      <td>2</td>\n",
       "      <td>117.0</td>\n",
       "      <td>...</td>\n",
       "      <td>26</td>\n",
       "      <td>2018-05-31 23:52:54</td>\n",
       "      <td>5</td>\n",
       "      <td>3</td>\n",
       "      <td>23</td>\n",
       "      <td>31</td>\n",
       "      <td>0</td>\n",
       "      <td>0</td>\n",
       "      <td>6</td>\n",
       "      <td>6</td>\n",
       "    </tr>\n",
       "    <tr>\n",
       "      <th>590520</th>\n",
       "      <td>3577520</td>\n",
       "      <td>0</td>\n",
       "      <td>15810785</td>\n",
       "      <td>93.000000</td>\n",
       "      <td>4</td>\n",
       "      <td>17150</td>\n",
       "      <td>292.0</td>\n",
       "      <td>150.0</td>\n",
       "      <td>4</td>\n",
       "      <td>226.0</td>\n",
       "      <td>...</td>\n",
       "      <td>26</td>\n",
       "      <td>2018-05-31 23:53:05</td>\n",
       "      <td>5</td>\n",
       "      <td>3</td>\n",
       "      <td>23</td>\n",
       "      <td>31</td>\n",
       "      <td>9</td>\n",
       "      <td>0</td>\n",
       "      <td>6</td>\n",
       "      <td>6</td>\n",
       "    </tr>\n",
       "    <tr>\n",
       "      <th>590521</th>\n",
       "      <td>3577521</td>\n",
       "      <td>0</td>\n",
       "      <td>15810802</td>\n",
       "      <td>48.875000</td>\n",
       "      <td>0</td>\n",
       "      <td>12019</td>\n",
       "      <td>305.0</td>\n",
       "      <td>106.0</td>\n",
       "      <td>2</td>\n",
       "      <td>224.0</td>\n",
       "      <td>...</td>\n",
       "      <td>26</td>\n",
       "      <td>2018-05-31 23:53:22</td>\n",
       "      <td>5</td>\n",
       "      <td>3</td>\n",
       "      <td>23</td>\n",
       "      <td>31</td>\n",
       "      <td>9</td>\n",
       "      <td>3</td>\n",
       "      <td>9</td>\n",
       "      <td>3</td>\n",
       "    </tr>\n",
       "    <tr>\n",
       "      <th>590522</th>\n",
       "      <td>3577522</td>\n",
       "      <td>0</td>\n",
       "      <td>15810823</td>\n",
       "      <td>54.500000</td>\n",
       "      <td>4</td>\n",
       "      <td>3166</td>\n",
       "      <td>559.0</td>\n",
       "      <td>150.0</td>\n",
       "      <td>4</td>\n",
       "      <td>166.0</td>\n",
       "      <td>...</td>\n",
       "      <td>26</td>\n",
       "      <td>2018-05-31 23:53:43</td>\n",
       "      <td>5</td>\n",
       "      <td>3</td>\n",
       "      <td>23</td>\n",
       "      <td>31</td>\n",
       "      <td>4</td>\n",
       "      <td>0</td>\n",
       "      <td>6</td>\n",
       "      <td>6</td>\n",
       "    </tr>\n",
       "    <tr>\n",
       "      <th>590523</th>\n",
       "      <td>3577523</td>\n",
       "      <td>0</td>\n",
       "      <td>15810833</td>\n",
       "      <td>58.937500</td>\n",
       "      <td>4</td>\n",
       "      <td>13076</td>\n",
       "      <td>456.0</td>\n",
       "      <td>150.0</td>\n",
       "      <td>2</td>\n",
       "      <td>117.0</td>\n",
       "      <td>...</td>\n",
       "      <td>26</td>\n",
       "      <td>2018-05-31 23:53:53</td>\n",
       "      <td>5</td>\n",
       "      <td>3</td>\n",
       "      <td>23</td>\n",
       "      <td>31</td>\n",
       "      <td>4</td>\n",
       "      <td>0</td>\n",
       "      <td>6</td>\n",
       "      <td>6</td>\n",
       "    </tr>\n",
       "    <tr>\n",
       "      <th>590524</th>\n",
       "      <td>3577524</td>\n",
       "      <td>0</td>\n",
       "      <td>15810836</td>\n",
       "      <td>75.000000</td>\n",
       "      <td>4</td>\n",
       "      <td>7826</td>\n",
       "      <td>481.0</td>\n",
       "      <td>150.0</td>\n",
       "      <td>2</td>\n",
       "      <td>224.0</td>\n",
       "      <td>...</td>\n",
       "      <td>26</td>\n",
       "      <td>2018-05-31 23:53:56</td>\n",
       "      <td>5</td>\n",
       "      <td>3</td>\n",
       "      <td>23</td>\n",
       "      <td>31</td>\n",
       "      <td>4</td>\n",
       "      <td>0</td>\n",
       "      <td>6</td>\n",
       "      <td>6</td>\n",
       "    </tr>\n",
       "    <tr>\n",
       "      <th>590525</th>\n",
       "      <td>3577525</td>\n",
       "      <td>0</td>\n",
       "      <td>15810866</td>\n",
       "      <td>57.937500</td>\n",
       "      <td>4</td>\n",
       "      <td>11942</td>\n",
       "      <td>570.0</td>\n",
       "      <td>150.0</td>\n",
       "      <td>4</td>\n",
       "      <td>226.0</td>\n",
       "      <td>...</td>\n",
       "      <td>26</td>\n",
       "      <td>2018-05-31 23:54:26</td>\n",
       "      <td>5</td>\n",
       "      <td>3</td>\n",
       "      <td>23</td>\n",
       "      <td>31</td>\n",
       "      <td>4</td>\n",
       "      <td>0</td>\n",
       "      <td>6</td>\n",
       "      <td>6</td>\n",
       "    </tr>\n",
       "    <tr>\n",
       "      <th>590526</th>\n",
       "      <td>3577526</td>\n",
       "      <td>1</td>\n",
       "      <td>15810876</td>\n",
       "      <td>250.000000</td>\n",
       "      <td>2</td>\n",
       "      <td>1214</td>\n",
       "      <td>174.0</td>\n",
       "      <td>150.0</td>\n",
       "      <td>4</td>\n",
       "      <td>226.0</td>\n",
       "      <td>...</td>\n",
       "      <td>26</td>\n",
       "      <td>2018-05-31 23:54:36</td>\n",
       "      <td>5</td>\n",
       "      <td>3</td>\n",
       "      <td>23</td>\n",
       "      <td>31</td>\n",
       "      <td>4</td>\n",
       "      <td>0</td>\n",
       "      <td>4</td>\n",
       "      <td>0</td>\n",
       "    </tr>\n",
       "    <tr>\n",
       "      <th>590527</th>\n",
       "      <td>3577527</td>\n",
       "      <td>0</td>\n",
       "      <td>15810883</td>\n",
       "      <td>190.000000</td>\n",
       "      <td>4</td>\n",
       "      <td>6453</td>\n",
       "      <td>555.0</td>\n",
       "      <td>150.0</td>\n",
       "      <td>4</td>\n",
       "      <td>226.0</td>\n",
       "      <td>...</td>\n",
       "      <td>26</td>\n",
       "      <td>2018-05-31 23:54:43</td>\n",
       "      <td>5</td>\n",
       "      <td>3</td>\n",
       "      <td>23</td>\n",
       "      <td>31</td>\n",
       "      <td>0</td>\n",
       "      <td>0</td>\n",
       "      <td>6</td>\n",
       "      <td>6</td>\n",
       "    </tr>\n",
       "    <tr>\n",
       "      <th>590528</th>\n",
       "      <td>3577528</td>\n",
       "      <td>0</td>\n",
       "      <td>15810907</td>\n",
       "      <td>280.000000</td>\n",
       "      <td>4</td>\n",
       "      <td>15066</td>\n",
       "      <td>170.0</td>\n",
       "      <td>150.0</td>\n",
       "      <td>2</td>\n",
       "      <td>102.0</td>\n",
       "      <td>...</td>\n",
       "      <td>26</td>\n",
       "      <td>2018-05-31 23:55:07</td>\n",
       "      <td>5</td>\n",
       "      <td>3</td>\n",
       "      <td>23</td>\n",
       "      <td>31</td>\n",
       "      <td>4</td>\n",
       "      <td>0</td>\n",
       "      <td>6</td>\n",
       "      <td>6</td>\n",
       "    </tr>\n",
       "    <tr>\n",
       "      <th>590529</th>\n",
       "      <td>3577529</td>\n",
       "      <td>0</td>\n",
       "      <td>15810912</td>\n",
       "      <td>73.812500</td>\n",
       "      <td>0</td>\n",
       "      <td>5096</td>\n",
       "      <td>555.0</td>\n",
       "      <td>185.0</td>\n",
       "      <td>2</td>\n",
       "      <td>137.0</td>\n",
       "      <td>...</td>\n",
       "      <td>26</td>\n",
       "      <td>2018-05-31 23:55:12</td>\n",
       "      <td>5</td>\n",
       "      <td>3</td>\n",
       "      <td>23</td>\n",
       "      <td>31</td>\n",
       "      <td>4</td>\n",
       "      <td>0</td>\n",
       "      <td>4</td>\n",
       "      <td>0</td>\n",
       "    </tr>\n",
       "    <tr>\n",
       "      <th>590530</th>\n",
       "      <td>3577530</td>\n",
       "      <td>0</td>\n",
       "      <td>15810926</td>\n",
       "      <td>400.750000</td>\n",
       "      <td>4</td>\n",
       "      <td>15066</td>\n",
       "      <td>170.0</td>\n",
       "      <td>150.0</td>\n",
       "      <td>2</td>\n",
       "      <td>102.0</td>\n",
       "      <td>...</td>\n",
       "      <td>26</td>\n",
       "      <td>2018-05-31 23:55:26</td>\n",
       "      <td>5</td>\n",
       "      <td>3</td>\n",
       "      <td>23</td>\n",
       "      <td>31</td>\n",
       "      <td>9</td>\n",
       "      <td>0</td>\n",
       "      <td>6</td>\n",
       "      <td>6</td>\n",
       "    </tr>\n",
       "    <tr>\n",
       "      <th>590531</th>\n",
       "      <td>3577531</td>\n",
       "      <td>0</td>\n",
       "      <td>15810935</td>\n",
       "      <td>400.000000</td>\n",
       "      <td>2</td>\n",
       "      <td>6019</td>\n",
       "      <td>583.0</td>\n",
       "      <td>150.0</td>\n",
       "      <td>4</td>\n",
       "      <td>226.0</td>\n",
       "      <td>...</td>\n",
       "      <td>26</td>\n",
       "      <td>2018-05-31 23:55:35</td>\n",
       "      <td>5</td>\n",
       "      <td>3</td>\n",
       "      <td>23</td>\n",
       "      <td>31</td>\n",
       "      <td>4</td>\n",
       "      <td>0</td>\n",
       "      <td>7</td>\n",
       "      <td>0</td>\n",
       "    </tr>\n",
       "    <tr>\n",
       "      <th>590532</th>\n",
       "      <td>3577532</td>\n",
       "      <td>0</td>\n",
       "      <td>15811007</td>\n",
       "      <td>205.000000</td>\n",
       "      <td>4</td>\n",
       "      <td>12037</td>\n",
       "      <td>595.0</td>\n",
       "      <td>150.0</td>\n",
       "      <td>2</td>\n",
       "      <td>224.0</td>\n",
       "      <td>...</td>\n",
       "      <td>26</td>\n",
       "      <td>2018-05-31 23:56:47</td>\n",
       "      <td>5</td>\n",
       "      <td>3</td>\n",
       "      <td>23</td>\n",
       "      <td>31</td>\n",
       "      <td>7</td>\n",
       "      <td>8</td>\n",
       "      <td>6</td>\n",
       "      <td>6</td>\n",
       "    </tr>\n",
       "    <tr>\n",
       "      <th>590533</th>\n",
       "      <td>3577533</td>\n",
       "      <td>0</td>\n",
       "      <td>15811029</td>\n",
       "      <td>107.937500</td>\n",
       "      <td>4</td>\n",
       "      <td>13071</td>\n",
       "      <td>321.0</td>\n",
       "      <td>150.0</td>\n",
       "      <td>4</td>\n",
       "      <td>226.0</td>\n",
       "      <td>...</td>\n",
       "      <td>26</td>\n",
       "      <td>2018-05-31 23:57:09</td>\n",
       "      <td>5</td>\n",
       "      <td>3</td>\n",
       "      <td>23</td>\n",
       "      <td>31</td>\n",
       "      <td>4</td>\n",
       "      <td>0</td>\n",
       "      <td>6</td>\n",
       "      <td>6</td>\n",
       "    </tr>\n",
       "    <tr>\n",
       "      <th>590534</th>\n",
       "      <td>3577534</td>\n",
       "      <td>0</td>\n",
       "      <td>15811030</td>\n",
       "      <td>67.500000</td>\n",
       "      <td>0</td>\n",
       "      <td>5812</td>\n",
       "      <td>408.0</td>\n",
       "      <td>185.0</td>\n",
       "      <td>2</td>\n",
       "      <td>224.0</td>\n",
       "      <td>...</td>\n",
       "      <td>26</td>\n",
       "      <td>2018-05-31 23:57:10</td>\n",
       "      <td>5</td>\n",
       "      <td>3</td>\n",
       "      <td>23</td>\n",
       "      <td>31</td>\n",
       "      <td>4</td>\n",
       "      <td>0</td>\n",
       "      <td>4</td>\n",
       "      <td>0</td>\n",
       "    </tr>\n",
       "    <tr>\n",
       "      <th>590535</th>\n",
       "      <td>3577535</td>\n",
       "      <td>0</td>\n",
       "      <td>15811047</td>\n",
       "      <td>49.000000</td>\n",
       "      <td>4</td>\n",
       "      <td>6550</td>\n",
       "      <td>NaN</td>\n",
       "      <td>150.0</td>\n",
       "      <td>4</td>\n",
       "      <td>226.0</td>\n",
       "      <td>...</td>\n",
       "      <td>26</td>\n",
       "      <td>2018-05-31 23:57:27</td>\n",
       "      <td>5</td>\n",
       "      <td>3</td>\n",
       "      <td>23</td>\n",
       "      <td>31</td>\n",
       "      <td>6</td>\n",
       "      <td>6</td>\n",
       "      <td>6</td>\n",
       "      <td>6</td>\n",
       "    </tr>\n",
       "    <tr>\n",
       "      <th>590536</th>\n",
       "      <td>3577536</td>\n",
       "      <td>0</td>\n",
       "      <td>15811049</td>\n",
       "      <td>39.500000</td>\n",
       "      <td>4</td>\n",
       "      <td>10444</td>\n",
       "      <td>225.0</td>\n",
       "      <td>150.0</td>\n",
       "      <td>2</td>\n",
       "      <td>224.0</td>\n",
       "      <td>...</td>\n",
       "      <td>26</td>\n",
       "      <td>2018-05-31 23:57:29</td>\n",
       "      <td>5</td>\n",
       "      <td>3</td>\n",
       "      <td>23</td>\n",
       "      <td>31</td>\n",
       "      <td>4</td>\n",
       "      <td>0</td>\n",
       "      <td>6</td>\n",
       "      <td>6</td>\n",
       "    </tr>\n",
       "    <tr>\n",
       "      <th>590537</th>\n",
       "      <td>3577537</td>\n",
       "      <td>0</td>\n",
       "      <td>15811079</td>\n",
       "      <td>30.953125</td>\n",
       "      <td>4</td>\n",
       "      <td>12037</td>\n",
       "      <td>595.0</td>\n",
       "      <td>150.0</td>\n",
       "      <td>2</td>\n",
       "      <td>224.0</td>\n",
       "      <td>...</td>\n",
       "      <td>26</td>\n",
       "      <td>2018-05-31 23:57:59</td>\n",
       "      <td>5</td>\n",
       "      <td>3</td>\n",
       "      <td>23</td>\n",
       "      <td>31</td>\n",
       "      <td>4</td>\n",
       "      <td>0</td>\n",
       "      <td>6</td>\n",
       "      <td>6</td>\n",
       "    </tr>\n",
       "    <tr>\n",
       "      <th>590538</th>\n",
       "      <td>3577538</td>\n",
       "      <td>0</td>\n",
       "      <td>15811088</td>\n",
       "      <td>117.000000</td>\n",
       "      <td>4</td>\n",
       "      <td>7826</td>\n",
       "      <td>481.0</td>\n",
       "      <td>150.0</td>\n",
       "      <td>2</td>\n",
       "      <td>224.0</td>\n",
       "      <td>...</td>\n",
       "      <td>26</td>\n",
       "      <td>2018-05-31 23:58:08</td>\n",
       "      <td>5</td>\n",
       "      <td>3</td>\n",
       "      <td>23</td>\n",
       "      <td>31</td>\n",
       "      <td>0</td>\n",
       "      <td>0</td>\n",
       "      <td>6</td>\n",
       "      <td>6</td>\n",
       "    </tr>\n",
       "    <tr>\n",
       "      <th>590539</th>\n",
       "      <td>3577539</td>\n",
       "      <td>0</td>\n",
       "      <td>15811131</td>\n",
       "      <td>280.000000</td>\n",
       "      <td>4</td>\n",
       "      <td>15066</td>\n",
       "      <td>170.0</td>\n",
       "      <td>150.0</td>\n",
       "      <td>2</td>\n",
       "      <td>102.0</td>\n",
       "      <td>...</td>\n",
       "      <td>26</td>\n",
       "      <td>2018-05-31 23:58:51</td>\n",
       "      <td>5</td>\n",
       "      <td>3</td>\n",
       "      <td>23</td>\n",
       "      <td>31</td>\n",
       "      <td>4</td>\n",
       "      <td>0</td>\n",
       "      <td>6</td>\n",
       "      <td>6</td>\n",
       "    </tr>\n",
       "  </tbody>\n",
       "</table>\n",
       "<p>590540 rows × 445 columns</p>\n",
       "</div>"
      ],
      "text/plain": [
       "        TransactionID  isFraud  TransactionDT  TransactionAmt  ProductCD  \\\n",
       "0             2987000        0          86400       68.500000          4   \n",
       "1             2987001        0          86401       29.000000          4   \n",
       "2             2987002        0          86469       59.000000          4   \n",
       "3             2987003        0          86499       50.000000          4   \n",
       "4             2987004        0          86506       50.000000          1   \n",
       "5             2987005        0          86510       49.000000          4   \n",
       "6             2987006        0          86522      159.000000          4   \n",
       "7             2987007        0          86529      422.500000          4   \n",
       "8             2987008        0          86535       15.000000          1   \n",
       "9             2987009        0          86536      117.000000          4   \n",
       "10            2987010        0          86549       75.875000          0   \n",
       "11            2987011        0          86555       16.500000          0   \n",
       "12            2987012        0          86564       50.000000          4   \n",
       "13            2987013        0          86585       40.000000          4   \n",
       "14            2987014        0          86596       10.500000          4   \n",
       "15            2987015        0          86618       57.937500          4   \n",
       "16            2987016        0          86620       30.000000          1   \n",
       "17            2987017        0          86668      100.000000          1   \n",
       "18            2987018        0          86725       47.937500          4   \n",
       "19            2987019        0          86730      186.000000          4   \n",
       "20            2987020        0          86761       39.000000          4   \n",
       "21            2987021        0          86769      160.000000          4   \n",
       "22            2987022        0          86786       50.000000          1   \n",
       "23            2987023        0          86808      107.937500          4   \n",
       "24            2987024        0          86821       73.937500          4   \n",
       "25            2987025        0          86944      107.937500          4   \n",
       "26            2987026        0          86945      184.000000          4   \n",
       "27            2987027        0          86972       47.937500          4   \n",
       "28            2987028        0          86973       20.000000          4   \n",
       "29            2987029        0          86979       37.000000          4   \n",
       "...               ...      ...            ...             ...        ...   \n",
       "590510        3577510        0       15810518       24.500000          4   \n",
       "590511        3577511        0       15810549      131.000000          4   \n",
       "590512        3577512        0       15810563      764.000000          4   \n",
       "590513        3577513        0       15810575      107.937500          4   \n",
       "590514        3577514        0       15810578      160.000000          4   \n",
       "590515        3577515        0       15810589      108.500000          4   \n",
       "590516        3577516        0       15810592      761.000000          4   \n",
       "590517        3577517        0       15810626      764.000000          4   \n",
       "590518        3577518        0       15810760       49.000000          4   \n",
       "590519        3577519        0       15810774     1660.000000          4   \n",
       "590520        3577520        0       15810785       93.000000          4   \n",
       "590521        3577521        0       15810802       48.875000          0   \n",
       "590522        3577522        0       15810823       54.500000          4   \n",
       "590523        3577523        0       15810833       58.937500          4   \n",
       "590524        3577524        0       15810836       75.000000          4   \n",
       "590525        3577525        0       15810866       57.937500          4   \n",
       "590526        3577526        1       15810876      250.000000          2   \n",
       "590527        3577527        0       15810883      190.000000          4   \n",
       "590528        3577528        0       15810907      280.000000          4   \n",
       "590529        3577529        0       15810912       73.812500          0   \n",
       "590530        3577530        0       15810926      400.750000          4   \n",
       "590531        3577531        0       15810935      400.000000          2   \n",
       "590532        3577532        0       15811007      205.000000          4   \n",
       "590533        3577533        0       15811029      107.937500          4   \n",
       "590534        3577534        0       15811030       67.500000          0   \n",
       "590535        3577535        0       15811047       49.000000          4   \n",
       "590536        3577536        0       15811049       39.500000          4   \n",
       "590537        3577537        0       15811079       30.953125          4   \n",
       "590538        3577538        0       15811088      117.000000          4   \n",
       "590539        3577539        0       15811131      280.000000          4   \n",
       "\n",
       "        card1  card2  card3  card4  card5  ...  _seq_week                Date  \\\n",
       "0       13926    NaN  150.0      1  142.0  ...          0 2017-12-01 00:00:00   \n",
       "1        2755  404.0  150.0      2  102.0  ...          0 2017-12-01 00:00:01   \n",
       "2        4663  490.0  150.0      4  166.0  ...          0 2017-12-01 00:01:09   \n",
       "3       18132  567.0  150.0      2  117.0  ...          0 2017-12-01 00:01:39   \n",
       "4        4497  514.0  150.0      2  102.0  ...          0 2017-12-01 00:01:46   \n",
       "5        5937  555.0  150.0      4  226.0  ...          0 2017-12-01 00:01:50   \n",
       "6       12308  360.0  150.0      4  166.0  ...          0 2017-12-01 00:02:02   \n",
       "7       12695  490.0  150.0      4  226.0  ...          0 2017-12-01 00:02:09   \n",
       "8        2803  100.0  150.0      4  226.0  ...          0 2017-12-01 00:02:15   \n",
       "9       17399  111.0  150.0      2  224.0  ...          0 2017-12-01 00:02:16   \n",
       "10      16496  352.0  117.0      2  134.0  ...          0 2017-12-01 00:02:29   \n",
       "11       4461  375.0  185.0      2  224.0  ...          0 2017-12-01 00:02:35   \n",
       "12       3786  418.0  150.0      4  226.0  ...          0 2017-12-01 00:02:44   \n",
       "13      12866  303.0  150.0      4  226.0  ...          0 2017-12-01 00:03:05   \n",
       "14      11839  490.0  150.0      4  226.0  ...          0 2017-12-01 00:03:16   \n",
       "15       7055  555.0  150.0      4  226.0  ...          0 2017-12-01 00:03:38   \n",
       "16       1790  555.0  150.0      4  226.0  ...          0 2017-12-01 00:03:40   \n",
       "17      11492  111.0  150.0      2  219.0  ...          0 2017-12-01 00:04:28   \n",
       "18       4663  490.0  150.0      4  166.0  ...          0 2017-12-01 00:05:25   \n",
       "19       7005  111.0  150.0      4  226.0  ...          0 2017-12-01 00:05:30   \n",
       "20       7875  314.0  150.0      2  224.0  ...          0 2017-12-01 00:06:01   \n",
       "21      11401  543.0  150.0      2  117.0  ...          0 2017-12-01 00:06:09   \n",
       "22       1724  583.0  150.0      4  226.0  ...          0 2017-12-01 00:06:26   \n",
       "23       2392  360.0  150.0      2  166.0  ...          0 2017-12-01 00:06:48   \n",
       "24      10112  360.0  150.0      4  166.0  ...          0 2017-12-01 00:07:01   \n",
       "25      15385  111.0  150.0      2  224.0  ...          0 2017-12-01 00:09:04   \n",
       "26      17868  148.0  150.0      4  226.0  ...          0 2017-12-01 00:09:05   \n",
       "27      11307  321.0  150.0      4  226.0  ...          0 2017-12-01 00:09:32   \n",
       "28       8431  269.0  150.0      2  224.0  ...          0 2017-12-01 00:09:33   \n",
       "29      12932  361.0  150.0      4  226.0  ...          0 2017-12-01 00:09:39   \n",
       "...       ...    ...    ...    ...    ...  ...        ...                 ...   \n",
       "590510   9500  321.0  150.0      4  226.0  ...         26 2018-05-31 23:48:38   \n",
       "590511  12059  555.0  150.0      4  226.0  ...         26 2018-05-31 23:49:09   \n",
       "590512  16873  343.0  150.0      4  226.0  ...         26 2018-05-31 23:49:23   \n",
       "590513   2198  555.0  150.0      4  166.0  ...         26 2018-05-31 23:49:35   \n",
       "590514   2487  555.0  150.0      4  226.0  ...         26 2018-05-31 23:49:38   \n",
       "590515   4219  321.0  150.0      4  226.0  ...         26 2018-05-31 23:49:49   \n",
       "590516  17188  321.0  150.0      4  226.0  ...         26 2018-05-31 23:49:52   \n",
       "590517  16873  343.0  150.0      4  226.0  ...         26 2018-05-31 23:50:26   \n",
       "590518  11204  298.0  150.0      4  226.0  ...         26 2018-05-31 23:52:40   \n",
       "590519  18018  452.0  150.0      2  117.0  ...         26 2018-05-31 23:52:54   \n",
       "590520  17150  292.0  150.0      4  226.0  ...         26 2018-05-31 23:53:05   \n",
       "590521  12019  305.0  106.0      2  224.0  ...         26 2018-05-31 23:53:22   \n",
       "590522   3166  559.0  150.0      4  166.0  ...         26 2018-05-31 23:53:43   \n",
       "590523  13076  456.0  150.0      2  117.0  ...         26 2018-05-31 23:53:53   \n",
       "590524   7826  481.0  150.0      2  224.0  ...         26 2018-05-31 23:53:56   \n",
       "590525  11942  570.0  150.0      4  226.0  ...         26 2018-05-31 23:54:26   \n",
       "590526   1214  174.0  150.0      4  226.0  ...         26 2018-05-31 23:54:36   \n",
       "590527   6453  555.0  150.0      4  226.0  ...         26 2018-05-31 23:54:43   \n",
       "590528  15066  170.0  150.0      2  102.0  ...         26 2018-05-31 23:55:07   \n",
       "590529   5096  555.0  185.0      2  137.0  ...         26 2018-05-31 23:55:12   \n",
       "590530  15066  170.0  150.0      2  102.0  ...         26 2018-05-31 23:55:26   \n",
       "590531   6019  583.0  150.0      4  226.0  ...         26 2018-05-31 23:55:35   \n",
       "590532  12037  595.0  150.0      2  224.0  ...         26 2018-05-31 23:56:47   \n",
       "590533  13071  321.0  150.0      4  226.0  ...         26 2018-05-31 23:57:09   \n",
       "590534   5812  408.0  185.0      2  224.0  ...         26 2018-05-31 23:57:10   \n",
       "590535   6550    NaN  150.0      4  226.0  ...         26 2018-05-31 23:57:27   \n",
       "590536  10444  225.0  150.0      2  224.0  ...         26 2018-05-31 23:57:29   \n",
       "590537  12037  595.0  150.0      2  224.0  ...         26 2018-05-31 23:57:59   \n",
       "590538   7826  481.0  150.0      2  224.0  ...         26 2018-05-31 23:58:08   \n",
       "590539  15066  170.0  150.0      2  102.0  ...         26 2018-05-31 23:58:51   \n",
       "\n",
       "        _year_month  _weekday  _hour  _day  P_emaildomain_bin  \\\n",
       "0                 0         4      0     1                  6   \n",
       "1                 0         4      0     1                  4   \n",
       "2                 0         4      0     1                  5   \n",
       "3                 0         4      0     1                  9   \n",
       "4                 0         4      0     1                  4   \n",
       "5                 0         4      0     1                  4   \n",
       "6                 0         4      0     1                  9   \n",
       "7                 0         4      0     1                  7   \n",
       "8                 0         4      0     1                  7   \n",
       "9                 0         4      0     1                  9   \n",
       "10                0         4      0     1                  4   \n",
       "11                0         4      0     1                  5   \n",
       "12                0         4      0     1                  9   \n",
       "13                0         4      0     1                  0   \n",
       "14                0         4      0     1                  9   \n",
       "15                0         4      0     1                  6   \n",
       "16                0         4      0     1                  0   \n",
       "17                0         4      0     1                  9   \n",
       "18                0         4      0     1                  4   \n",
       "19                0         4      0     1                  4   \n",
       "20                0         4      0     1                  4   \n",
       "21                0         4      0     1                  4   \n",
       "22                0         4      0     1                  4   \n",
       "23                0         4      0     1                  4   \n",
       "24                0         4      0     1                  4   \n",
       "25                0         4      0     1                  4   \n",
       "26                0         4      0     1                  1   \n",
       "27                0         4      0     1                  9   \n",
       "28                0         4      0     1                  6   \n",
       "29                0         4      0     1                  4   \n",
       "...             ...       ...    ...   ...                ...   \n",
       "590510            5         3     23    31                  4   \n",
       "590511            5         3     23    31                  0   \n",
       "590512            5         3     23    31                  5   \n",
       "590513            5         3     23    31                  9   \n",
       "590514            5         3     23    31                  7   \n",
       "590515            5         3     23    31                  9   \n",
       "590516            5         3     23    31                  4   \n",
       "590517            5         3     23    31                  5   \n",
       "590518            5         3     23    31                  4   \n",
       "590519            5         3     23    31                  0   \n",
       "590520            5         3     23    31                  9   \n",
       "590521            5         3     23    31                  9   \n",
       "590522            5         3     23    31                  4   \n",
       "590523            5         3     23    31                  4   \n",
       "590524            5         3     23    31                  4   \n",
       "590525            5         3     23    31                  4   \n",
       "590526            5         3     23    31                  4   \n",
       "590527            5         3     23    31                  0   \n",
       "590528            5         3     23    31                  4   \n",
       "590529            5         3     23    31                  4   \n",
       "590530            5         3     23    31                  9   \n",
       "590531            5         3     23    31                  4   \n",
       "590532            5         3     23    31                  7   \n",
       "590533            5         3     23    31                  4   \n",
       "590534            5         3     23    31                  4   \n",
       "590535            5         3     23    31                  6   \n",
       "590536            5         3     23    31                  4   \n",
       "590537            5         3     23    31                  4   \n",
       "590538            5         3     23    31                  0   \n",
       "590539            5         3     23    31                  4   \n",
       "\n",
       "        P_emaildomain_suffix  R_emaildomain_bin  R_emaildomain_suffix  \n",
       "0                          6                  6                     6  \n",
       "1                          0                  6                     6  \n",
       "2                          0                  6                     6  \n",
       "3                          0                  6                     6  \n",
       "4                          0                  6                     6  \n",
       "5                          0                  6                     6  \n",
       "6                          0                  6                     6  \n",
       "7                          0                  6                     6  \n",
       "8                          0                  6                     6  \n",
       "9                          0                  6                     6  \n",
       "10                         0                  4                     0  \n",
       "11                         0                  5                     0  \n",
       "12                         8                  6                     6  \n",
       "13                         0                  6                     6  \n",
       "14                         0                  6                     6  \n",
       "15                         6                  6                     6  \n",
       "16                         0                  6                     6  \n",
       "17                         0                  6                     6  \n",
       "18                         0                  6                     6  \n",
       "19                         0                  6                     6  \n",
       "20                         0                  6                     6  \n",
       "21                         0                  6                     6  \n",
       "22                         0                  6                     6  \n",
       "23                         0                  6                     6  \n",
       "24                         0                  6                     6  \n",
       "25                         0                  6                     6  \n",
       "26                         0                  6                     6  \n",
       "27                         0                  6                     6  \n",
       "28                         6                  6                     6  \n",
       "29                         0                  6                     6  \n",
       "...                      ...                ...                   ...  \n",
       "590510                     0                  6                     6  \n",
       "590511                     0                  6                     6  \n",
       "590512                     0                  6                     6  \n",
       "590513                     0                  6                     6  \n",
       "590514                     8                  6                     6  \n",
       "590515                     0                  6                     6  \n",
       "590516                     0                  6                     6  \n",
       "590517                     0                  6                     6  \n",
       "590518                     0                  6                     6  \n",
       "590519                     0                  6                     6  \n",
       "590520                     0                  6                     6  \n",
       "590521                     3                  9                     3  \n",
       "590522                     0                  6                     6  \n",
       "590523                     0                  6                     6  \n",
       "590524                     0                  6                     6  \n",
       "590525                     0                  6                     6  \n",
       "590526                     0                  4                     0  \n",
       "590527                     0                  6                     6  \n",
       "590528                     0                  6                     6  \n",
       "590529                     0                  4                     0  \n",
       "590530                     0                  6                     6  \n",
       "590531                     0                  7                     0  \n",
       "590532                     8                  6                     6  \n",
       "590533                     0                  6                     6  \n",
       "590534                     0                  4                     0  \n",
       "590535                     6                  6                     6  \n",
       "590536                     0                  6                     6  \n",
       "590537                     0                  6                     6  \n",
       "590538                     0                  6                     6  \n",
       "590539                     0                  6                     6  \n",
       "\n",
       "[590540 rows x 445 columns]"
      ]
     },
     "execution_count": 225,
     "metadata": {},
     "output_type": "execute_result"
    }
   ],
   "source": [
    "train.drop('TransactionDT', axis=1)\n",
    "train.drop('_ymd', axis=1)\n",
    "train.drop('_year_month', axis=1)\n"
   ]
  },
  {
   "cell_type": "code",
   "execution_count": 227,
   "metadata": {},
   "outputs": [],
   "source": [
    "cat_cols = ['id_12', 'id_13', 'id_14', 'id_15', 'id_16', 'id_17', 'id_18', 'id_19', 'id_20', 'id_21', 'id_22', 'id_23', 'id_24', 'id_25', 'id_26', 'id_27', 'id_28', 'id_29',\n",
    "            'id_30', 'id_31', 'id_32', 'id_33', 'id_34', 'id_35', 'id_36', 'id_37', 'id_38', 'DeviceType', 'DeviceInfo', 'ProductCD', 'card4', 'card6', 'M4','P_emaildomain',\n",
    "            'R_emaildomain', 'card1', 'card2', 'card3',  'card5', 'addr1', 'addr2', 'M1', 'M2', 'M3', 'M5', 'M6', 'M7', 'M8', 'M9',\n",
    "            'P_emaildomain_1', 'P_emaildomain_2', 'P_emaildomain_3', 'R_emaildomain_1', 'R_emaildomain_2', 'R_emaildomain_3']\n",
    "for col in cat_cols:\n",
    "    if col in train.columns:\n",
    "        le = LabelEncoder()\n",
    "        le.fit(list(train[col].astype(str).values))\n",
    "        train[col] = le.transform(list(train[col].astype(str).values))"
   ]
  },
  {
   "cell_type": "code",
   "execution_count": null,
   "metadata": {},
   "outputs": [],
   "source": [
    "X = train.sort_values('TransactionDT').drop(['isFraud', 'TransactionDT', 'TransactionID'], axis=1)\n",
    "y = train.sort_values('TransactionDT')['isFraud']\n",
    "#X_test = test.sort_values('TransactionDT').drop(['TransactionDT', 'TransactionID'], axis=1)\n",
    "X_test = test.drop(['TransactionDT', 'TransactionID'], axis=1)\n",
    "del train\n",
    "test = test[[\"TransactionDT\", 'TransactionID']]"
   ]
  },
  {
   "cell_type": "code",
   "execution_count": 216,
   "metadata": {},
   "outputs": [
    {
     "name": "stdout",
     "output_type": "stream",
     "text": [
      "TransactionID\n",
      "isFraud\n",
      "TransactionDT\n",
      "TransactionAmt\n",
      "ProductCD\n",
      "card1\n",
      "card2\n",
      "card3\n",
      "card4\n",
      "card5\n",
      "card6\n",
      "addr1\n",
      "addr2\n",
      "dist1\n",
      "dist2\n",
      "P_emaildomain\n",
      "R_emaildomain\n",
      "C1\n",
      "C2\n",
      "C3\n",
      "C4\n",
      "C5\n",
      "C6\n",
      "C7\n",
      "C8\n",
      "C9\n",
      "C10\n",
      "C11\n",
      "C12\n",
      "C13\n",
      "C14\n",
      "D1\n",
      "D2\n",
      "D3\n",
      "D4\n",
      "D5\n",
      "D6\n",
      "D7\n",
      "D8\n",
      "D9\n",
      "D10\n",
      "D11\n",
      "D12\n",
      "D13\n",
      "D14\n",
      "D15\n",
      "M1\n",
      "M2\n",
      "M3\n",
      "M4\n",
      "M5\n",
      "M6\n",
      "M7\n",
      "M8\n",
      "M9\n",
      "V1\n",
      "V2\n",
      "V3\n",
      "V4\n",
      "V5\n",
      "V6\n",
      "V7\n",
      "V8\n",
      "V9\n",
      "V10\n",
      "V11\n",
      "V12\n",
      "V13\n",
      "V14\n",
      "V15\n",
      "V16\n",
      "V17\n",
      "V18\n",
      "V19\n",
      "V20\n",
      "V21\n",
      "V22\n",
      "V23\n",
      "V24\n",
      "V25\n",
      "V26\n",
      "V27\n",
      "V28\n",
      "V29\n",
      "V30\n",
      "V31\n",
      "V32\n",
      "V33\n",
      "V34\n",
      "V35\n",
      "V36\n",
      "V37\n",
      "V38\n",
      "V39\n",
      "V40\n",
      "V41\n",
      "V42\n",
      "V43\n",
      "V44\n",
      "V45\n",
      "V46\n",
      "V47\n",
      "V48\n",
      "V49\n",
      "V50\n",
      "V51\n",
      "V52\n",
      "V53\n",
      "V54\n",
      "V55\n",
      "V56\n",
      "V57\n",
      "V58\n",
      "V59\n",
      "V60\n",
      "V61\n",
      "V62\n",
      "V63\n",
      "V64\n",
      "V65\n",
      "V66\n",
      "V67\n",
      "V68\n",
      "V69\n",
      "V70\n",
      "V71\n",
      "V72\n",
      "V73\n",
      "V74\n",
      "V75\n",
      "V76\n",
      "V77\n",
      "V78\n",
      "V79\n",
      "V80\n",
      "V81\n",
      "V82\n",
      "V83\n",
      "V84\n",
      "V85\n",
      "V86\n",
      "V87\n",
      "V88\n",
      "V89\n",
      "V90\n",
      "V91\n",
      "V92\n",
      "V93\n",
      "V94\n",
      "V95\n",
      "V96\n",
      "V97\n",
      "V98\n",
      "V99\n",
      "V100\n",
      "V101\n",
      "V102\n",
      "V103\n",
      "V104\n",
      "V105\n",
      "V106\n",
      "V107\n",
      "V108\n",
      "V109\n",
      "V110\n",
      "V111\n",
      "V112\n",
      "V113\n",
      "V114\n",
      "V115\n",
      "V116\n",
      "V117\n",
      "V118\n",
      "V119\n",
      "V120\n",
      "V121\n",
      "V122\n",
      "V123\n",
      "V124\n",
      "V125\n",
      "V126\n",
      "V127\n",
      "V128\n",
      "V129\n",
      "V130\n",
      "V131\n",
      "V132\n",
      "V133\n",
      "V134\n",
      "V135\n",
      "V136\n",
      "V137\n",
      "V138\n",
      "V139\n",
      "V140\n",
      "V141\n",
      "V142\n",
      "V143\n",
      "V144\n",
      "V145\n",
      "V146\n",
      "V147\n",
      "V148\n",
      "V149\n",
      "V150\n",
      "V151\n",
      "V152\n",
      "V153\n",
      "V154\n",
      "V155\n",
      "V156\n",
      "V157\n",
      "V158\n",
      "V159\n",
      "V160\n",
      "V161\n",
      "V162\n",
      "V163\n",
      "V164\n",
      "V165\n",
      "V166\n",
      "V167\n",
      "V168\n",
      "V169\n",
      "V170\n",
      "V171\n",
      "V172\n",
      "V173\n",
      "V174\n",
      "V175\n",
      "V176\n",
      "V177\n",
      "V178\n",
      "V179\n",
      "V180\n",
      "V181\n",
      "V182\n",
      "V183\n",
      "V184\n",
      "V185\n",
      "V186\n",
      "V187\n",
      "V188\n",
      "V189\n",
      "V190\n",
      "V191\n",
      "V192\n",
      "V193\n",
      "V194\n",
      "V195\n",
      "V196\n",
      "V197\n",
      "V198\n",
      "V199\n",
      "V200\n",
      "V201\n",
      "V202\n",
      "V203\n",
      "V204\n",
      "V205\n",
      "V206\n",
      "V207\n",
      "V208\n",
      "V209\n",
      "V210\n",
      "V211\n",
      "V212\n",
      "V213\n",
      "V214\n",
      "V215\n",
      "V216\n",
      "V217\n",
      "V218\n",
      "V219\n",
      "V220\n",
      "V221\n",
      "V222\n",
      "V223\n",
      "V224\n",
      "V225\n",
      "V226\n",
      "V227\n",
      "V228\n",
      "V229\n",
      "V230\n",
      "V231\n",
      "V232\n",
      "V233\n",
      "V234\n",
      "V235\n",
      "V236\n",
      "V237\n",
      "V238\n",
      "V239\n",
      "V240\n",
      "V241\n",
      "V242\n",
      "V243\n",
      "V244\n",
      "V245\n",
      "V246\n",
      "V247\n",
      "V248\n",
      "V249\n",
      "V250\n",
      "V251\n",
      "V252\n",
      "V253\n",
      "V254\n",
      "V255\n",
      "V256\n",
      "V257\n",
      "V258\n",
      "V259\n",
      "V260\n",
      "V261\n",
      "V262\n",
      "V263\n",
      "V264\n",
      "V265\n",
      "V266\n",
      "V267\n",
      "V268\n",
      "V269\n",
      "V270\n",
      "V271\n",
      "V272\n",
      "V273\n",
      "V274\n",
      "V275\n",
      "V276\n",
      "V277\n",
      "V278\n",
      "V279\n",
      "V280\n",
      "V281\n",
      "V282\n",
      "V283\n",
      "V284\n",
      "V285\n",
      "V286\n",
      "V287\n",
      "V288\n",
      "V289\n",
      "V290\n",
      "V291\n",
      "V292\n",
      "V293\n",
      "V294\n",
      "V295\n",
      "V296\n",
      "V297\n",
      "V298\n",
      "V299\n",
      "V300\n",
      "V301\n",
      "V302\n",
      "V303\n",
      "V304\n",
      "V305\n",
      "V306\n",
      "V307\n",
      "V308\n",
      "V309\n",
      "V310\n",
      "V311\n",
      "V312\n",
      "V313\n",
      "V314\n",
      "V315\n",
      "V316\n",
      "V317\n",
      "V318\n",
      "V319\n",
      "V320\n",
      "V321\n",
      "V322\n",
      "V323\n",
      "V324\n",
      "V325\n",
      "V326\n",
      "V327\n",
      "V328\n",
      "V329\n",
      "V330\n",
      "V331\n",
      "V332\n",
      "V333\n",
      "V334\n",
      "V335\n",
      "V336\n",
      "V337\n",
      "V338\n",
      "V339\n",
      "id_01\n",
      "id_02\n",
      "id_03\n",
      "id_04\n",
      "id_05\n",
      "id_06\n",
      "id_07\n",
      "id_08\n",
      "id_09\n",
      "id_10\n",
      "id_11\n",
      "id_12\n",
      "id_13\n",
      "id_14\n",
      "id_15\n",
      "id_16\n",
      "id_17\n",
      "id_18\n",
      "id_19\n",
      "id_20\n",
      "id_21\n",
      "id_22\n",
      "id_23\n",
      "id_24\n",
      "id_25\n",
      "id_26\n",
      "id_27\n",
      "id_28\n",
      "id_29\n",
      "id_30\n",
      "id_31\n",
      "id_32\n",
      "id_33\n",
      "id_34\n",
      "id_35\n",
      "id_36\n",
      "id_37\n",
      "id_38\n",
      "DeviceType\n",
      "DeviceInfo\n",
      "_seq_day\n",
      "_seq_week\n",
      "Date\n",
      "_ymd\n",
      "_year_month\n",
      "_weekday\n",
      "_hour\n",
      "_day\n",
      "P_emaildomain_bin\n",
      "P_emaildomain_suffix\n",
      "R_emaildomain_bin\n",
      "R_emaildomain_suffix\n"
     ]
    }
   ],
   "source": [
    "# iterating the columns \n",
    "for col in train.columns: \n",
    "    print(col)"
   ]
  },
  {
   "cell_type": "code",
   "execution_count": null,
   "metadata": {},
   "outputs": [],
   "source": []
  }
 ],
 "metadata": {
  "kernelspec": {
   "display_name": "Python 3",
   "language": "python",
   "name": "python3"
  },
  "language_info": {
   "codemirror_mode": {
    "name": "ipython",
    "version": 3
   },
   "file_extension": ".py",
   "mimetype": "text/x-python",
   "name": "python",
   "nbconvert_exporter": "python",
   "pygments_lexer": "ipython3",
   "version": "3.7.3"
  }
 },
 "nbformat": 4,
 "nbformat_minor": 2
}
