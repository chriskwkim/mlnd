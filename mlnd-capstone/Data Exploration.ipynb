{
 "cells": [
  {
   "cell_type": "code",
   "execution_count": 80,
   "metadata": {},
   "outputs": [],
   "source": [
    "import pandas as pd\n",
    "import numpy as np\n",
    "import matplotlib.pyplot as plt\n",
    "%matplotlib inline\n"
   ]
  },
  {
   "cell_type": "code",
   "execution_count": 81,
   "metadata": {},
   "outputs": [
    {
     "name": "stdout",
     "output_type": "stream",
     "text": [
      "Train identity:(144233, 41)\n",
      "Train transaction:(590540, 394)\n"
     ]
    }
   ],
   "source": [
    "train_identity = pd.read_csv('data/train_identity.csv')\n",
    "print(\"Train identity:{}\".format(train_identity.shape))\n",
    "train_transaction = pd.read_csv('data/train_transaction.csv')\n",
    "print(\"Train transaction:{}\".format(train_transaction.shape))"
   ]
  },
  {
   "cell_type": "code",
   "execution_count": 82,
   "metadata": {},
   "outputs": [
    {
     "data": {
      "text/html": [
       "<div>\n",
       "<style scoped>\n",
       "    .dataframe tbody tr th:only-of-type {\n",
       "        vertical-align: middle;\n",
       "    }\n",
       "\n",
       "    .dataframe tbody tr th {\n",
       "        vertical-align: top;\n",
       "    }\n",
       "\n",
       "    .dataframe thead th {\n",
       "        text-align: right;\n",
       "    }\n",
       "</style>\n",
       "<table border=\"1\" class=\"dataframe\">\n",
       "  <thead>\n",
       "    <tr style=\"text-align: right;\">\n",
       "      <th></th>\n",
       "      <th>TransactionID</th>\n",
       "      <th>isFraud</th>\n",
       "      <th>TransactionDT</th>\n",
       "      <th>TransactionAmt</th>\n",
       "      <th>ProductCD</th>\n",
       "      <th>card1</th>\n",
       "      <th>card2</th>\n",
       "      <th>card3</th>\n",
       "      <th>card4</th>\n",
       "      <th>card5</th>\n",
       "      <th>...</th>\n",
       "      <th>id_31</th>\n",
       "      <th>id_32</th>\n",
       "      <th>id_33</th>\n",
       "      <th>id_34</th>\n",
       "      <th>id_35</th>\n",
       "      <th>id_36</th>\n",
       "      <th>id_37</th>\n",
       "      <th>id_38</th>\n",
       "      <th>DeviceType</th>\n",
       "      <th>DeviceInfo</th>\n",
       "    </tr>\n",
       "  </thead>\n",
       "  <tbody>\n",
       "    <tr>\n",
       "      <th>0</th>\n",
       "      <td>2987000</td>\n",
       "      <td>0</td>\n",
       "      <td>86400</td>\n",
       "      <td>68.5</td>\n",
       "      <td>W</td>\n",
       "      <td>13926</td>\n",
       "      <td>NaN</td>\n",
       "      <td>150.0</td>\n",
       "      <td>discover</td>\n",
       "      <td>142.0</td>\n",
       "      <td>...</td>\n",
       "      <td>NaN</td>\n",
       "      <td>NaN</td>\n",
       "      <td>NaN</td>\n",
       "      <td>NaN</td>\n",
       "      <td>NaN</td>\n",
       "      <td>NaN</td>\n",
       "      <td>NaN</td>\n",
       "      <td>NaN</td>\n",
       "      <td>NaN</td>\n",
       "      <td>NaN</td>\n",
       "    </tr>\n",
       "    <tr>\n",
       "      <th>1</th>\n",
       "      <td>2987001</td>\n",
       "      <td>0</td>\n",
       "      <td>86401</td>\n",
       "      <td>29.0</td>\n",
       "      <td>W</td>\n",
       "      <td>2755</td>\n",
       "      <td>404.0</td>\n",
       "      <td>150.0</td>\n",
       "      <td>mastercard</td>\n",
       "      <td>102.0</td>\n",
       "      <td>...</td>\n",
       "      <td>NaN</td>\n",
       "      <td>NaN</td>\n",
       "      <td>NaN</td>\n",
       "      <td>NaN</td>\n",
       "      <td>NaN</td>\n",
       "      <td>NaN</td>\n",
       "      <td>NaN</td>\n",
       "      <td>NaN</td>\n",
       "      <td>NaN</td>\n",
       "      <td>NaN</td>\n",
       "    </tr>\n",
       "    <tr>\n",
       "      <th>2</th>\n",
       "      <td>2987002</td>\n",
       "      <td>0</td>\n",
       "      <td>86469</td>\n",
       "      <td>59.0</td>\n",
       "      <td>W</td>\n",
       "      <td>4663</td>\n",
       "      <td>490.0</td>\n",
       "      <td>150.0</td>\n",
       "      <td>visa</td>\n",
       "      <td>166.0</td>\n",
       "      <td>...</td>\n",
       "      <td>NaN</td>\n",
       "      <td>NaN</td>\n",
       "      <td>NaN</td>\n",
       "      <td>NaN</td>\n",
       "      <td>NaN</td>\n",
       "      <td>NaN</td>\n",
       "      <td>NaN</td>\n",
       "      <td>NaN</td>\n",
       "      <td>NaN</td>\n",
       "      <td>NaN</td>\n",
       "    </tr>\n",
       "    <tr>\n",
       "      <th>3</th>\n",
       "      <td>2987003</td>\n",
       "      <td>0</td>\n",
       "      <td>86499</td>\n",
       "      <td>50.0</td>\n",
       "      <td>W</td>\n",
       "      <td>18132</td>\n",
       "      <td>567.0</td>\n",
       "      <td>150.0</td>\n",
       "      <td>mastercard</td>\n",
       "      <td>117.0</td>\n",
       "      <td>...</td>\n",
       "      <td>NaN</td>\n",
       "      <td>NaN</td>\n",
       "      <td>NaN</td>\n",
       "      <td>NaN</td>\n",
       "      <td>NaN</td>\n",
       "      <td>NaN</td>\n",
       "      <td>NaN</td>\n",
       "      <td>NaN</td>\n",
       "      <td>NaN</td>\n",
       "      <td>NaN</td>\n",
       "    </tr>\n",
       "    <tr>\n",
       "      <th>4</th>\n",
       "      <td>2987004</td>\n",
       "      <td>0</td>\n",
       "      <td>86506</td>\n",
       "      <td>50.0</td>\n",
       "      <td>H</td>\n",
       "      <td>4497</td>\n",
       "      <td>514.0</td>\n",
       "      <td>150.0</td>\n",
       "      <td>mastercard</td>\n",
       "      <td>102.0</td>\n",
       "      <td>...</td>\n",
       "      <td>samsung browser 6.2</td>\n",
       "      <td>32.0</td>\n",
       "      <td>2220x1080</td>\n",
       "      <td>match_status:2</td>\n",
       "      <td>T</td>\n",
       "      <td>F</td>\n",
       "      <td>T</td>\n",
       "      <td>T</td>\n",
       "      <td>mobile</td>\n",
       "      <td>SAMSUNG SM-G892A Build/NRD90M</td>\n",
       "    </tr>\n",
       "  </tbody>\n",
       "</table>\n",
       "<p>5 rows × 434 columns</p>\n",
       "</div>"
      ],
      "text/plain": [
       "   TransactionID  isFraud  TransactionDT  TransactionAmt ProductCD  card1  \\\n",
       "0        2987000        0          86400            68.5         W  13926   \n",
       "1        2987001        0          86401            29.0         W   2755   \n",
       "2        2987002        0          86469            59.0         W   4663   \n",
       "3        2987003        0          86499            50.0         W  18132   \n",
       "4        2987004        0          86506            50.0         H   4497   \n",
       "\n",
       "   card2  card3       card4  card5              ...                \\\n",
       "0    NaN  150.0    discover  142.0              ...                 \n",
       "1  404.0  150.0  mastercard  102.0              ...                 \n",
       "2  490.0  150.0        visa  166.0              ...                 \n",
       "3  567.0  150.0  mastercard  117.0              ...                 \n",
       "4  514.0  150.0  mastercard  102.0              ...                 \n",
       "\n",
       "                 id_31  id_32      id_33           id_34  id_35 id_36 id_37  \\\n",
       "0                  NaN    NaN        NaN             NaN    NaN   NaN   NaN   \n",
       "1                  NaN    NaN        NaN             NaN    NaN   NaN   NaN   \n",
       "2                  NaN    NaN        NaN             NaN    NaN   NaN   NaN   \n",
       "3                  NaN    NaN        NaN             NaN    NaN   NaN   NaN   \n",
       "4  samsung browser 6.2   32.0  2220x1080  match_status:2      T     F     T   \n",
       "\n",
       "   id_38  DeviceType                     DeviceInfo  \n",
       "0    NaN         NaN                            NaN  \n",
       "1    NaN         NaN                            NaN  \n",
       "2    NaN         NaN                            NaN  \n",
       "3    NaN         NaN                            NaN  \n",
       "4      T      mobile  SAMSUNG SM-G892A Build/NRD90M  \n",
       "\n",
       "[5 rows x 434 columns]"
      ]
     },
     "execution_count": 82,
     "metadata": {},
     "output_type": "execute_result"
    }
   ],
   "source": [
    "train = pd.merge(train_transaction, train_identity, on='TransactionID', how='left')\n",
    "train.head()"
   ]
  },
  {
   "cell_type": "code",
   "execution_count": 84,
   "metadata": {},
   "outputs": [],
   "source": [
    "del train_identity, train_transaction"
   ]
  },
  {
   "cell_type": "code",
   "execution_count": 114,
   "metadata": {},
   "outputs": [
    {
     "data": {
      "image/png": "[encoded data removed]",
      "text/plain": [
       "<Figure size 432x288 with 1 Axes>"
      ]
     },
     "metadata": {},
     "output_type": "display_data"
    }
   ],
   "source": [
    "# train['id_01'].value_counts(dropna=False, normalize=True).head()\n",
    "plt.hist(train['id_01'], range(-100,0))\n",
    "plt.show()"
   ]
  },
  {
   "cell_type": "markdown",
   "metadata": {},
   "source": [
    "id_01 has 77 unique valuee between -100 and 0 highly skewed to 0."
   ]
  },
  {
   "cell_type": "code",
   "execution_count": 58,
   "metadata": {},
   "outputs": [
    {
     "data": {
      "text/plain": [
       "NaN         0.755761\n",
       "NotFound    0.208326\n",
       "Found       0.035913\n",
       "Name: id_12, dtype: float64"
      ]
     },
     "execution_count": 58,
     "metadata": {},
     "output_type": "execute_result"
    }
   ],
   "source": [
    "# train['id_01'].value_counts().head()\n",
    "train['id_12'].value_counts(dropna=False, normalize=True)"
   ]
  },
  {
   "cell_type": "code",
   "execution_count": 126,
   "metadata": {},
   "outputs": [
    {
     "data": {
      "image/png": "[encoded data removed]",
      "text/plain": [
       "<Figure size 432x288 with 1 Axes>"
      ]
     },
     "metadata": {},
     "output_type": "display_data"
    }
   ],
   "source": [
    "plt.hist(train['id_13'], range(10, 64))\n",
    "plt.show()"
   ]
  },
  {
   "cell_type": "markdown",
   "metadata": {},
   "source": [
    "id_13 has values between 10 and 64\n",
    "- NaN      0.784401\n",
    "- 52.0    0.098383\n",
    "- 49.0    0.044646\n",
    "- 64.0    0.024434\n",
    "- 33.0    0.017015"
   ]
  },
  {
   "cell_type": "code",
   "execution_count": 159,
   "metadata": {},
   "outputs": [
    {
     "data": {
      "text/plain": [
       "NaN       510496\n",
       "-300.0     44121\n",
       "-360.0     16661\n",
       "-480.0     12891\n",
       "-420.0      4542\n",
       "-600.0       498\n",
       " 60.0        369\n",
       " 0.0         192\n",
       "-240.0       159\n",
       "-180.0       126\n",
       "-540.0       111\n",
       " 480.0        80\n",
       " 540.0        64\n",
       " 600.0        62\n",
       " 120.0        41\n",
       " 180.0        37\n",
       " 420.0        19\n",
       " 330.0        17\n",
       " 270.0        15\n",
       " 240.0        13\n",
       " 300.0        12\n",
       " 720.0         9\n",
       "-660.0         2\n",
       "-210.0         1\n",
       " 360.0         1\n",
       "-120.0         1\n",
       "Name: id_14, dtype: int64"
      ]
     },
     "execution_count": 159,
     "metadata": {},
     "output_type": "execute_result"
    }
   ],
   "source": [
    "train['id_14'].value_counts(dropna=False)"
   ]
  },
  {
   "cell_type": "code",
   "execution_count": 160,
   "metadata": {},
   "outputs": [
    {
     "data": {
      "image/png": "[encoded data removed]",
      "text/plain": [
       "<Figure size 432x288 with 1 Axes>"
      ]
     },
     "metadata": {},
     "output_type": "display_data"
    }
   ],
   "source": [
    "# train['id_14'].value_counts(dropna=False, normalize=True)\n",
    "# print('id_14 min: {}, max: {}'.format(train['id_14'].min(), train['id_14'].max()))\n",
    "plt.hist(train['id_14'].head(10), range(-640,720))\n",
    "plt.show()"
   ]
  },
  {
   "cell_type": "markdown",
   "metadata": {},
   "source": [
    "id_14 min: -660.0, max: 720.0\n",
    "- NaN       0.864456\n",
    "- -300.0    0.074713\n",
    "- -360.0    0.028213\n",
    "- -480.0    0.021829\n",
    "- -420.0    0.007691"
   ]
  },
  {
   "cell_type": "code",
   "execution_count": 59,
   "metadata": {},
   "outputs": [
    {
     "data": {
      "text/plain": [
       "NaN        0.761261\n",
       "Found      0.114688\n",
       "New        0.104332\n",
       "Unknown    0.019719\n",
       "Name: id_15, dtype: float64"
      ]
     },
     "execution_count": 59,
     "metadata": {},
     "output_type": "execute_result"
    }
   ],
   "source": [
    "train['id_15'].value_counts(dropna=False, normalize=True)"
   ]
  },
  {
   "cell_type": "code",
   "execution_count": null,
   "metadata": {},
   "outputs": [],
   "source": []
  },
  {
   "cell_type": "code",
   "execution_count": 60,
   "metadata": {},
   "outputs": [
    {
     "data": {
      "text/plain": [
       "NaN         0.780980\n",
       "Found       0.112311\n",
       "NotFound    0.106709\n",
       "Name: id_16, dtype: float64"
      ]
     },
     "execution_count": 60,
     "metadata": {},
     "output_type": "execute_result"
    }
   ],
   "source": [
    "train['id_16'].value_counts(dropna=False, normalize=True)"
   ]
  },
  {
   "cell_type": "code",
   "execution_count": 61,
   "metadata": {},
   "outputs": [
    {
     "data": {
      "text/plain": [
       "NaN                     0.991247\n",
       "IP_PROXY:TRANSPARENT    0.005908\n",
       "IP_PROXY:ANONYMOUS      0.001814\n",
       "IP_PROXY:HIDDEN         0.001031\n",
       "Name: id_23, dtype: float64"
      ]
     },
     "execution_count": 61,
     "metadata": {},
     "output_type": "execute_result"
    }
   ],
   "source": [
    "train['id_23'].value_counts(dropna=False, normalize=True)"
   ]
  },
  {
   "cell_type": "code",
   "execution_count": 62,
   "metadata": {},
   "outputs": [
    {
     "data": {
      "text/plain": [
       "NaN         0.991247\n",
       "Found       0.008729\n",
       "NotFound    0.000024\n",
       "Name: id_27, dtype: float64"
      ]
     },
     "execution_count": 62,
     "metadata": {},
     "output_type": "execute_result"
    }
   ],
   "source": [
    "train['id_27'].value_counts(dropna=False, normalize=True)"
   ]
  },
  {
   "cell_type": "code",
   "execution_count": 63,
   "metadata": {},
   "outputs": [
    {
     "data": {
      "text/plain": [
       "NaN      0.761273\n",
       "Found    0.129089\n",
       "New      0.109639\n",
       "Name: id_28, dtype: float64"
      ]
     },
     "execution_count": 63,
     "metadata": {},
     "output_type": "execute_result"
    }
   ],
   "source": [
    "train['id_28'].value_counts(dropna=False, normalize=True)"
   ]
  },
  {
   "cell_type": "code",
   "execution_count": 64,
   "metadata": {},
   "outputs": [
    {
     "data": {
      "text/plain": [
       "NaN         0.761273\n",
       "Found       0.126877\n",
       "NotFound    0.111850\n",
       "Name: id_29, dtype: float64"
      ]
     },
     "execution_count": 64,
     "metadata": {},
     "output_type": "execute_result"
    }
   ],
   "source": [
    "train['id_29'].value_counts(dropna=False, normalize=True)"
   ]
  },
  {
   "cell_type": "code",
   "execution_count": 65,
   "metadata": {},
   "outputs": [
    {
     "data": {
      "text/plain": [
       "NaN                 0.868654\n",
       "Windows 10          0.035823\n",
       "Windows 7           0.022200\n",
       "iOS 11.2.1          0.006303\n",
       "iOS 11.1.2          0.006264\n",
       "Android 7.0         0.004862\n",
       "Mac OS X 10_12_6    0.004333\n",
       "Mac OS X 10_11_6    0.003976\n",
       "iOS 11.3.0          0.003414\n",
       "Windows 8.1         0.003241\n",
       "Mac OS X 10_10_5    0.002796\n",
       "iOS 11.2.6          0.002789\n",
       "iOS 10.3.3          0.002638\n",
       "Mac OS X 10_13_2    0.002406\n",
       "Mac OS X 10_13_1    0.002051\n",
       "iOS 11.2.5          0.002032\n",
       "Linux               0.001924\n",
       "Android             0.001827\n",
       "iOS 11.2.2          0.001527\n",
       "Mac OS X 10_13_3    0.001456\n",
       "iOS 11.2.0          0.001443\n",
       "Mac OS X 10_13_4    0.001285\n",
       "iOS 11.1.1          0.001185\n",
       "iOS 11.0.3          0.001116\n",
       "Android 7.1.1       0.001067\n",
       "Mac OS X 10_9_5     0.000965\n",
       "Android 6.0.1       0.000958\n",
       "iOS 10.3.2          0.000725\n",
       "iOS 9.3.5           0.000701\n",
       "Android 5.1.1       0.000593\n",
       "                      ...   \n",
       "iOS 11.3.1          0.000230\n",
       "Mac OS X 10.10      0.000229\n",
       "Windows XP          0.000222\n",
       "iOS 11.0.1          0.000215\n",
       "Mac OS X 10_12_4    0.000174\n",
       "iOS 10.1.1          0.000163\n",
       "Mac OS X 10_12_3    0.000161\n",
       "iOS 10.0.2          0.000161\n",
       "Mac OS X 10_7_5     0.000157\n",
       "Mac OS X 10_11_5    0.000139\n",
       "Android 6.0         0.000135\n",
       "Mac OS X 10_8_5     0.000125\n",
       "Android 4.4.2       0.000107\n",
       "Mac OS X 10.9       0.000098\n",
       "Android 5.0.2       0.000093\n",
       "Mac OS X 10_11_3    0.000091\n",
       "Mac OS X 10_11_4    0.000090\n",
       "Mac OS X 10_6_8     0.000085\n",
       "Mac OS X 10.6       0.000083\n",
       "Mac OS X 10_12      0.000083\n",
       "Mac OS X 10_12_1    0.000075\n",
       "Android 5.0         0.000069\n",
       "Android 7.1.2       0.000056\n",
       "Mac OS X 10_12_2    0.000056\n",
       "other               0.000025\n",
       "func                0.000017\n",
       "iOS 11.4.0          0.000008\n",
       "Mac OS X 10_13_5    0.000007\n",
       "Windows             0.000005\n",
       "iOS 11.4.1          0.000002\n",
       "Name: id_30, Length: 76, dtype: float64"
      ]
     },
     "execution_count": 65,
     "metadata": {},
     "output_type": "execute_result"
    }
   ],
   "source": [
    "train['id_30'].value_counts(dropna=False, normalize=True)"
   ]
  },
  {
   "cell_type": "code",
   "execution_count": 66,
   "metadata": {},
   "outputs": [
    {
     "data": {
      "text/plain": [
       "NaN                           0.762451\n",
       "chrome 63.0                   0.037254\n",
       "mobile safari 11.0            0.022730\n",
       "mobile safari generic         0.019430\n",
       "ie 11.0 for desktop           0.015291\n",
       "safari generic                0.013877\n",
       "chrome 62.0                   0.012162\n",
       "chrome 65.0                   0.011635\n",
       "chrome 64.0                   0.011364\n",
       "chrome 63.0 for android       0.009832\n",
       "chrome generic                0.008091\n",
       "chrome 66.0                   0.007221\n",
       "edge 16.0                     0.007092\n",
       "chrome 64.0 for android       0.005881\n",
       "chrome 65.0 for android       0.005649\n",
       "firefox 57.0                  0.005614\n",
       "mobile safari 10.0            0.004706\n",
       "chrome 66.0 for android       0.003978\n",
       "chrome 62.0 for android       0.003551\n",
       "edge 15.0                     0.002709\n",
       "chrome generic for android    0.001961\n",
       "firefox 59.0                  0.001861\n",
       "samsung browser 6.2           0.001797\n",
       "firefox 58.0                  0.001411\n",
       "chrome 49.0                   0.001218\n",
       "firefox                       0.001140\n",
       "ie 11.0 for tablet            0.001096\n",
       "chrome 61.0                   0.001087\n",
       "safari 11.0                   0.000931\n",
       "mobile safari 9.0             0.000916\n",
       "                                ...   \n",
       "safari                        0.000024\n",
       "mobile                        0.000019\n",
       "ZTE/Blade                     0.000015\n",
       "samsung browser 3.3           0.000014\n",
       "comodo                        0.000010\n",
       "line                          0.000010\n",
       "maxthon                       0.000010\n",
       "aol                           0.000008\n",
       "Mozilla/Firefox               0.000008\n",
       "icedragon                     0.000008\n",
       "Lanix/Ilium                   0.000005\n",
       "facebook                      0.000003\n",
       "puffin                        0.000003\n",
       "waterfox                      0.000003\n",
       "palemoon                      0.000003\n",
       "Nokia/Lumia                   0.000002\n",
       "LG/K-200                      0.000002\n",
       "Inco/Minion                   0.000002\n",
       "Cherry                        0.000002\n",
       "chrome 69.0                   0.000002\n",
       "chromium                      0.000002\n",
       "M4Tel/M4                      0.000002\n",
       "Samsung/SCH                   0.000002\n",
       "iron                          0.000002\n",
       "chrome 67.0 for android       0.000002\n",
       "firefox mobile 61.0           0.000002\n",
       "cyberfox                      0.000002\n",
       "BLU/Dash                      0.000002\n",
       "android                       0.000002\n",
       "seamonkey                     0.000002\n",
       "Name: id_31, Length: 131, dtype: float64"
      ]
     },
     "execution_count": 66,
     "metadata": {},
     "output_type": "execute_result"
    }
   ],
   "source": [
    "train['id_31'].value_counts(dropna=False, normalize=True)"
   ]
  },
  {
   "cell_type": "code",
   "execution_count": 67,
   "metadata": {},
   "outputs": [
    {
     "data": {
      "text/plain": [
       "NaN      0.868619\n",
       " 24.0    0.089869\n",
       " 32.0    0.041366\n",
       " 16.0    0.000137\n",
       " 0.0     0.000010\n",
       "Name: id_32, dtype: float64"
      ]
     },
     "execution_count": 67,
     "metadata": {},
     "output_type": "execute_result"
    }
   ],
   "source": [
    "train['id_32'].value_counts(dropna=False, normalize=True)"
   ]
  },
  {
   "cell_type": "code",
   "execution_count": 68,
   "metadata": {},
   "outputs": [
    {
     "data": {
      "text/plain": [
       "NaN          0.875895\n",
       "1920x1080    0.028574\n",
       "1366x768     0.014571\n",
       "1334x750     0.010917\n",
       "2208x1242    0.008297\n",
       "1440x900     0.007424\n",
       "1600x900     0.005944\n",
       "2048x1536    0.005896\n",
       "1280x800     0.003639\n",
       "2560x1600    0.003544\n",
       "2560x1440    0.003158\n",
       "2880x1800    0.002974\n",
       "1280x1024    0.002952\n",
       "1680x1050    0.002924\n",
       "1136x640     0.002899\n",
       "2436x1125    0.002513\n",
       "1280x720     0.002232\n",
       "1920x1200    0.001788\n",
       "2001x1125    0.001727\n",
       "1024x768     0.001395\n",
       "2220x1080    0.000921\n",
       "5120x2880    0.000672\n",
       "3360x2100    0.000643\n",
       "2732x2048    0.000599\n",
       "1366x767     0.000567\n",
       "3840x2160    0.000445\n",
       "855x480      0.000423\n",
       "2736x1824    0.000408\n",
       "1360x768     0.000379\n",
       "4096x2304    0.000352\n",
       "               ...   \n",
       "1658x946     0.000002\n",
       "1280x900     0.000002\n",
       "2559x1439    0.000002\n",
       "2255x1503    0.000002\n",
       "2816x1584    0.000002\n",
       "1536x960     0.000002\n",
       "1502x845     0.000002\n",
       "1912x1025    0.000002\n",
       "1441x901     0.000002\n",
       "1092x614     0.000002\n",
       "976x600      0.000002\n",
       "2160x1350    0.000002\n",
       "2591x1619    0.000002\n",
       "1920x1279    0.000002\n",
       "1720x1440    0.000002\n",
       "1280x732     0.000002\n",
       "3072x1728    0.000002\n",
       "1918x1080    0.000002\n",
       "1408x792     0.000002\n",
       "2736x1823    0.000002\n",
       "480x320      0.000002\n",
       "1536x1152    0.000002\n",
       "3840x2162    0.000002\n",
       "2160x1439    0.000002\n",
       "1440x759     0.000002\n",
       "1272x960     0.000002\n",
       "768x576      0.000002\n",
       "1264x924     0.000002\n",
       "1729x973     0.000002\n",
       "2559x1440    0.000002\n",
       "Name: id_33, Length: 261, dtype: float64"
      ]
     },
     "execution_count": 68,
     "metadata": {},
     "output_type": "execute_result"
    }
   ],
   "source": [
    "train['id_33'].value_counts(dropna=False, normalize=True)"
   ]
  },
  {
   "cell_type": "code",
   "execution_count": 69,
   "metadata": {},
   "outputs": [
    {
     "data": {
      "text/plain": [
       "NaN                0.868248\n",
       "match_status:2     0.101621\n",
       "match_status:1     0.029424\n",
       "match_status:0     0.000703\n",
       "match_status:-1    0.000005\n",
       "Name: id_34, dtype: float64"
      ]
     },
     "execution_count": 69,
     "metadata": {},
     "output_type": "execute_result"
    }
   ],
   "source": [
    "train['id_34'].value_counts(dropna=False, normalize=True)"
   ]
  },
  {
   "cell_type": "code",
   "execution_count": 70,
   "metadata": {},
   "outputs": [
    {
     "data": {
      "text/plain": [
       "NaN    0.761261\n",
       "T      0.131768\n",
       "F      0.106972\n",
       "Name: id_35, dtype: float64"
      ]
     },
     "execution_count": 70,
     "metadata": {},
     "output_type": "execute_result"
    }
   ],
   "source": [
    "train['id_35'].value_counts(dropna=False, normalize=True)"
   ]
  },
  {
   "cell_type": "code",
   "execution_count": 71,
   "metadata": {},
   "outputs": [
    {
     "data": {
      "text/plain": [
       "NaN    0.761261\n",
       "F      0.227023\n",
       "T      0.011716\n",
       "Name: id_36, dtype: float64"
      ]
     },
     "execution_count": 71,
     "metadata": {},
     "output_type": "execute_result"
    }
   ],
   "source": [
    "train['id_36'].value_counts(dropna=False, normalize=True)"
   ]
  },
  {
   "cell_type": "code",
   "execution_count": 72,
   "metadata": {},
   "outputs": [
    {
     "data": {
      "text/plain": [
       "NaN    0.761261\n",
       "T      0.187036\n",
       "F      0.051704\n",
       "Name: id_37, dtype: float64"
      ]
     },
     "execution_count": 72,
     "metadata": {},
     "output_type": "execute_result"
    }
   ],
   "source": [
    "train['id_37'].value_counts(dropna=False, normalize=True)"
   ]
  },
  {
   "cell_type": "code",
   "execution_count": 73,
   "metadata": {},
   "outputs": [
    {
     "data": {
      "text/plain": [
       "NaN    0.761261\n",
       "F      0.125177\n",
       "T      0.113562\n",
       "Name: id_38, dtype: float64"
      ]
     },
     "execution_count": 73,
     "metadata": {},
     "output_type": "execute_result"
    }
   ],
   "source": [
    "train['id_38'].value_counts(dropna=False, normalize=True)"
   ]
  },
  {
   "cell_type": "code",
   "execution_count": 74,
   "metadata": {},
   "outputs": [
    {
     "data": {
      "text/plain": [
       "NaN        0.761557\n",
       "desktop    0.144215\n",
       "mobile     0.094227\n",
       "Name: DeviceType, dtype: float64"
      ]
     },
     "execution_count": 74,
     "metadata": {},
     "output_type": "execute_result"
    }
   ],
   "source": [
    "train['DeviceType'].value_counts(dropna=False, normalize=True)"
   ]
  },
  {
   "cell_type": "code",
   "execution_count": 75,
   "metadata": {},
   "outputs": [
    {
     "data": {
      "text/plain": [
       "NaN                               0.799055\n",
       "Windows                           0.080811\n",
       "iOS Device                        0.033498\n",
       "MacOS                             0.021291\n",
       "Trident/7.0                       0.012599\n",
       "rv:11.0                           0.003219\n",
       "rv:57.0                           0.001629\n",
       "SM-J700M Build/MMB29K             0.000930\n",
       "SM-G610M Build/MMB29K             0.000781\n",
       "SM-G531H Build/LMY48B             0.000694\n",
       "rv:59.0                           0.000613\n",
       "SM-G935F Build/NRD90M             0.000566\n",
       "SM-G955U Build/NRD90M             0.000555\n",
       "SM-G532M Build/MMB29T             0.000535\n",
       "ALE-L23 Build/HuaweiALE-L23       0.000528\n",
       "SM-G950U Build/NRD90M             0.000491\n",
       "SM-G930V Build/NRD90M             0.000464\n",
       "rv:58.0                           0.000456\n",
       "rv:52.0                           0.000434\n",
       "SAMSUNG                           0.000398\n",
       "SM-G950F Build/NRD90M             0.000381\n",
       "Moto G (4) Build/NPJ25.93-14.7    0.000371\n",
       "SM-N950U Build/NMF26X             0.000354\n",
       "SM-A300H Build/LRX22G             0.000344\n",
       "hi6210sft Build/MRA58K            0.000322\n",
       "SM-J730GM Build/NRD90M            0.000312\n",
       "SM-G570M Build/MMB29K             0.000308\n",
       "rv:48.0                           0.000301\n",
       "CAM-L03 Build/HUAWEICAM-L03       0.000291\n",
       "SM-J320M Build/LMY47V             0.000290\n",
       "                                    ...   \n",
       "ASUS_Z00UD                        0.000002\n",
       "B3-A20                            0.000002\n",
       "verykoolS5019                     0.000002\n",
       "verykools5035                     0.000002\n",
       "SM-N910T3                         0.000002\n",
       "LGL33L/V100                       0.000002\n",
       "SAMSUNG SM-A310M Build/LMY47X     0.000002\n",
       "HT0701A16                         0.000002\n",
       "ASUS_A001                         0.000002\n",
       "SPH-L720T                         0.000002\n",
       "WAS-LX2J                          0.000002\n",
       "SM-A300H                          0.000002\n",
       "SGH-M919N                         0.000002\n",
       "SM-A300M                          0.000002\n",
       "SLAY                              0.000002\n",
       "Z836BL                            0.000002\n",
       "SM-A500W                          0.000002\n",
       "LG-D725                           0.000002\n",
       "Tornado                           0.000002\n",
       "LGMS345                           0.000002\n",
       "R8106                             0.000002\n",
       "SPH-L720                          0.000002\n",
       "A5002                             0.000002\n",
       "Z812                              0.000002\n",
       "V.40R                             0.000002\n",
       "rv:29.0                           0.000002\n",
       "LG-V930                           0.000002\n",
       "ALTER                             0.000002\n",
       "SM-G925R4                         0.000002\n",
       "Stellar                           0.000002\n",
       "Name: DeviceInfo, Length: 1787, dtype: float64"
      ]
     },
     "execution_count": 75,
     "metadata": {},
     "output_type": "execute_result"
    }
   ],
   "source": [
    "train['DeviceInfo'].value_counts(dropna=False, normalize=True)"
   ]
  },
  {
   "cell_type": "code",
   "execution_count": null,
   "metadata": {},
   "outputs": [],
   "source": []
  }
 ],
 "metadata": {
  "kernelspec": {
   "display_name": "Python 3",
   "language": "python",
   "name": "python3"
  },
  "language_info": {
   "codemirror_mode": {
    "name": "ipython",
    "version": 3
   },
   "file_extension": ".py",
   "mimetype": "text/x-python",
   "name": "python",
   "nbconvert_exporter": "python",
   "pygments_lexer": "ipython3",
   "version": "3.6.5"
  }
 },
 "nbformat": 4,
 "nbformat_minor": 2
}
