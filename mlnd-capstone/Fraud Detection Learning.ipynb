{
 "cells": [
  {
   "cell_type": "markdown",
   "metadata": {},
   "source": [
    "# Learning, Fraud Detection"
   ]
  },
  {
   "cell_type": "code",
   "execution_count": 1,
   "metadata": {},
   "outputs": [],
   "source": [
    "import pandas as pd\n",
    "import numpy as np\n",
    "import matplotlib.pyplot as plt\n",
    "import gc\n",
    "\n",
    "%matplotlib inline\n",
    "\n",
    "# Preprocessing, modelling and evaluating\n",
    "from sklearn import preprocessing\n",
    "from sklearn.metrics import precision_score, recall_score, f1_score\n",
    "from sklearn.metrics import confusion_matrix, roc_auc_score\n",
    "from sklearn import metrics\n",
    "from sklearn.model_selection import KFold\n",
    "\n",
    "from IPython.display import HTML"
   ]
  },
  {
   "cell_type": "code",
   "execution_count": 2,
   "metadata": {},
   "outputs": [],
   "source": [
    "# Memory saving function credit to https://www.kaggle.com/gemartin/load-data-reduce-memory-usage\n",
    "def reduce_mem_usage(df):\n",
    "    \"\"\" iterate through all the columns of a dataframe and modify the data type\n",
    "        to reduce memory usage.\n",
    "    \"\"\"\n",
    "    start_mem = df.memory_usage().sum() / 1024**2\n",
    "    \n",
    "    for col in df.columns:\n",
    "        col_type = df[col].dtype\n",
    "        \n",
    "        if col_type != object:\n",
    "            c_min = df[col].min()\n",
    "            c_max = df[col].max()\n",
    "            if str(col_type)[:3] == 'int':\n",
    "                if c_min > np.iinfo(np.int8).min and c_max < np.iinfo(np.int8).max:\n",
    "                    df[col] = df[col].astype(np.int8)\n",
    "                elif c_min > np.iinfo(np.int16).min and c_max < np.iinfo(np.int16).max:\n",
    "                    df[col] = df[col].astype(np.int16)\n",
    "                elif c_min > np.iinfo(np.int32).min and c_max < np.iinfo(np.int32).max:\n",
    "                    df[col] = df[col].astype(np.int32)\n",
    "                elif c_min > np.iinfo(np.int64).min and c_max < np.iinfo(np.int64).max:\n",
    "                    df[col] = df[col].astype(np.int64)  \n",
    "            else:\n",
    "                if c_min > np.finfo(np.float16).min and c_max < np.finfo(np.float16).max:\n",
    "                    df[col] = df[col].astype(np.float16)\n",
    "                elif c_min > np.finfo(np.float32).min and c_max < np.finfo(np.float32).max:\n",
    "                    df[col] = df[col].astype(np.float32)\n",
    "                else:\n",
    "                    df[col] = df[col].astype(np.float64)\n",
    "        #else:\n",
    "            #df[col] = df[col].astype('category')\n",
    "\n",
    "    end_mem = df.memory_usage().sum() / 1024**2\n",
    "    print('Memory usage of dataframe is {:.2f} MB --> {:.2f} MB (Decreased by {:.1f}%)'.format(\n",
    "        start_mem, end_mem, 100 * (start_mem - end_mem) / start_mem))\n",
    "    return df"
   ]
  },
  {
   "cell_type": "code",
   "execution_count": 3,
   "metadata": {},
   "outputs": [
    {
     "name": "stdout",
     "output_type": "stream",
     "text": [
      "Train identity:(144233, 41)\n",
      "Train transaction:(590540, 394)\n"
     ]
    }
   ],
   "source": [
    "train_identity = pd.read_csv('data/train_identity.csv')\n",
    "print(\"Train identity:{}\".format(train_identity.shape))\n",
    "train_transaction = pd.read_csv('data/train_transaction.csv')\n",
    "print(\"Train transaction:{}\".format(train_transaction.shape))"
   ]
  },
  {
   "cell_type": "code",
   "execution_count": 4,
   "metadata": {},
   "outputs": [
    {
     "name": "stdout",
     "output_type": "stream",
     "text": [
      "Memory usage of dataframe is 45.12 MB --> 25.86 MB (Decreased by 42.7%)\n",
      "Memory usage of dataframe is 1775.15 MB --> 542.35 MB (Decreased by 69.4%)\n"
     ]
    }
   ],
   "source": [
    "train_identity = reduce_mem_usage(train_identity)\n",
    "train_transaction = reduce_mem_usage(train_transaction)"
   ]
  },
  {
   "cell_type": "code",
   "execution_count": 5,
   "metadata": {},
   "outputs": [
    {
     "data": {
      "text/html": [
       "<div>\n",
       "<style scoped>\n",
       "    .dataframe tbody tr th:only-of-type {\n",
       "        vertical-align: middle;\n",
       "    }\n",
       "\n",
       "    .dataframe tbody tr th {\n",
       "        vertical-align: top;\n",
       "    }\n",
       "\n",
       "    .dataframe thead th {\n",
       "        text-align: right;\n",
       "    }\n",
       "</style>\n",
       "<table border=\"1\" class=\"dataframe\">\n",
       "  <thead>\n",
       "    <tr style=\"text-align: right;\">\n",
       "      <th></th>\n",
       "      <th>TransactionID</th>\n",
       "      <th>isFraud</th>\n",
       "      <th>TransactionDT</th>\n",
       "      <th>TransactionAmt</th>\n",
       "      <th>ProductCD</th>\n",
       "      <th>card1</th>\n",
       "      <th>card2</th>\n",
       "      <th>card3</th>\n",
       "      <th>card4</th>\n",
       "      <th>card5</th>\n",
       "      <th>...</th>\n",
       "      <th>id_31</th>\n",
       "      <th>id_32</th>\n",
       "      <th>id_33</th>\n",
       "      <th>id_34</th>\n",
       "      <th>id_35</th>\n",
       "      <th>id_36</th>\n",
       "      <th>id_37</th>\n",
       "      <th>id_38</th>\n",
       "      <th>DeviceType</th>\n",
       "      <th>DeviceInfo</th>\n",
       "    </tr>\n",
       "  </thead>\n",
       "  <tbody>\n",
       "    <tr>\n",
       "      <th>0</th>\n",
       "      <td>2987000</td>\n",
       "      <td>0</td>\n",
       "      <td>86400</td>\n",
       "      <td>68.5</td>\n",
       "      <td>W</td>\n",
       "      <td>13926</td>\n",
       "      <td>NaN</td>\n",
       "      <td>150.0</td>\n",
       "      <td>discover</td>\n",
       "      <td>142.0</td>\n",
       "      <td>...</td>\n",
       "      <td>NaN</td>\n",
       "      <td>NaN</td>\n",
       "      <td>NaN</td>\n",
       "      <td>NaN</td>\n",
       "      <td>NaN</td>\n",
       "      <td>NaN</td>\n",
       "      <td>NaN</td>\n",
       "      <td>NaN</td>\n",
       "      <td>NaN</td>\n",
       "      <td>NaN</td>\n",
       "    </tr>\n",
       "    <tr>\n",
       "      <th>1</th>\n",
       "      <td>2987001</td>\n",
       "      <td>0</td>\n",
       "      <td>86401</td>\n",
       "      <td>29.0</td>\n",
       "      <td>W</td>\n",
       "      <td>2755</td>\n",
       "      <td>404.0</td>\n",
       "      <td>150.0</td>\n",
       "      <td>mastercard</td>\n",
       "      <td>102.0</td>\n",
       "      <td>...</td>\n",
       "      <td>NaN</td>\n",
       "      <td>NaN</td>\n",
       "      <td>NaN</td>\n",
       "      <td>NaN</td>\n",
       "      <td>NaN</td>\n",
       "      <td>NaN</td>\n",
       "      <td>NaN</td>\n",
       "      <td>NaN</td>\n",
       "      <td>NaN</td>\n",
       "      <td>NaN</td>\n",
       "    </tr>\n",
       "    <tr>\n",
       "      <th>2</th>\n",
       "      <td>2987002</td>\n",
       "      <td>0</td>\n",
       "      <td>86469</td>\n",
       "      <td>59.0</td>\n",
       "      <td>W</td>\n",
       "      <td>4663</td>\n",
       "      <td>490.0</td>\n",
       "      <td>150.0</td>\n",
       "      <td>visa</td>\n",
       "      <td>166.0</td>\n",
       "      <td>...</td>\n",
       "      <td>NaN</td>\n",
       "      <td>NaN</td>\n",
       "      <td>NaN</td>\n",
       "      <td>NaN</td>\n",
       "      <td>NaN</td>\n",
       "      <td>NaN</td>\n",
       "      <td>NaN</td>\n",
       "      <td>NaN</td>\n",
       "      <td>NaN</td>\n",
       "      <td>NaN</td>\n",
       "    </tr>\n",
       "    <tr>\n",
       "      <th>3</th>\n",
       "      <td>2987003</td>\n",
       "      <td>0</td>\n",
       "      <td>86499</td>\n",
       "      <td>50.0</td>\n",
       "      <td>W</td>\n",
       "      <td>18132</td>\n",
       "      <td>567.0</td>\n",
       "      <td>150.0</td>\n",
       "      <td>mastercard</td>\n",
       "      <td>117.0</td>\n",
       "      <td>...</td>\n",
       "      <td>NaN</td>\n",
       "      <td>NaN</td>\n",
       "      <td>NaN</td>\n",
       "      <td>NaN</td>\n",
       "      <td>NaN</td>\n",
       "      <td>NaN</td>\n",
       "      <td>NaN</td>\n",
       "      <td>NaN</td>\n",
       "      <td>NaN</td>\n",
       "      <td>NaN</td>\n",
       "    </tr>\n",
       "    <tr>\n",
       "      <th>4</th>\n",
       "      <td>2987004</td>\n",
       "      <td>0</td>\n",
       "      <td>86506</td>\n",
       "      <td>50.0</td>\n",
       "      <td>H</td>\n",
       "      <td>4497</td>\n",
       "      <td>514.0</td>\n",
       "      <td>150.0</td>\n",
       "      <td>mastercard</td>\n",
       "      <td>102.0</td>\n",
       "      <td>...</td>\n",
       "      <td>samsung browser 6.2</td>\n",
       "      <td>32.0</td>\n",
       "      <td>2220x1080</td>\n",
       "      <td>match_status:2</td>\n",
       "      <td>T</td>\n",
       "      <td>F</td>\n",
       "      <td>T</td>\n",
       "      <td>T</td>\n",
       "      <td>mobile</td>\n",
       "      <td>SAMSUNG SM-G892A Build/NRD90M</td>\n",
       "    </tr>\n",
       "  </tbody>\n",
       "</table>\n",
       "<p>5 rows × 434 columns</p>\n",
       "</div>"
      ],
      "text/plain": [
       "   TransactionID  isFraud  TransactionDT  TransactionAmt ProductCD  card1  \\\n",
       "0        2987000        0          86400            68.5         W  13926   \n",
       "1        2987001        0          86401            29.0         W   2755   \n",
       "2        2987002        0          86469            59.0         W   4663   \n",
       "3        2987003        0          86499            50.0         W  18132   \n",
       "4        2987004        0          86506            50.0         H   4497   \n",
       "\n",
       "   card2  card3       card4  card5  ...                id_31  id_32  \\\n",
       "0    NaN  150.0    discover  142.0  ...                  NaN    NaN   \n",
       "1  404.0  150.0  mastercard  102.0  ...                  NaN    NaN   \n",
       "2  490.0  150.0        visa  166.0  ...                  NaN    NaN   \n",
       "3  567.0  150.0  mastercard  117.0  ...                  NaN    NaN   \n",
       "4  514.0  150.0  mastercard  102.0  ...  samsung browser 6.2   32.0   \n",
       "\n",
       "       id_33           id_34  id_35 id_36 id_37  id_38  DeviceType  \\\n",
       "0        NaN             NaN    NaN   NaN   NaN    NaN         NaN   \n",
       "1        NaN             NaN    NaN   NaN   NaN    NaN         NaN   \n",
       "2        NaN             NaN    NaN   NaN   NaN    NaN         NaN   \n",
       "3        NaN             NaN    NaN   NaN   NaN    NaN         NaN   \n",
       "4  2220x1080  match_status:2      T     F     T      T      mobile   \n",
       "\n",
       "                      DeviceInfo  \n",
       "0                            NaN  \n",
       "1                            NaN  \n",
       "2                            NaN  \n",
       "3                            NaN  \n",
       "4  SAMSUNG SM-G892A Build/NRD90M  \n",
       "\n",
       "[5 rows x 434 columns]"
      ]
     },
     "execution_count": 5,
     "metadata": {},
     "output_type": "execute_result"
    }
   ],
   "source": [
    "# Join Transaction and Identity dataframes\n",
    "train = pd.merge(train_transaction, train_identity, on='TransactionID', how='left')\n",
    "train.head()"
   ]
  },
  {
   "cell_type": "markdown",
   "metadata": {},
   "source": [
    "## Feature Engineering"
   ]
  },
  {
   "cell_type": "code",
   "execution_count": 6,
   "metadata": {},
   "outputs": [
    {
     "data": {
      "text/plain": [
       "51"
      ]
     },
     "execution_count": 6,
     "metadata": {},
     "output_type": "execute_result"
    }
   ],
   "source": [
    "# Delete identity and transaction dataframes from memory\n",
    "del train_identity, train_transaction\n",
    "gc.collect()"
   ]
  },
  {
   "cell_type": "code",
   "execution_count": 7,
   "metadata": {},
   "outputs": [],
   "source": [
    "# http://localhost:8888/notebooks/IEEE-CIS%20Fraud%20Detection%20_%20EDA.ipynb\n",
    "import datetime\n",
    "\n",
    "START_DATE = '2017-11-30'\n",
    "startdate = datetime.datetime.strptime(START_DATE, \"%Y-%m-%d\")\n",
    "train['Date'] = train['TransactionDT'].apply(lambda x: (startdate + datetime.timedelta(seconds=x)))\n",
    "train['_ymd'] = train['Date'].dt.year.astype(str) + '-' + train['Date'].dt.month.astype(str) + '-' + train['Date'].dt.day.astype(str)\n",
    "train['_year_month'] = train['Date'].dt.year.astype(str) + '-' + train['Date'].dt.month.astype(str)\n",
    "train['_weekday'] = train['Date'].dt.dayofweek\n",
    "train['_hour'] = train['Date'].dt.hour\n",
    "train['_day'] = train['Date'].dt.day\n"
   ]
  },
  {
   "cell_type": "code",
   "execution_count": 8,
   "metadata": {},
   "outputs": [
    {
     "data": {
      "text/plain": [
       "NAN        512975\n",
       "Windows     36739\n",
       "iOS         19782\n",
       "Mac         13580\n",
       "Android      6303\n",
       "Linux        1136\n",
       "other          15\n",
       "func           10\n",
       "Name: id_30, dtype: int64"
      ]
     },
     "execution_count": 8,
     "metadata": {},
     "output_type": "execute_result"
    }
   ],
   "source": [
    "# https://www.kaggle.com/kabure/extensive-eda-and-modeling-xgb-hyperopt\n",
    "# id_30 OS\n",
    "train.loc[train['id_30'].str.contains('Windows', na=False), 'id_30'] = 'Windows'\n",
    "train.loc[train['id_30'].str.contains('iOS', na=False), 'id_30'] = 'iOS'\n",
    "train.loc[train['id_30'].str.contains('Mac OS', na=False), 'id_30'] = 'Mac'\n",
    "train.loc[train['id_30'].str.contains('Android', na=False), 'id_30'] = 'Android'\n",
    "train['id_30'].fillna(\"NAN\", inplace=True)\n",
    "\n",
    "train['id_30'].value_counts()"
   ]
  },
  {
   "cell_type": "code",
   "execution_count": 9,
   "metadata": {},
   "outputs": [
    {
     "data": {
      "text/plain": [
       "NAN        450258\n",
       "Chrome      76059\n",
       "Safari      37281\n",
       "IE          10018\n",
       "Firefox      7012\n",
       "Edge         6401\n",
       "Samsung      2044\n",
       "Others        706\n",
       "Opera         449\n",
       "other         312\n",
       "Name: id_31, dtype: int64"
      ]
     },
     "execution_count": 9,
     "metadata": {},
     "output_type": "execute_result"
    }
   ],
   "source": [
    "# https://www.kaggle.com/kabure/extensive-eda-and-modeling-xgb-hyperopt\n",
    "# id_31 Browser\n",
    "train.loc[train['id_31'].str.contains('chrome', na=False), 'id_31'] = 'Chrome'\n",
    "train.loc[train['id_31'].str.contains('firefox', na=False), 'id_31'] = 'Firefox'\n",
    "train.loc[train['id_31'].str.contains('safari', na=False), 'id_31'] = 'Safari'\n",
    "train.loc[train['id_31'].str.contains('edge', na=False), 'id_31'] = 'Edge'\n",
    "train.loc[train['id_31'].str.contains('ie', na=False), 'id_31'] = 'IE'\n",
    "train.loc[train['id_31'].str.contains('samsung', na=False), 'id_31'] = 'Samsung'\n",
    "train.loc[train['id_31'].str.contains('opera', na=False), 'id_31'] = 'Opera'\n",
    "train['id_31'].fillna(\"NAN\", inplace=True)\n",
    "train.loc[train.id_31.isin(train.id_31.value_counts()[train.id_31.value_counts() < 200].index), 'id_31'] = \"Others\"\n",
    "\n",
    "train['id_31'].value_counts()"
   ]
  },
  {
   "cell_type": "code",
   "execution_count": 10,
   "metadata": {},
   "outputs": [],
   "source": [
    "# Drop Transaction ID, Transaction Date, year month day, year month, and date\n",
    "\n",
    "train.drop('TransactionID', axis=1, inplace=True)\n",
    "train.drop('TransactionDT', axis=1, inplace=True)\n",
    "train.drop('_ymd', axis=1, inplace=True)\n",
    "train.drop('_year_month', axis=1, inplace=True)\n",
    "train.drop('Date', axis=1, inplace=True)"
   ]
  },
  {
   "cell_type": "code",
   "execution_count": 11,
   "metadata": {},
   "outputs": [],
   "source": [
    "# Label encode the categorical features\n",
    "\n",
    "cat_cols = ['id_12', 'id_13', 'id_14', 'id_15', 'id_16', 'id_17', 'id_18', 'id_19', 'id_20', 'id_21', 'id_22', 'id_23', \n",
    "            'id_24', 'id_25', 'id_26', 'id_27', 'id_28', 'id_29', 'id_30', 'id_31', 'id_32', 'id_33', 'id_34', 'id_35', \n",
    "            'id_36', 'id_37', 'id_38', 'DeviceType', 'DeviceInfo', 'ProductCD', 'card4', 'card6', 'M4',\n",
    "            'card1', 'card2', 'card3', 'card5', 'addr1', 'addr2','P_emaildomain',\n",
    "            'R_emaildomain', 'M1', 'M2', 'M3', 'M5', 'M6', 'M7', \n",
    "            'M8', 'M9']\n",
    "for col in cat_cols:\n",
    "    if col in train.columns:\n",
    "        le = preprocessing.LabelEncoder()\n",
    "        le.fit(list(train[col].astype(str).values))\n",
    "        train[col] = le.transform(list(train[col].astype(str).values))"
   ]
  },
  {
   "cell_type": "code",
   "execution_count": 12,
   "metadata": {},
   "outputs": [
    {
     "data": {
      "text/plain": [
       "131"
      ]
     },
     "execution_count": 12,
     "metadata": {},
     "output_type": "execute_result"
    }
   ],
   "source": [
    "# Separate Features and Labels\n",
    "\n",
    "y = train['isFraud']\n",
    "X = train.drop('isFraud', axis=1)\n",
    "\n",
    "del train\n",
    "gc.collect()"
   ]
  },
  {
   "cell_type": "code",
   "execution_count": 13,
   "metadata": {},
   "outputs": [],
   "source": [
    "# Split the data set into the Training and Test sets\n",
    "\n",
    "from sklearn.model_selection import train_test_split\n",
    "\n",
    "# Hold out test set from validation set for final test\n",
    "X_train, X_test, y_train, y_test = train_test_split(X, y, test_size=0.2, random_state=42)\n",
    "\n",
    "# Split validation set for tuning\n",
    "X_train, X_val, y_train, y_val = train_test_split(X_train, y_train, test_size=0.2, random_state=42)"
   ]
  },
  {
   "cell_type": "code",
   "execution_count": 14,
   "metadata": {},
   "outputs": [
    {
     "name": "stderr",
     "output_type": "stream",
     "text": [
      "/usr/local/anaconda3/lib/python3.7/site-packages/pandas/core/generic.py:6130: SettingWithCopyWarning: \n",
      "A value is trying to be set on a copy of a slice from a DataFrame\n",
      "\n",
      "See the caveats in the documentation: http://pandas.pydata.org/pandas-docs/stable/indexing.html#indexing-view-versus-copy\n",
      "  self._update_inplace(new_data)\n"
     ]
    },
    {
     "data": {
      "text/html": [
       "<div>\n",
       "<style scoped>\n",
       "    .dataframe tbody tr th:only-of-type {\n",
       "        vertical-align: middle;\n",
       "    }\n",
       "\n",
       "    .dataframe tbody tr th {\n",
       "        vertical-align: top;\n",
       "    }\n",
       "\n",
       "    .dataframe thead th {\n",
       "        text-align: right;\n",
       "    }\n",
       "</style>\n",
       "<table border=\"1\" class=\"dataframe\">\n",
       "  <thead>\n",
       "    <tr style=\"text-align: right;\">\n",
       "      <th></th>\n",
       "      <th>TransactionAmt</th>\n",
       "      <th>ProductCD</th>\n",
       "      <th>card1</th>\n",
       "      <th>card2</th>\n",
       "      <th>card3</th>\n",
       "      <th>card4</th>\n",
       "      <th>card5</th>\n",
       "      <th>card6</th>\n",
       "      <th>addr1</th>\n",
       "      <th>addr2</th>\n",
       "      <th>...</th>\n",
       "      <th>id_34</th>\n",
       "      <th>id_35</th>\n",
       "      <th>id_36</th>\n",
       "      <th>id_37</th>\n",
       "      <th>id_38</th>\n",
       "      <th>DeviceType</th>\n",
       "      <th>DeviceInfo</th>\n",
       "      <th>_weekday</th>\n",
       "      <th>_hour</th>\n",
       "      <th>_day</th>\n",
       "    </tr>\n",
       "  </thead>\n",
       "  <tbody>\n",
       "    <tr>\n",
       "      <th>223517</th>\n",
       "      <td>52.937500</td>\n",
       "      <td>4</td>\n",
       "      <td>7199</td>\n",
       "      <td>446</td>\n",
       "      <td>42</td>\n",
       "      <td>4</td>\n",
       "      <td>108</td>\n",
       "      <td>2</td>\n",
       "      <td>67</td>\n",
       "      <td>65</td>\n",
       "      <td>...</td>\n",
       "      <td>4</td>\n",
       "      <td>2</td>\n",
       "      <td>2</td>\n",
       "      <td>2</td>\n",
       "      <td>2</td>\n",
       "      <td>2</td>\n",
       "      <td>1742</td>\n",
       "      <td>0</td>\n",
       "      <td>23</td>\n",
       "      <td>29</td>\n",
       "    </tr>\n",
       "    <tr>\n",
       "      <th>154151</th>\n",
       "      <td>44.593750</td>\n",
       "      <td>0</td>\n",
       "      <td>2289</td>\n",
       "      <td>389</td>\n",
       "      <td>42</td>\n",
       "      <td>4</td>\n",
       "      <td>119</td>\n",
       "      <td>1</td>\n",
       "      <td>332</td>\n",
       "      <td>74</td>\n",
       "      <td>...</td>\n",
       "      <td>4</td>\n",
       "      <td>2</td>\n",
       "      <td>2</td>\n",
       "      <td>2</td>\n",
       "      <td>2</td>\n",
       "      <td>2</td>\n",
       "      <td>1742</td>\n",
       "      <td>4</td>\n",
       "      <td>21</td>\n",
       "      <td>5</td>\n",
       "    </tr>\n",
       "    <tr>\n",
       "      <th>342405</th>\n",
       "      <td>7.855469</td>\n",
       "      <td>0</td>\n",
       "      <td>4787</td>\n",
       "      <td>213</td>\n",
       "      <td>42</td>\n",
       "      <td>2</td>\n",
       "      <td>106</td>\n",
       "      <td>2</td>\n",
       "      <td>332</td>\n",
       "      <td>74</td>\n",
       "      <td>...</td>\n",
       "      <td>4</td>\n",
       "      <td>0</td>\n",
       "      <td>0</td>\n",
       "      <td>1</td>\n",
       "      <td>0</td>\n",
       "      <td>0</td>\n",
       "      <td>1742</td>\n",
       "      <td>2</td>\n",
       "      <td>18</td>\n",
       "      <td>7</td>\n",
       "    </tr>\n",
       "    <tr>\n",
       "      <th>408458</th>\n",
       "      <td>792.000000</td>\n",
       "      <td>4</td>\n",
       "      <td>5732</td>\n",
       "      <td>389</td>\n",
       "      <td>42</td>\n",
       "      <td>4</td>\n",
       "      <td>108</td>\n",
       "      <td>2</td>\n",
       "      <td>78</td>\n",
       "      <td>65</td>\n",
       "      <td>...</td>\n",
       "      <td>4</td>\n",
       "      <td>2</td>\n",
       "      <td>2</td>\n",
       "      <td>2</td>\n",
       "      <td>2</td>\n",
       "      <td>2</td>\n",
       "      <td>1742</td>\n",
       "      <td>3</td>\n",
       "      <td>13</td>\n",
       "      <td>29</td>\n",
       "    </tr>\n",
       "    <tr>\n",
       "      <th>315183</th>\n",
       "      <td>254.000000</td>\n",
       "      <td>4</td>\n",
       "      <td>10118</td>\n",
       "      <td>217</td>\n",
       "      <td>42</td>\n",
       "      <td>4</td>\n",
       "      <td>58</td>\n",
       "      <td>2</td>\n",
       "      <td>175</td>\n",
       "      <td>65</td>\n",
       "      <td>...</td>\n",
       "      <td>4</td>\n",
       "      <td>2</td>\n",
       "      <td>2</td>\n",
       "      <td>2</td>\n",
       "      <td>2</td>\n",
       "      <td>2</td>\n",
       "      <td>1742</td>\n",
       "      <td>2</td>\n",
       "      <td>20</td>\n",
       "      <td>28</td>\n",
       "    </tr>\n",
       "  </tbody>\n",
       "</table>\n",
       "<p>5 rows × 434 columns</p>\n",
       "</div>"
      ],
      "text/plain": [
       "        TransactionAmt  ProductCD  card1  card2  card3  card4  card5  card6  \\\n",
       "223517       52.937500          4   7199    446     42      4    108      2   \n",
       "154151       44.593750          0   2289    389     42      4    119      1   \n",
       "342405        7.855469          0   4787    213     42      2    106      2   \n",
       "408458      792.000000          4   5732    389     42      4    108      2   \n",
       "315183      254.000000          4  10118    217     42      4     58      2   \n",
       "\n",
       "        addr1  addr2  ...  id_34  id_35  id_36  id_37  id_38  DeviceType  \\\n",
       "223517     67     65  ...      4      2      2      2      2           2   \n",
       "154151    332     74  ...      4      2      2      2      2           2   \n",
       "342405    332     74  ...      4      0      0      1      0           0   \n",
       "408458     78     65  ...      4      2      2      2      2           2   \n",
       "315183    175     65  ...      4      2      2      2      2           2   \n",
       "\n",
       "        DeviceInfo  _weekday  _hour  _day  \n",
       "223517        1742         0     23    29  \n",
       "154151        1742         4     21     5  \n",
       "342405        1742         2     18     7  \n",
       "408458        1742         3     13    29  \n",
       "315183        1742         2     20    28  \n",
       "\n",
       "[5 rows x 434 columns]"
      ]
     },
     "execution_count": 14,
     "metadata": {},
     "output_type": "execute_result"
    }
   ],
   "source": [
    "# Fill NaN with mean values of the column\n",
    "\n",
    "X_train.fillna(X_train.mean(), inplace=True)\n",
    "X_test.fillna(X_test.mean(), inplace=True)\n",
    "X_val.fillna(X_test.mean(), inplace=True)\n",
    "X_train.head()"
   ]
  },
  {
   "cell_type": "code",
   "execution_count": 15,
   "metadata": {},
   "outputs": [],
   "source": [
    "# Display Confusion Matrix\n",
    "# Precision, Recall and F1 Scores\n",
    "\n",
    "def show_scores(y_true, y_pred):\n",
    "  \n",
    "    print (\"Confusion Matrix\")\n",
    "    tn, fp, fn, tp = confusion_matrix(y_true, y_pred).ravel()\n",
    "    print (\"true positive {0}, false positive: {1}\\nfalse negative: {2}, true negative: {3}\"\n",
    "          .format(tp, fp, fn, tn))\n",
    "    \n",
    "    precision = precision_score(y_true, y_pred)\n",
    "    recall = recall_score(y_true, y_pred) \n",
    "    print (\"Precision: {0:.3f}, Recall: {1:.3f}\".format(precision, recall))\n",
    "\n",
    "    f1 = f1_score(y_true, y_pred)\n",
    "    print (\"F1 score: {0:.3f}\".format(f1))\n",
    "    \n",
    "    \n",
    "def show_auc_roc(label_data, prediction_data, metrics_title):\n",
    "    fpr, tpr, thresholds = metrics.roc_curve(y_train, train_predictions)\n",
    "    auc = metrics.auc(fpr, tpr)\n",
    "\n",
    "    plt.plot(fpr, tpr, label='%s ROC curve (area = %.3f)'% (metrics_title, auc))\n",
    "    plt.legend()\n",
    "    plt.title('{} ROC curve'.format(metrics_title))\n",
    "    plt.xlabel('False Positive Rate')\n",
    "    plt.ylabel('True Positive Rate')\n",
    "    plt.grid(True)\n",
    "    \n",
    "    print(\"{0} AUC: {1:.3f}\".format(metrics_title, auc))"
   ]
  },
  {
   "cell_type": "markdown",
   "metadata": {},
   "source": [
    "## Bench Mark Decision Tree Model"
   ]
  },
  {
   "cell_type": "code",
   "execution_count": 16,
   "metadata": {},
   "outputs": [
    {
     "name": "stdout",
     "output_type": "stream",
     "text": [
      "Confusion Matrix\n",
      "true positive 2394, false positive: 2235\n",
      "false negative: 1848, true negative: 111631\n",
      "Precision: 0.517, Recall: 0.564\n",
      "F1 score: 0.540\n",
      "CPU times: user 1min 30s, sys: 837 ms, total: 1min 31s\n",
      "Wall time: 1min 30s\n"
     ]
    }
   ],
   "source": [
    "%%time\n",
    "# Train and Test with Decision Tree Classifier\n",
    "\n",
    "from sklearn import tree\n",
    "clf = tree.DecisionTreeClassifier()\n",
    "clf = clf.fit(X_train, y_train)\n",
    "y_predict = clf.predict(X_test)\n",
    "\n",
    "show_scores(y_test, y_predict)"
   ]
  },
  {
   "cell_type": "markdown",
   "metadata": {},
   "source": [
    "## Train and Test LightGBM models"
   ]
  },
  {
   "cell_type": "markdown",
   "metadata": {},
   "source": [
    "### Initial model"
   ]
  },
  {
   "cell_type": "code",
   "execution_count": 17,
   "metadata": {},
   "outputs": [
    {
     "name": "stderr",
     "output_type": "stream",
     "text": [
      "/usr/local/anaconda3/lib/python3.7/site-packages/lightgbm/__init__.py:46: UserWarning: Starting from version 2.2.1, the library file in distribution wheels for macOS is built by the Apple Clang (Xcode_8.3.3) compiler.\n",
      "This means that in case of installing LightGBM from PyPI via the ``pip install lightgbm`` command, you don't need to install the gcc compiler anymore.\n",
      "Instead of that, you need to install the OpenMP library, which is required for running LightGBM on the system with the Apple Clang compiler.\n",
      "You can install the OpenMP library by the following command: ``brew install libomp``.\n",
      "  \"You can install the OpenMP library by the following command: ``brew install libomp``.\", UserWarning)\n"
     ]
    },
    {
     "name": "stdout",
     "output_type": "stream",
     "text": [
      "CPU times: user 2h 39min 59s, sys: 2min 57s, total: 2h 42min 56s\n",
      "Wall time: 15min 7s\n"
     ]
    },
    {
     "data": {
      "text/plain": [
       "LGBMClassifier(bagging_fraction=1.0, boosting_type='gbdt', class_weight=None,\n",
       "               colsample_bytree=1.0, feature_fraction=1.0,\n",
       "               importance_type='split', learning_rate=0.01, max_depth=-1,\n",
       "               metric='auc', min_child_samples=20, min_child_weight=0.001,\n",
       "               min_split_gain=0.0, n_estimators=3000, n_jobs=-1, num_leaves=256,\n",
       "               objective='binary', random_state=42, reg_alpha=0.0,\n",
       "               reg_lambda=0.0, silent=True, subsample=1.0,\n",
       "               subsample_for_bin=200000, subsample_freq=0, verbose=1)"
      ]
     },
     "execution_count": 17,
     "metadata": {},
     "output_type": "execute_result"
    }
   ],
   "source": [
    "%%time\n",
    "# Train Using LightGBM model\n",
    "\n",
    "import lightgbm as lgb\n",
    "\n",
    "params={'learning_rate': 0.01,\n",
    "        'objective': 'binary',\n",
    "        'metric': 'auc',\n",
    "        'num_leaves': 256,\n",
    "        'verbose': 1,\n",
    "        'random_state': 42,\n",
    "        'bagging_fraction': 1.0,\n",
    "        'feature_fraction': 1.0\n",
    "       }\n",
    "\n",
    "lgbm = lgb.LGBMClassifier(**params, n_estimators=3000)\n",
    "# Train the model\n",
    "lgbm.fit(X_train, y_train)\n"
   ]
  },
  {
   "cell_type": "code",
   "execution_count": 18,
   "metadata": {},
   "outputs": [
    {
     "name": "stdout",
     "output_type": "stream",
     "text": [
      "Confusion Matrix\n",
      "true positive 12760, false positive: 0\n",
      "false negative: 268, true negative: 364917\n",
      "Precision: 1.000, Recall: 0.979\n",
      "F1 score: 0.990\n"
     ]
    }
   ],
   "source": [
    "# Predict Training\n",
    "train_preds = lgbm.predict(X_train, num_iteration=lgbm.best_iteration_)\n",
    "show_scores(y_train, train_preds)"
   ]
  },
  {
   "cell_type": "code",
   "execution_count": 19,
   "metadata": {},
   "outputs": [
    {
     "name": "stdout",
     "output_type": "stream",
     "text": [
      "Confusion Matrix\n",
      "true positive 1863, false positive: 56\n",
      "false negative: 1530, true negative: 91038\n",
      "Precision: 0.971, Recall: 0.549\n",
      "F1 score: 0.701\n"
     ]
    }
   ],
   "source": [
    "# Predict Validation\n",
    "val_preds = lgbm.predict(X_val, num_iteration=lgbm.best_iteration_)\n",
    "show_scores(y_val, val_preds)"
   ]
  },
  {
   "cell_type": "code",
   "execution_count": 20,
   "metadata": {},
   "outputs": [
    {
     "name": "stdout",
     "output_type": "stream",
     "text": [
      "Training AUC: 1.000\n"
     ]
    },
    {
     "data": {
      "image/png": "[encoded data removed]",
      "text/plain": [
       "<Figure size 432x288 with 1 Axes>"
      ]
     },
     "metadata": {
      "needs_background": "light"
     },
     "output_type": "display_data"
    }
   ],
   "source": [
    "# Train AUC\n",
    "train_predictions = lgbm.predict_proba(X_train, num_iteration=lgbm.best_iteration_)[:,1]\n",
    "show_auc_roc(y_train, train_predictions, 'Training')"
   ]
  },
  {
   "cell_type": "code",
   "execution_count": 21,
   "metadata": {},
   "outputs": [
    {
     "name": "stdout",
     "output_type": "stream",
     "text": [
      "Validation AUC: 1.000\n"
     ]
    },
    {
     "data": {
      "image/png": "[encoded data removed]",
      "text/plain": [
       "<Figure size 432x288 with 1 Axes>"
      ]
     },
     "metadata": {
      "needs_background": "light"
     },
     "output_type": "display_data"
    }
   ],
   "source": [
    "# Validation AUC\n",
    "val_predictions = lgbm.predict_proba(X_val, num_iteration=lgbm.best_iteration_)[:,1]\n",
    "show_auc_roc(y_val, val_predictions, 'Validation')"
   ]
  },
  {
   "cell_type": "markdown",
   "metadata": {},
   "source": [
    "### Tune LGBM model"
   ]
  },
  {
   "cell_type": "code",
   "execution_count": 22,
   "metadata": {},
   "outputs": [
    {
     "name": "stdout",
     "output_type": "stream",
     "text": [
      "CPU times: user 1h 33min 17s, sys: 4min 17s, total: 1h 37min 34s\n",
      "Wall time: 13min 27s\n"
     ]
    },
    {
     "data": {
      "text/plain": [
       "LGBMClassifier(bagging_fraction=0.75, bagging_freq=5, boosting_type='gbdt',\n",
       "               class_weight=None, colsample_bytree=1.0, feature_fraction=0.85,\n",
       "               importance_type='split', learning_rate=0.01, max_bin=128,\n",
       "               max_depth=64, metric='auc', min_child_samples=20,\n",
       "               min_child_weight=0.001, min_data_in_leaf=10, min_split_gain=0.0,\n",
       "               n_estimators=3000, n_jobs=-1, num_leaves=128, objective='binary',\n",
       "               random_state=42, reg_alpha=0.0, reg_lambda=0.0, silent=True,\n",
       "               subsample=1.0, subsample_for_bin=200000, subsample_freq=0,\n",
       "               verbose=1)"
      ]
     },
     "execution_count": 22,
     "metadata": {},
     "output_type": "execute_result"
    }
   ],
   "source": [
    "%%time\n",
    "\n",
    "# Tuning LGBM for overfitting\n",
    "params={'learning_rate': 0.01,\n",
    "        'objective': 'binary',\n",
    "        'metric': 'auc',\n",
    "        'max_bin': 128,\n",
    "        'num_leaves': 128,\n",
    "        'min_data_in_leaf': 10,\n",
    "        'verbose': 1,\n",
    "        'random_state': 42,\n",
    "        'bagging_fraction': 0.75,\n",
    "        'bagging_freq': 5,\n",
    "        'feature_fraction': 0.85,\n",
    "        'max_depth': 64,\n",
    "       }\n",
    "\n",
    "lgbm = lgb.LGBMClassifier(**params, n_estimators=3000)\n",
    "# Train the model\n",
    "lgbm.fit(X_train, y_train)\n"
   ]
  },
  {
   "cell_type": "code",
   "execution_count": 23,
   "metadata": {},
   "outputs": [
    {
     "name": "stdout",
     "output_type": "stream",
     "text": [
      "Confusion Matrix\n",
      "true positive 11447, false positive: 8\n",
      "false negative: 1581, true negative: 364909\n",
      "Precision: 0.999, Recall: 0.879\n",
      "F1 score: 0.935\n"
     ]
    }
   ],
   "source": [
    "# Predict Training\n",
    "train_preds = lgbm.predict(X_train, num_iteration=lgbm.best_iteration_)\n",
    "show_scores(y_train, train_preds)"
   ]
  },
  {
   "cell_type": "code",
   "execution_count": 24,
   "metadata": {},
   "outputs": [
    {
     "name": "stdout",
     "output_type": "stream",
     "text": [
      "Confusion Matrix\n",
      "true positive 1761, false positive: 63\n",
      "false negative: 1632, true negative: 91031\n",
      "Precision: 0.965, Recall: 0.519\n",
      "F1 score: 0.675\n"
     ]
    }
   ],
   "source": [
    "# Predict Test\n",
    "val_preds = lgbm.predict(X_val, num_iteration=lgbm.best_iteration_)\n",
    "show_scores(y_val, val_preds)"
   ]
  },
  {
   "cell_type": "code",
   "execution_count": 25,
   "metadata": {},
   "outputs": [
    {
     "name": "stdout",
     "output_type": "stream",
     "text": [
      "Training AUC: 1.000\n"
     ]
    },
    {
     "data": {
      "image/png": "[encoded data removed]",
      "text/plain": [
       "<Figure size 432x288 with 1 Axes>"
      ]
     },
     "metadata": {
      "needs_background": "light"
     },
     "output_type": "display_data"
    }
   ],
   "source": [
    "# Validation AUC\n",
    "train_predictions = lgbm.predict_proba(X_train, num_iteration=lgbm.best_iteration_)[:,1]\n",
    "show_auc_roc(y_train, train_predictions, 'Training')"
   ]
  },
  {
   "cell_type": "code",
   "execution_count": 26,
   "metadata": {},
   "outputs": [
    {
     "name": "stdout",
     "output_type": "stream",
     "text": [
      "Test AUC: 1.000\n"
     ]
    },
    {
     "data": {
      "image/png": "[encoded data removed]",
      "text/plain": [
       "<Figure size 432x288 with 1 Axes>"
      ]
     },
     "metadata": {
      "needs_background": "light"
     },
     "output_type": "display_data"
    }
   ],
   "source": [
    "# Test AUC\n",
    "val_predictions = lgbm.predict_proba(X_val, num_iteration=lgbm.best_iteration_)[:,1]\n",
    "show_auc_roc(y_val, val_predictions, 'Test')"
   ]
  },
  {
   "cell_type": "markdown",
   "metadata": {},
   "source": [
    "### more tuning LGBM model - Best Model"
   ]
  },
  {
   "cell_type": "code",
   "execution_count": 27,
   "metadata": {},
   "outputs": [
    {
     "name": "stdout",
     "output_type": "stream",
     "text": [
      "CPU times: user 2h 40min 7s, sys: 7min 15s, total: 2h 47min 22s\n",
      "Wall time: 22min 38s\n"
     ]
    },
    {
     "data": {
      "text/plain": [
       "LGBMClassifier(bagging_fraction=0.85, bagging_freq=10, boosting_type='gbdt',\n",
       "               class_weight=None, colsample_bytree=1.0, feature_fraction=0.9,\n",
       "               importance_type='split', learning_rate=0.03, max_bin=256,\n",
       "               max_depth=128, metric='auc', min_child_samples=20,\n",
       "               min_child_weight=0.001, min_data_in_leaf=10, min_split_gain=0.0,\n",
       "               n_estimators=3000, n_jobs=-1, num_leaves=256, objective='binary',\n",
       "               random_state=42, reg_alpha=0.0, reg_lambda=0.0, silent=True,\n",
       "               subsample=1.0, subsample_for_bin=200000, subsample_freq=0,\n",
       "               verbose=1)"
      ]
     },
     "execution_count": 27,
     "metadata": {},
     "output_type": "execute_result"
    }
   ],
   "source": [
    "%%time\n",
    "\n",
    "# Tuning LGBM for overfitting\n",
    "# The best model\n",
    "params={'learning_rate': 0.03,\n",
    "        'objective': 'binary',\n",
    "        'metric': 'auc',\n",
    "        'max_bin': 256,\n",
    "        'num_leaves': 256,\n",
    "        'min_data_in_leaf': 10,\n",
    "        'verbose': 1,\n",
    "        'random_state': 42,\n",
    "        'bagging_fraction': 0.85,\n",
    "        'bagging_freq': 10,\n",
    "        'feature_fraction': 0.9,\n",
    "        'max_depth': 128,\n",
    "       }\n",
    "\n",
    "lgbm = lgb.LGBMClassifier(**params, n_estimators=3000)\n",
    "# Train the model\n",
    "lgbm.fit(X_train, y_train)\n"
   ]
  },
  {
   "cell_type": "code",
   "execution_count": 28,
   "metadata": {},
   "outputs": [
    {
     "name": "stdout",
     "output_type": "stream",
     "text": [
      "Confusion Matrix\n",
      "true positive 13028, false positive: 1\n",
      "false negative: 0, true negative: 364916\n",
      "Precision: 1.000, Recall: 1.000\n",
      "F1 score: 1.000\n"
     ]
    }
   ],
   "source": [
    "# Predict Training\n",
    "train_preds = lgbm.predict(X_train, num_iteration=lgbm.best_iteration_)\n",
    "show_scores(y_train, train_preds)"
   ]
  },
  {
   "cell_type": "code",
   "execution_count": 29,
   "metadata": {},
   "outputs": [
    {
     "name": "stdout",
     "output_type": "stream",
     "text": [
      "Confusion Matrix\n",
      "true positive 2022, false positive: 36\n",
      "false negative: 1371, true negative: 91058\n",
      "Precision: 0.983, Recall: 0.596\n",
      "F1 score: 0.742\n"
     ]
    }
   ],
   "source": [
    "# Predict Validation\n",
    "val_preds = lgbm.predict(X_val, num_iteration=lgbm.best_iteration_)\n",
    "show_scores(y_val, val_preds)"
   ]
  },
  {
   "cell_type": "code",
   "execution_count": 30,
   "metadata": {},
   "outputs": [
    {
     "name": "stdout",
     "output_type": "stream",
     "text": [
      "Training AUC: 1.000\n"
     ]
    },
    {
     "data": {
      "image/png": "[encoded data removed]",
      "text/plain": [
       "<Figure size 432x288 with 1 Axes>"
      ]
     },
     "metadata": {
      "needs_background": "light"
     },
     "output_type": "display_data"
    }
   ],
   "source": [
    "# AUC on Training \n",
    "train_predictions = lgbm.predict_proba(X_train, num_iteration=lgbm.best_iteration_)[:,1]\n",
    "show_auc_roc(y_train, train_predictions, 'Training')"
   ]
  },
  {
   "cell_type": "code",
   "execution_count": 31,
   "metadata": {},
   "outputs": [
    {
     "name": "stdout",
     "output_type": "stream",
     "text": [
      "Validation AUC: 1.000\n"
     ]
    },
    {
     "data": {
      "image/png": "[encoded data removed]",
      "text/plain": [
       "<Figure size 432x288 with 1 Axes>"
      ]
     },
     "metadata": {
      "needs_background": "light"
     },
     "output_type": "display_data"
    }
   ],
   "source": [
    "# AUC on Validation\n",
    "val_predictions = lgbm.predict_proba(X_val, num_iteration=lgbm.best_iteration_)[:,1]\n",
    "show_auc_roc(y_val, test_predictions, 'Validation')"
   ]
  },
  {
   "cell_type": "markdown",
   "metadata": {},
   "source": [
    "### another tuning"
   ]
  },
  {
   "cell_type": "code",
   "execution_count": 32,
   "metadata": {},
   "outputs": [
    {
     "name": "stdout",
     "output_type": "stream",
     "text": [
      "CPU times: user 2h 31min 4s, sys: 3min 31s, total: 2h 34min 36s\n",
      "Wall time: 14min 44s\n"
     ]
    },
    {
     "data": {
      "text/plain": [
       "LGBMClassifier(bagging_fraction=0.85, bagging_freq=10, boosting_type='gbdt',\n",
       "               class_weight=None, colsample_bytree=1.0, feature_fraction=0.9,\n",
       "               importance_type='split', lambda_l1=0.2, lambda_l2=0.2,\n",
       "               learning_rate=0.03, max_bin=256, max_depth=128, metric='auc',\n",
       "               min_child_samples=20, min_child_weight=0.001,\n",
       "               min_data_in_leaf=10, min_split_gain=0.0, n_estimators=3000,\n",
       "               n_jobs=-1, num_leaves=256, objective='binary', random_state=42,\n",
       "               reg_alpha=0.0, reg_lambda=0.0, silent=True, subsample=1.0,\n",
       "               subsample_for_bin=200000, subsample_freq=0, verbose=1)"
      ]
     },
     "execution_count": 32,
     "metadata": {},
     "output_type": "execute_result"
    }
   ],
   "source": [
    "%%time\n",
    "\n",
    "# Tuning LGBM for overfitting\n",
    "params={'learning_rate': 0.03,\n",
    "        'objective': 'binary',\n",
    "        'metric': 'auc',\n",
    "        'max_bin': 256,\n",
    "        'num_leaves': 256,\n",
    "        'min_data_in_leaf': 10,\n",
    "        'verbose': 1,\n",
    "        'random_state': 42,\n",
    "        'bagging_fraction': 0.85,\n",
    "        'bagging_freq': 10,\n",
    "        'feature_fraction': 0.9,\n",
    "        'lambda_l2': 0.2,\n",
    "        'lambda_l1': 0.2,\n",
    "        'max_depth': 128,\n",
    "       }\n",
    "\n",
    "train_predictions = np.zeros(X_train.shape[0])\n",
    "test_predictions = np.zeros(X_test.shape[0])\n",
    "\n",
    "lgbm = lgb.LGBMClassifier(**params, n_estimators=3000)\n",
    "# Train the model\n",
    "lgbm.fit(X_train, y_train)\n"
   ]
  },
  {
   "cell_type": "code",
   "execution_count": 33,
   "metadata": {},
   "outputs": [
    {
     "name": "stdout",
     "output_type": "stream",
     "text": [
      "Confusion Matrix\n",
      "true positive 13028, false positive: 1\n",
      "false negative: 0, true negative: 364916\n",
      "Precision: 1.000, Recall: 1.000\n",
      "F1 score: 1.000\n"
     ]
    }
   ],
   "source": [
    "# Predict Training\n",
    "train_preds = lgbm.predict(X_train, num_iteration=lgbm.best_iteration_)\n",
    "show_scores(y_train, train_preds)"
   ]
  },
  {
   "cell_type": "code",
   "execution_count": 35,
   "metadata": {},
   "outputs": [
    {
     "name": "stdout",
     "output_type": "stream",
     "text": [
      "Confusion Matrix\n",
      "true positive 2033, false positive: 53\n",
      "false negative: 1360, true negative: 91041\n",
      "Precision: 0.975, Recall: 0.599\n",
      "F1 score: 0.742\n"
     ]
    }
   ],
   "source": [
    "# Predict Validation\n",
    "val_preds = lgbm.predict(X_val, num_iteration=lgbm.best_iteration_)\n",
    "show_scores(y_val, val_preds)"
   ]
  },
  {
   "cell_type": "code",
   "execution_count": 36,
   "metadata": {},
   "outputs": [
    {
     "name": "stdout",
     "output_type": "stream",
     "text": [
      "Training AUC: 1.000\n"
     ]
    },
    {
     "data": {
      "image/png": "[encoded data removed]",
      "text/plain": [
       "<Figure size 432x288 with 1 Axes>"
      ]
     },
     "metadata": {
      "needs_background": "light"
     },
     "output_type": "display_data"
    }
   ],
   "source": [
    "train_predictions = lgbm.predict_proba(X_train, num_iteration=lgbm.best_iteration_)[:,1]\n",
    "show_auc_roc(y_train, train_predictions, 'Training')"
   ]
  },
  {
   "cell_type": "code",
   "execution_count": 37,
   "metadata": {},
   "outputs": [
    {
     "name": "stdout",
     "output_type": "stream",
     "text": [
      "Validation AUC: 1.000\n"
     ]
    },
    {
     "data": {
      "image/png": "[encoded data removed]",
      "text/plain": [
       "<Figure size 432x288 with 1 Axes>"
      ]
     },
     "metadata": {
      "needs_background": "light"
     },
     "output_type": "display_data"
    }
   ],
   "source": [
    "# Validation\n",
    "val_predictions = lgbm.predict_proba(X_val, num_iteration=lgbm.best_iteration_)[:,1]\n",
    "show_auc_roc(y_val, val_predictions, 'Validation')"
   ]
  },
  {
   "cell_type": "markdown",
   "metadata": {},
   "source": [
    "## Test on held out Test set"
   ]
  },
  {
   "cell_type": "code",
   "execution_count": 38,
   "metadata": {},
   "outputs": [
    {
     "name": "stdout",
     "output_type": "stream",
     "text": [
      "CPU times: user 2h 32min 43s, sys: 3min 33s, total: 2h 36min 17s\n",
      "Wall time: 14min 54s\n"
     ]
    },
    {
     "data": {
      "text/plain": [
       "LGBMClassifier(bagging_fraction=0.85, bagging_freq=10, boosting_type='gbdt',\n",
       "               class_weight=None, colsample_bytree=1.0, feature_fraction=0.9,\n",
       "               importance_type='split', learning_rate=0.03, max_bin=256,\n",
       "               max_depth=128, metric='auc', min_child_samples=20,\n",
       "               min_child_weight=0.001, min_data_in_leaf=10, min_split_gain=0.0,\n",
       "               n_estimators=3000, n_jobs=-1, num_leaves=256, objective='binary',\n",
       "               random_state=42, reg_alpha=0.0, reg_lambda=0.0, silent=True,\n",
       "               subsample=1.0, subsample_for_bin=200000, subsample_freq=0,\n",
       "               verbose=1)"
      ]
     },
     "execution_count": 38,
     "metadata": {},
     "output_type": "execute_result"
    }
   ],
   "source": [
    "%%time\n",
    "\n",
    "# Tuning LGBM for overfitting\n",
    "# The best model\n",
    "params={'learning_rate': 0.03,\n",
    "        'objective': 'binary',\n",
    "        'metric': 'auc',\n",
    "        'max_bin': 256,\n",
    "        'num_leaves': 256,\n",
    "        'min_data_in_leaf': 10,\n",
    "        'verbose': 1,\n",
    "        'random_state': 42,\n",
    "        'bagging_fraction': 0.85,\n",
    "        'bagging_freq': 10,\n",
    "        'feature_fraction': 0.9,\n",
    "        'max_depth': 128,\n",
    "       }\n",
    "\n",
    "lgbm = lgb.LGBMClassifier(**params, n_estimators=3000)\n",
    "# Train the model\n",
    "lgbm.fit(X_train, y_train)\n"
   ]
  },
  {
   "cell_type": "code",
   "execution_count": 39,
   "metadata": {},
   "outputs": [
    {
     "name": "stdout",
     "output_type": "stream",
     "text": [
      "Confusion Matrix\n",
      "true positive 2022, false positive: 36\n",
      "false negative: 1371, true negative: 91058\n",
      "Precision: 0.983, Recall: 0.596\n",
      "F1 score: 0.742\n"
     ]
    }
   ],
   "source": [
    "# Predict Validation\n",
    "val_preds = lgbm.predict(X_val, num_iteration=lgbm.best_iteration_)\n",
    "show_scores(y_val, val_preds)"
   ]
  },
  {
   "cell_type": "code",
   "execution_count": 40,
   "metadata": {},
   "outputs": [
    {
     "name": "stdout",
     "output_type": "stream",
     "text": [
      "Validation AUC: 1.000\n"
     ]
    },
    {
     "data": {
      "image/png": "[encoded data removed]",
      "text/plain": [
       "<Figure size 432x288 with 1 Axes>"
      ]
     },
     "metadata": {
      "needs_background": "light"
     },
     "output_type": "display_data"
    }
   ],
   "source": [
    "# Validation\n",
    "val_predictions = lgbm.predict_proba(X_val, num_iteration=lgbm.best_iteration_)[:,1]\n",
    "show_auc_roc(y_val, val_predictions, 'Validation')"
   ]
  },
  {
   "cell_type": "code",
   "execution_count": 41,
   "metadata": {},
   "outputs": [
    {
     "name": "stdout",
     "output_type": "stream",
     "text": [
      "Confusion Matrix\n",
      "true positive 2521, false positive: 39\n",
      "false negative: 1721, true negative: 113827\n",
      "Precision: 0.985, Recall: 0.594\n",
      "F1 score: 0.741\n"
     ]
    }
   ],
   "source": [
    "# Predict Test\n",
    "test_preds = lgbm.predict(X_test, num_iteration=lgbm.best_iteration_)\n",
    "show_scores(y_test, test_preds)"
   ]
  },
  {
   "cell_type": "code",
   "execution_count": 42,
   "metadata": {},
   "outputs": [
    {
     "name": "stdout",
     "output_type": "stream",
     "text": [
      "Test AUC: 1.000\n"
     ]
    },
    {
     "data": {
      "image/png": "[encoded data removed]",
      "text/plain": [
       "<Figure size 432x288 with 1 Axes>"
      ]
     },
     "metadata": {
      "needs_background": "light"
     },
     "output_type": "display_data"
    }
   ],
   "source": [
    "# Test \n",
    "test_predictions = lgbm.predict_proba(X_test, num_iteration=lgbm.best_iteration_)[:,1]\n",
    "show_auc_roc(y_test, test_predictions, 'Test')"
   ]
  },
  {
   "cell_type": "markdown",
   "metadata": {},
   "source": [
    "# "
   ]
  },
  {
   "cell_type": "code",
   "execution_count": null,
   "metadata": {},
   "outputs": [],
   "source": [
    "kfold = KFold(3, True, 1)"
   ]
  }
 ],
 "metadata": {
  "kernelspec": {
   "display_name": "Python 3",
   "language": "python",
   "name": "python3"
  },
  "language_info": {
   "codemirror_mode": {
    "name": "ipython",
    "version": 3
   },
   "file_extension": ".py",
   "mimetype": "text/x-python",
   "name": "python",
   "nbconvert_exporter": "python",
   "pygments_lexer": "ipython3",
   "version": "3.7.3"
  }
 },
 "nbformat": 4,
 "nbformat_minor": 2
}
